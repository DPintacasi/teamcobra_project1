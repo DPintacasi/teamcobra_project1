{
 "cells": [
  {
   "cell_type": "code",
   "execution_count": 51,
   "metadata": {},
   "outputs": [],
   "source": [
    "#Dependencies & setup\n",
    "import pandas as pd\n",
    "import numpy as np\n",
    "import matplotlib.pyplot as plt\n",
    "import requests\n",
    "import gmaps\n",
    "import os\n",
    "import json\n",
    "import pprint\n",
    "\n",
    "#Import yelp API key\n",
    "from config import yelp_api\n",
    "\n",
    "# Import Google API key\n",
    "from config import google_key"
   ]
  },
  {
   "cell_type": "code",
   "execution_count": 52,
   "metadata": {},
   "outputs": [
    {
     "data": {
      "text/html": [
       "<div>\n",
       "<style scoped>\n",
       "    .dataframe tbody tr th:only-of-type {\n",
       "        vertical-align: middle;\n",
       "    }\n",
       "\n",
       "    .dataframe tbody tr th {\n",
       "        vertical-align: top;\n",
       "    }\n",
       "\n",
       "    .dataframe thead th {\n",
       "        text-align: right;\n",
       "    }\n",
       "</style>\n",
       "<table border=\"1\" class=\"dataframe\">\n",
       "  <thead>\n",
       "    <tr style=\"text-align: right;\">\n",
       "      <th></th>\n",
       "      <th>zipcode</th>\n",
       "    </tr>\n",
       "  </thead>\n",
       "  <tbody>\n",
       "    <tr>\n",
       "      <th>0</th>\n",
       "      <td>75032</td>\n",
       "    </tr>\n",
       "    <tr>\n",
       "      <th>1</th>\n",
       "      <td>75039</td>\n",
       "    </tr>\n",
       "    <tr>\n",
       "      <th>2</th>\n",
       "      <td>75041</td>\n",
       "    </tr>\n",
       "    <tr>\n",
       "      <th>3</th>\n",
       "      <td>75060</td>\n",
       "    </tr>\n",
       "    <tr>\n",
       "      <th>4</th>\n",
       "      <td>75061</td>\n",
       "    </tr>\n",
       "    <tr>\n",
       "      <th>...</th>\n",
       "      <td>...</td>\n",
       "    </tr>\n",
       "    <tr>\n",
       "      <th>57</th>\n",
       "      <td>75247</td>\n",
       "    </tr>\n",
       "    <tr>\n",
       "      <th>58</th>\n",
       "      <td>75251</td>\n",
       "    </tr>\n",
       "    <tr>\n",
       "      <th>59</th>\n",
       "      <td>75252</td>\n",
       "    </tr>\n",
       "    <tr>\n",
       "      <th>60</th>\n",
       "      <td>75270</td>\n",
       "    </tr>\n",
       "    <tr>\n",
       "      <th>61</th>\n",
       "      <td>75390</td>\n",
       "    </tr>\n",
       "  </tbody>\n",
       "</table>\n",
       "<p>62 rows × 1 columns</p>\n",
       "</div>"
      ],
      "text/plain": [
       "   zipcode\n",
       "0    75032\n",
       "1    75039\n",
       "2    75041\n",
       "3    75060\n",
       "4    75061\n",
       "..     ...\n",
       "57   75247\n",
       "58   75251\n",
       "59   75252\n",
       "60   75270\n",
       "61   75390\n",
       "\n",
       "[62 rows x 1 columns]"
      ]
     },
     "execution_count": 52,
     "metadata": {},
     "output_type": "execute_result"
    }
   ],
   "source": [
    "# read in Dallas zip csv\n",
    "dallas_zips = pd.read_csv(\"./Resources/dallas_zipcodes.csv\")\n",
    "# drop last line (citation)\n",
    "dallas_zips.drop(dallas_zips.tail(1).index,inplace=True)\n",
    "#rename column header\n",
    "dallas_zips = dallas_zips.rename(columns={\"Dallas\":\"zipcode\"})\n",
    "dallas_zips"
   ]
  },
  {
   "cell_type": "code",
   "execution_count": 53,
   "metadata": {},
   "outputs": [],
   "source": [
    "# create empty lists for data\n",
    "name = []\n",
    "city = []\n",
    "latitude = []\n",
    "longitude = []\n",
    "zipcode = []\n",
    "ethnicity = []\n",
    "price = []\n",
    "rating = []"
   ]
  },
  {
   "cell_type": "markdown",
   "metadata": {},
   "source": [
    "*Each Yelp API call will return max 50 results.  Therefore, I will do a separate query for each ethnicity, create a list of each json dictionary & append to create a \"master\" dataframe"
   ]
  },
  {
   "cell_type": "code",
   "execution_count": 54,
   "metadata": {},
   "outputs": [
    {
     "name": "stdout",
     "output_type": "stream",
     "text": [
      "99\n"
     ]
    }
   ],
   "source": [
    "dallas_coords = \"32.779167, -96.808891\"\n",
    "# type/ethnicity of food is stored in yelp API under \"categories:alias -- MUST BE ONE WORD!\"\n",
    "ethnicity = ['chinese','french','greek','indian','italian','japanese','brazilian','mexican','new american','soul food','thai']\n",
    "# YELP base URL\n",
    "endpoint = 'https://api.yelp.com/v3/businesses/search'\n",
    "headers = {'Authorization': 'Bearer %s' % yelp_api}\n",
    "params = {\"term\": \"restaurants\", \"location\": \"dallas\", \"limit\": 50, \"categories\": \"chinese\"}\n",
    "#max results per call is 50, so add offset param (\"offset\" = 50, 100, etc.) to get full list per ethnicity\n",
    "#\"limit\": 50\n",
    "\n",
    "# Pretty Print the output of JSON data\n",
    "chinese1_response = requests.get(url=endpoint, headers=headers, params=params).json()\n",
    "print(chinese1_response[\"total\"])\n",
    "#print(json.dumps(chinese1_response, indent=4, sort_keys=True))\n",
    "\n"
   ]
  },
  {
   "cell_type": "code",
   "execution_count": 55,
   "metadata": {},
   "outputs": [],
   "source": [
    "#dallas_coords = \"32.779167, -96.808891\"\n",
    "# type/ethnicity of food is stored in yelp API under \"categories:alias -- MUST BE ONE WORD!\"\n",
    "#ethnicity = ['chinese','french','greek','indian','italian','japanese','brazilian','mexican','new american','soul food','thai']\n",
    "\n",
    "# YELP base URL\n",
    "endpoint = 'https://api.yelp.com/v3/businesses/search'\n",
    "headers = {'Authorization': 'Bearer %s' % yelp_api}\n",
    "params = {\"term\": \"restaurants\", \"location\": \"dallas\", \"limit\": 50,  \"offset\": 50, \"categories\": \"chinese\"}\n",
    "#max results per call is 50, so add offset param (\"offset\": 50, 100, etc.) to get full list per ethnicity\n",
    "#\"limit\": 50\n",
    "\n",
    "# Pretty Print the output of JSON data\n",
    "chinese2_response = requests.get(url=endpoint, headers=headers, params=params).json()\n",
    "#print(chinese2_response[\"total\"])\n",
    "#print(json.dumps(chinese2_response, indent=4, sort_keys=True))"
   ]
  },
  {
   "cell_type": "code",
   "execution_count": 56,
   "metadata": {},
   "outputs": [
    {
     "name": "stdout",
     "output_type": "stream",
     "text": [
      "18\n"
     ]
    }
   ],
   "source": [
    "dallas_coords = \"32.779167, -96.808891\"\n",
    "# type/ethnicity of food is stored in yelp API under \"categories:alias -- MUST BE ONE WORD!\"\n",
    "ethnicity = ['chinese','french','greek','indian','italian','japanese','brazilian','mexican','new american','soul food','thai']\n",
    "# YELP base URL\n",
    "endpoint = 'https://api.yelp.com/v3/businesses/search'\n",
    "headers = {'Authorization': 'Bearer %s' % yelp_api}\n",
    "params = {\"term\": \"restaurants\", \"location\": \"dallas\", \"limit\": 50, \"categories\": \"french\"}\n",
    "#max results per call is 50, so add offset param (\"offset\" = 50, 100, etc.) to get full list per ethnicity\n",
    "#\"limit\": 50\n",
    "\n",
    "# Pretty Print the output of JSON data\n",
    "french_response = requests.get(url=endpoint, headers=headers, params=params).json()\n",
    "print(french_response[\"total\"])\n",
    "#print(json.dumps(french_response, indent=4, sort_keys=True))"
   ]
  },
  {
   "cell_type": "code",
   "execution_count": 57,
   "metadata": {},
   "outputs": [
    {
     "name": "stdout",
     "output_type": "stream",
     "text": [
      "24\n"
     ]
    }
   ],
   "source": [
    "dallas_coords = \"32.779167, -96.808891\"\n",
    "# type/ethnicity of food is stored in yelp API under \"categories:alias -- MUST BE ONE WORD!\"\n",
    "ethnicity = ['chinese','french','greek','indian','italian','japanese','brazilian','mexican','new american','soul food','thai']\n",
    "# YELP base URL\n",
    "endpoint = 'https://api.yelp.com/v3/businesses/search'\n",
    "headers = {'Authorization': 'Bearer %s' % yelp_api}\n",
    "params = {\"term\": \"restaurants\", \"location\": \"dallas\", \"limit\": 50, \"categories\": \"greek\"}\n",
    "#max results per call is 50, so add offset param (\"offset\" = 50, 100, etc.) to get full list per ethnicity\n",
    "#\"limit\": 50\n",
    "\n",
    "# Pretty Print the output of JSON data\n",
    "greek_response = requests.get(url=endpoint, headers=headers, params=params).json()\n",
    "print(greek_response[\"total\"])\n",
    "#print(json.dumps(greek_response, indent=4, sort_keys=True))"
   ]
  },
  {
   "cell_type": "code",
   "execution_count": 58,
   "metadata": {},
   "outputs": [
    {
     "name": "stdout",
     "output_type": "stream",
     "text": [
      "13\n"
     ]
    }
   ],
   "source": [
    "# dallas_coords = \"32.779167, -96.808891\"\n",
    "# # type/ethnicity of food is stored in yelp API under \"categories:alias -- MUST BE ONE WORD!\"\n",
    "ethnicity = ['chinese','french','greek','indian','italian','japanese','brazilian','mexican','new american','soul food','thai']\n",
    "# # YELP base URL\n",
    "endpoint = 'https://api.yelp.com/v3/businesses/search'\n",
    "headers = {'Authorization': 'Bearer %s' % yelp_api}\n",
    "params = {\"term\": \"restaurants\", \"location\": \"dallas\", \"limit\": 50, \"categories\": \"indpak\"}\n",
    "# #max results per call is 50, so add offset param (\"offset\" = 50, 100, etc.) to get full list per ethnicity\n",
    "# #\"limit\": 50\n",
    "\n",
    "# # Pretty Print the output of JSON data\n",
    "indian_response = requests.get(url=endpoint, headers=headers, params=params).json()\n",
    "print(indian_response[\"total\"])\n",
    "# print(json.dumps(indian_response, indent=4, sort_keys=True))"
   ]
  },
  {
   "cell_type": "code",
   "execution_count": 59,
   "metadata": {},
   "outputs": [
    {
     "name": "stdout",
     "output_type": "stream",
     "text": [
      "138\n"
     ]
    }
   ],
   "source": [
    "dallas_coords = \"32.779167, -96.808891\"\n",
    "# type/ethnicity of food is stored in yelp API under \"categories:alias -- MUST BE ONE WORD!\"\n",
    "ethnicity = ['chinese','french','greek','indian','italian','japanese','brazilian','mexican','new american','soul food','thai']\n",
    "# YELP base URL\n",
    "endpoint = 'https://api.yelp.com/v3/businesses/search'\n",
    "headers = {'Authorization': 'Bearer %s' % yelp_api}\n",
    "params = {\"term\": \"restaurants\", \"location\": \"dallas\", \"limit\": 50, \"categories\": \"italian\"}\n",
    "#max results per call is 50, so add offset param (\"offset\" = 50, 100, etc.) to get full list per ethnicity\n",
    "#\"limit\": 50\n",
    "\n",
    "# Pretty Print the output of JSON data\n",
    "italian1_response = requests.get(url=endpoint, headers=headers, params=params).json()\n",
    "print(italian1_response[\"total\"])\n",
    "#print(json.dumps(italian1_response, indent=4, sort_keys=True))"
   ]
  },
  {
   "cell_type": "code",
   "execution_count": 60,
   "metadata": {},
   "outputs": [],
   "source": [
    "dallas_coords = \"32.779167, -96.808891\"\n",
    "# type/ethnicity of food is stored in yelp API under \"categories:alias -- MUST BE ONE WORD!\"\n",
    "ethnicity = ['chinese','french','greek','indian','italian','japanese','brazilian','mexican','new american','soul food','thai']\n",
    "# YELP base URL\n",
    "endpoint = 'https://api.yelp.com/v3/businesses/search'\n",
    "headers = {'Authorization': 'Bearer %s' % yelp_api}\n",
    "params = {\"term\": \"restaurants\", \"location\": \"dallas\", \"limit\": 50, \"offset\": 50, \"categories\": \"italian\"}\n",
    "#max results per call is 50, so add offset param (\"offset\" = 50, 100, etc.) to get full list per ethnicity\n",
    "#\"limit\": 50\n",
    "\n",
    "# Pretty Print the output of JSON data\n",
    "italian2_response = requests.get(url=endpoint, headers=headers, params=params).json()\n",
    "#print(italian2_response[\"total\"])\n",
    "#print(json.dumps(italian2_response, indent=4, sort_keys=True))"
   ]
  },
  {
   "cell_type": "code",
   "execution_count": 61,
   "metadata": {},
   "outputs": [],
   "source": [
    "dallas_coords = \"32.779167, -96.808891\"\n",
    "# type/ethnicity of food is stored in yelp API under \"categories:alias -- MUST BE ONE WORD!\"\n",
    "ethnicity = ['chinese','french','greek','indian','italian','japanese','brazilian','mexican','new american','soul food','thai']\n",
    "# YELP base URL\n",
    "endpoint = 'https://api.yelp.com/v3/businesses/search'\n",
    "headers = {'Authorization': 'Bearer %s' % yelp_api}\n",
    "params = {\"term\": \"restaurants\", \"location\": \"dallas\", \"limit\": 50, \"offset\": 100, \"categories\": \"italian\"}\n",
    "#max results per call is 50, so add offset param (\"offset\": 50, 100, etc.) to get full list per ethnicity\n",
    "#\"limit\": 50\n",
    "\n",
    "# Pretty Print the output of JSON data\n",
    "italian3_response = requests.get(url=endpoint, headers=headers, params=params).json()\n",
    "#print(italian3_response[\"total\"])\n",
    "#print(json.dumps(italian3_response, indent=4, sort_keys=True))"
   ]
  },
  {
   "cell_type": "code",
   "execution_count": 62,
   "metadata": {},
   "outputs": [
    {
     "name": "stdout",
     "output_type": "stream",
     "text": [
      "65\n"
     ]
    }
   ],
   "source": [
    "dallas_coords = \"32.779167, -96.808891\"\n",
    "# type/ethnicity of food is stored in yelp API under \"categories:alias -- MUST BE ONE WORD!\"\n",
    "ethnicity = ['chinese','french','greek','indian','italian','japanese','brazilian','mexican','new american','soul food','thai']\n",
    "# YELP base URL\n",
    "endpoint = 'https://api.yelp.com/v3/businesses/search'\n",
    "headers = {'Authorization': 'Bearer %s' % yelp_api}\n",
    "params = {\"term\": \"restaurants\", \"location\": \"dallas\", \"limit\": 50, \"categories\": \"japanese\"}\n",
    "#max results per call is 50, so add offset param (\"offset\": 50, 100, etc.) to get full list per ethnicity\n",
    "#\"limit\": 50\n",
    "\n",
    "# Pretty Print the output of JSON data\n",
    "japanese1_response = requests.get(url=endpoint, headers=headers, params=params).json()\n",
    "print(japanese1_response[\"total\"])\n",
    "#print(json.dumps(japanese_response, indent=4, sort_keys=True))"
   ]
  },
  {
   "cell_type": "code",
   "execution_count": 63,
   "metadata": {},
   "outputs": [],
   "source": [
    "dallas_coords = \"32.779167, -96.808891\"\n",
    "# type/ethnicity of food is stored in yelp API under \"categories:alias -- MUST BE ONE WORD!\"\n",
    "ethnicity = ['chinese','french','greek','indian','italian','japanese','brazilian','mexican','new american','soul food','thai']\n",
    "# YELP base URL\n",
    "endpoint = 'https://api.yelp.com/v3/businesses/search'\n",
    "headers = {'Authorization': 'Bearer %s' % yelp_api}\n",
    "params = {\"term\": \"restaurants\", \"location\": \"dallas\", \"limit\": 50, \"offset\": 50, \"categories\": \"japanese\"}\n",
    "#max results per call is 50, so add offset param (\"offset\": 50, 100, etc.) to get full list per ethnicity\n",
    "#\"limit\": 50\n",
    "\n",
    "# Pretty Print the output of JSON data\n",
    "japanese2_response = requests.get(url=endpoint, headers=headers, params=params).json()\n",
    "#print(japanese2_response[\"total\"])\n",
    "#print(json.dumps(japanese2_response, indent=4, sort_keys=True))"
   ]
  },
  {
   "cell_type": "code",
   "execution_count": 64,
   "metadata": {},
   "outputs": [
    {
     "name": "stdout",
     "output_type": "stream",
     "text": [
      "7\n"
     ]
    }
   ],
   "source": [
    "dallas_coords = \"32.779167, -96.808891\"\n",
    "# type/ethnicity of food is stored in yelp API under \"categories:alias -- MUST BE ONE WORD!\"\n",
    "ethnicity = ['chinese','french','greek','indian','italian','japanese','brazilian','mexican','new american','soul food','thai']\n",
    "# YELP base URL\n",
    "endpoint = 'https://api.yelp.com/v3/businesses/search'\n",
    "headers = {'Authorization': 'Bearer %s' % yelp_api}\n",
    "params = {\"term\": \"restaurants\", \"location\": \"dallas\", \"limit\": 50, \"categories\": \"brazilian\"}\n",
    "#max results per call is 50, so add offset param (\"offset\": 50, 100, etc.) to get full list per ethnicity\n",
    "#\"limit\": 50\n",
    "\n",
    "# Pretty Print the output of JSON data\n",
    "brazilian_response = requests.get(url=endpoint, headers=headers, params=params).json()\n",
    "print(brazilian_response[\"total\"])\n",
    "#print(json.dumps(brazilian_response, indent=4, sort_keys=True))"
   ]
  },
  {
   "cell_type": "code",
   "execution_count": 65,
   "metadata": {},
   "outputs": [
    {
     "name": "stdout",
     "output_type": "stream",
     "text": [
      "46\n"
     ]
    }
   ],
   "source": [
    "dallas_coords = \"32.779167, -96.808891\"\n",
    "# type/ethnicity of food is stored in yelp API under \"categories:alias -- MUST BE ONE WORD!\"\n",
    "ethnicity = ['chinese','french','greek','indian','italian','japanese','brazilian','mexican','new american','soul food','thai']\n",
    "# YELP base URL\n",
    "endpoint = 'https://api.yelp.com/v3/businesses/search'\n",
    "headers = {'Authorization': 'Bearer %s' % yelp_api}\n",
    "params = {\"term\": \"restaurants\", \"location\": \"dallas\", \"limit\": 50, \"categories\": \"thai\"}\n",
    "#max results per call is 50, so add offset param (\"offset\": 50, 100, etc.) to get full list per ethnicity\n",
    "#\"limit\": 50\n",
    "\n",
    "# Pretty Print the output of JSON data\n",
    "thai_response = requests.get(url=endpoint, headers=headers, params=params).json()\n",
    "print(thai_response[\"total\"])\n",
    "#print(json.dumps(thai_response, indent=4, sort_keys=True))"
   ]
  },
  {
   "cell_type": "code",
   "execution_count": 66,
   "metadata": {},
   "outputs": [
    {
     "name": "stdout",
     "output_type": "stream",
     "text": [
      "585\n"
     ]
    }
   ],
   "source": [
    "dallas_coords = \"32.779167, -96.808891\"\n",
    "# type/ethnicity of food is stored in yelp API under \"categories:alias -- MUST BE ONE WORD!\"\n",
    "ethnicity = ['chinese','french','greek','indian','italian','japanese','brazilian','mexican','new american','soul food','thai']\n",
    "# YELP base URL\n",
    "endpoint = 'https://api.yelp.com/v3/businesses/search'\n",
    "headers = {'Authorization': 'Bearer %s' % yelp_api}\n",
    "params = {\"term\": \"restaurants\", \"location\": \"dallas\", \"limit\": 50, \"categories\": \"mexican\"}\n",
    "#max results per call is 50, so add offset param (\"offset\": 50, 100, etc.) to get full list per ethnicity\n",
    "#\"limit\": 50\n",
    "\n",
    "# Pretty Print the output of JSON data\n",
    "mexican1_response = requests.get(url=endpoint, headers=headers, params=params).json()\n",
    "print(mexican1_response[\"total\"])\n",
    "#print(json.dumps(mexican1_response, indent=4, sort_keys=True))"
   ]
  },
  {
   "cell_type": "code",
   "execution_count": 67,
   "metadata": {},
   "outputs": [],
   "source": [
    "# type/ethnicity of food is stored in yelp API under \"categories:alias -- MUST BE ONE WORD!\"\n",
    "ethnicity = ['chinese','french','greek','indian','italian','japanese','brazilian','mexican','new american','soul food','thai']\n",
    "# YELP base URL\n",
    "endpoint = 'https://api.yelp.com/v3/businesses/search'\n",
    "headers = {'Authorization': 'Bearer %s' % yelp_api}\n",
    "params = {\"term\": \"restaurants\", \"location\": \"dallas\", \"limit\": 50, \"offset\": 50, \"categories\": \"mexican\"}\n",
    "#max results per call is 50, so add offset param (\"offset\": 50, 100, etc.) to get full list per ethnicity\n",
    "#\"limit\": 50\n",
    "\n",
    "# Pretty Print the output of JSON data\n",
    "mexican2_response = requests.get(url=endpoint, headers=headers, params=params).json()\n",
    "#print(mexican2_response[\"total\"])\n",
    "#print(json.dumps(mexican2_response, indent=4, sort_keys=True))"
   ]
  },
  {
   "cell_type": "code",
   "execution_count": 68,
   "metadata": {},
   "outputs": [],
   "source": [
    "# type/ethnicity of food is stored in yelp API under \"categories:alias -- MUST BE ONE WORD!\"\n",
    "ethnicity = ['chinese','french','greek','indian','italian','japanese','brazilian','mexican','new american','soul food','thai']\n",
    "# YELP base URL\n",
    "endpoint = 'https://api.yelp.com/v3/businesses/search'\n",
    "headers = {'Authorization': 'Bearer %s' % yelp_api}\n",
    "params = {\"term\": \"restaurants\", \"location\": \"dallas\", \"limit\": 50, \"offset\": 100, \"categories\": \"mexican\"}\n",
    "#max results per call is 50, so add offset param (\"offset\": 50, 100, etc.) to get full list per ethnicity\n",
    "#\"limit\": 50\n",
    "\n",
    "# Pretty Print the output of JSON data\n",
    "mexican3_response = requests.get(url=endpoint, headers=headers, params=params).json()\n",
    "#print(mexican3_response[\"total\"])\n",
    "#print(json.dumps(mexican3_response, indent=4, sort_keys=True))"
   ]
  },
  {
   "cell_type": "code",
   "execution_count": 69,
   "metadata": {},
   "outputs": [],
   "source": [
    "# type/ethnicity of food is stored in yelp API under \"categories:alias -- MUST BE ONE WORD!\"\n",
    "ethnicity = ['chinese','french','greek','indian','italian','japanese','brazilian','mexican','new american','soul food','thai']\n",
    "# YELP base URL\n",
    "endpoint = 'https://api.yelp.com/v3/businesses/search'\n",
    "headers = {'Authorization': 'Bearer %s' % yelp_api}\n",
    "params = {\"term\": \"restaurants\", \"location\": \"dallas\", \"limit\": 50, \"offset\": 150, \"categories\": \"mexican\"}\n",
    "#max results per call is 50, so add offset param (\"offset\": 50, 100, etc.) to get full list per ethnicity\n",
    "#\"limit\": 50\n",
    "\n",
    "# Pretty Print the output of JSON data\n",
    "mexican4_response = requests.get(url=endpoint, headers=headers, params=params).json()\n",
    "#print(mexican4_response[\"total\"])\n",
    "#print(json.dumps(mexican4_response, indent=4, sort_keys=True))"
   ]
  },
  {
   "cell_type": "code",
   "execution_count": 70,
   "metadata": {},
   "outputs": [],
   "source": [
    "# type/ethnicity of food is stored in yelp API under \"categories:alias -- MUST BE ONE WORD!\"\n",
    "ethnicity = ['chinese','french','greek','indian','italian','japanese','brazilian','mexican','new american','soul food','thai']\n",
    "# YELP base URL\n",
    "endpoint = 'https://api.yelp.com/v3/businesses/search'\n",
    "headers = {'Authorization': 'Bearer %s' % yelp_api}\n",
    "params = {\"term\": \"restaurants\", \"location\": \"dallas\", \"limit\": 50, \"offset\": 200, \"categories\": \"mexican\"}\n",
    "#max results per call is 50, so add offset param (\"offset\": 50, 100, etc.) to get full list per ethnicity\n",
    "#\"limit\": 50\n",
    "\n",
    "# Pretty Print the output of JSON data\n",
    "mexican5_response = requests.get(url=endpoint, headers=headers, params=params).json()\n",
    "#print(mexican5_response[\"total\"])\n",
    "#print(json.dumps(mexican5_response, indent=4, sort_keys=True))"
   ]
  },
  {
   "cell_type": "code",
   "execution_count": 71,
   "metadata": {},
   "outputs": [],
   "source": [
    "# type/ethnicity of food is stored in yelp API under \"categories:alias -- MUST BE ONE WORD!\"\n",
    "ethnicity = ['chinese','french','greek','indian','italian','japanese','brazilian','mexican','new american','soul food','thai']\n",
    "# YELP base URL\n",
    "endpoint = 'https://api.yelp.com/v3/businesses/search'\n",
    "headers = {'Authorization': 'Bearer %s' % yelp_api}\n",
    "params = {\"term\": \"restaurants\", \"location\": \"dallas\", \"limit\": 50, \"offset\": 250, \"categories\": \"mexican\"}\n",
    "#max results per call is 50, so add offset param (\"offset\": 50, 100, etc.) to get full list per ethnicity\n",
    "#\"limit\": 50\n",
    "\n",
    "# Pretty Print the output of JSON data\n",
    "mexican6_response = requests.get(url=endpoint, headers=headers, params=params).json()\n",
    "#print(mexican6_response[\"total\"])\n",
    "#print(json.dumps(mexican6_response, indent=4, sort_keys=True))"
   ]
  },
  {
   "cell_type": "code",
   "execution_count": 72,
   "metadata": {},
   "outputs": [],
   "source": [
    "# type/ethnicity of food is stored in yelp API under \"categories:alias -- MUST BE ONE WORD!\"\n",
    "ethnicity = ['chinese','french','greek','indian','italian','japanese','brazilian','mexican','new american','soul food','thai']\n",
    "# YELP base URL\n",
    "endpoint = 'https://api.yelp.com/v3/businesses/search'\n",
    "headers = {'Authorization': 'Bearer %s' % yelp_api}\n",
    "params = {\"term\": \"restaurants\", \"location\": \"dallas\", \"limit\": 50, \"offset\": 300, \"categories\": \"mexican\"}\n",
    "#max results per call is 50, so add offset param (\"offset\": 50, 100, etc.) to get full list per ethnicity\n",
    "#\"limit\": 50\n",
    "\n",
    "# Pretty Print the output of JSON data\n",
    "mexican7_response = requests.get(url=endpoint, headers=headers, params=params).json()\n",
    "#print(mexican7_response[\"total\"])\n",
    "#print(json.dumps(mexican7_response, indent=4, sort_keys=True))"
   ]
  },
  {
   "cell_type": "code",
   "execution_count": 73,
   "metadata": {},
   "outputs": [],
   "source": [
    "# type/ethnicity of food is stored in yelp API under \"categories:alias -- MUST BE ONE WORD!\"\n",
    "ethnicity = ['chinese','french','greek','indian','italian','japanese','brazilian','mexican','new american','soul food','thai']\n",
    "# YELP base URL\n",
    "endpoint = 'https://api.yelp.com/v3/businesses/search'\n",
    "headers = {'Authorization': 'Bearer %s' % yelp_api}\n",
    "params = {\"term\": \"restaurants\", \"location\": \"dallas\", \"limit\": 50, \"offset\": 350, \"categories\": \"mexican\"}\n",
    "#max results per call is 50, so add offset param (\"offset\": 50, 100, etc.) to get full list per ethnicity\n",
    "#\"limit\": 50\n",
    "\n",
    "# Pretty Print the output of JSON data\n",
    "mexican8_response = requests.get(url=endpoint, headers=headers, params=params).json()\n",
    "#print(mexican8_response[\"total\"])\n",
    "#print(json.dumps(mexican8_response, indent=4, sort_keys=True))"
   ]
  },
  {
   "cell_type": "code",
   "execution_count": 74,
   "metadata": {},
   "outputs": [],
   "source": [
    "# type/ethnicity of food is stored in yelp API under \"categories:alias -- MUST BE ONE WORD!\"\n",
    "ethnicity = ['chinese','french','greek','indian','italian','japanese','brazilian','mexican','new american','soul food','thai']\n",
    "# YELP base URL\n",
    "endpoint = 'https://api.yelp.com/v3/businesses/search'\n",
    "headers = {'Authorization': 'Bearer %s' % yelp_api}\n",
    "params = {\"term\": \"restaurants\", \"location\": \"dallas\", \"limit\": 50, \"offset\": 400, \"categories\": \"mexican\"}\n",
    "#max results per call is 50, so add offset param (\"offset\": 50, 100, etc.) to get full list per ethnicity\n",
    "#\"limit\": 50\n",
    "\n",
    "# Pretty Print the output of JSON data\n",
    "mexican9_response = requests.get(url=endpoint, headers=headers, params=params).json()\n",
    "#print(mexican9_response[\"total\"])\n",
    "#print(json.dumps(mexican9_response, indent=4, sort_keys=True))"
   ]
  },
  {
   "cell_type": "code",
   "execution_count": 75,
   "metadata": {},
   "outputs": [],
   "source": [
    "# type/ethnicity of food is stored in yelp API under \"categories:alias -- MUST BE ONE WORD!\"\n",
    "ethnicity = ['chinese','french','greek','indian','italian','japanese','brazilian','mexican','new american','soul food','thai']\n",
    "# YELP base URL\n",
    "endpoint = 'https://api.yelp.com/v3/businesses/search'\n",
    "headers = {'Authorization': 'Bearer %s' % yelp_api}\n",
    "params = {\"term\": \"restaurants\", \"location\": \"dallas\", \"limit\": 50, \"offset\": 450, \"categories\": \"mexican\"}\n",
    "#max results per call is 50, so add offset param (\"offset\": 50, 100, etc.) to get full list per ethnicity\n",
    "#\"limit\": 50\n",
    "\n",
    "# Pretty Print the output of JSON data\n",
    "mexican10_response = requests.get(url=endpoint, headers=headers, params=params).json()\n",
    "#print(mexican10_response[\"total\"])\n",
    "#print(json.dumps(mexican10_response, indent=4, sort_keys=True))"
   ]
  },
  {
   "cell_type": "code",
   "execution_count": 76,
   "metadata": {},
   "outputs": [],
   "source": [
    "# type/ethnicity of food is stored in yelp API under \"categories:alias -- MUST BE ONE WORD!\"\n",
    "ethnicity = ['chinese','french','greek','indian','italian','japanese','brazilian','mexican','new american','soul food','thai']\n",
    "# YELP base URL\n",
    "endpoint = 'https://api.yelp.com/v3/businesses/search'\n",
    "headers = {'Authorization': 'Bearer %s' % yelp_api}\n",
    "params = {\"term\": \"restaurants\", \"location\": \"dallas\", \"limit\": 50, \"offset\": 500, \"categories\": \"mexican\"}\n",
    "#max results per call is 50, so add offset param (\"offset\": 50, 100, etc.) to get full list per ethnicity\n",
    "#\"limit\": 50\n",
    "\n",
    "# Pretty Print the output of JSON data\n",
    "mexican11_response = requests.get(url=endpoint, headers=headers, params=params).json()\n",
    "#print(mexican11_response[\"total\"])\n",
    "#print(json.dumps(mexican11_response, indent=4, sort_keys=True))"
   ]
  },
  {
   "cell_type": "code",
   "execution_count": 77,
   "metadata": {},
   "outputs": [
    {
     "name": "stdout",
     "output_type": "stream",
     "text": [
      "13\n"
     ]
    }
   ],
   "source": [
    "dallas_coords = \"32.779167, -96.808891\"\n",
    "# type/ethnicity of food is stored in yelp API under \"categories:alias -- MUST BE ONE WORD!\"\n",
    "ethnicity = ['chinese','french','greek','indian','italian','japanese','brazilian','mexican','new american','soul food','thai']\n",
    "# YELP base URL\n",
    "endpoint = 'https://api.yelp.com/v3/businesses/search'\n",
    "headers = {'Authorization': 'Bearer %s' % yelp_api}\n",
    "params = {\"term\": \"restaurants\", \"location\": \"dallas\", \"limit\": 50, \"categories\": \"soulfood\"}\n",
    "#max results per call is 50, so add offset param (\"offset\": 50, 100, etc.) to get full list per ethnicity\n",
    "#\"limit\": 50\n",
    "\n",
    "# Pretty Print the output of JSON data\n",
    "soulfood_response = requests.get(url=endpoint, headers=headers, params=params).json()\n",
    "print(soulfood_response[\"total\"])\n",
    "#print(json.dumps(soulfood_response, indent=4, sort_keys=True))"
   ]
  },
  {
   "cell_type": "code",
   "execution_count": 78,
   "metadata": {},
   "outputs": [
    {
     "name": "stdout",
     "output_type": "stream",
     "text": [
      "168\n"
     ]
    }
   ],
   "source": [
    "dallas_coords = \"32.779167, -96.808891\"\n",
    "# type/ethnicity of food is stored in yelp API under \"categories:alias -- MUST BE ONE WORD!\"\n",
    "ethnicity = ['chinese','french','greek','indian','italian','japanese','brazilian','mexican','new american','soul food','thai']\n",
    "# YELP base URL\n",
    "endpoint = 'https://api.yelp.com/v3/businesses/search'\n",
    "headers = {'Authorization': 'Bearer %s' % yelp_api}\n",
    "params = {\"term\": \"restaurants\", \"location\": \"dallas\", \"limit\": 50, \"categories\": \"newamerican\"}\n",
    "#max results per call is 50, so add offset param (\"offset\": 50, 100, etc.) to get full list per ethnicity\n",
    "#\"limit\": 50\n",
    "\n",
    "# Pretty Print the output of JSON data\n",
    "newamerican1_response = requests.get(url=endpoint, headers=headers, params=params).json()\n",
    "print(newamerican1_response[\"total\"])\n",
    "#print(json.dumps(newamerican1_response, indent=4, sort_keys=True))"
   ]
  },
  {
   "cell_type": "code",
   "execution_count": 79,
   "metadata": {},
   "outputs": [],
   "source": [
    "dallas_coords = \"32.779167, -96.808891\"\n",
    "# type/ethnicity of food is stored in yelp API under \"categories:alias -- MUST BE ONE WORD!\"\n",
    "ethnicity = ['chinese','french','greek','indian','italian','japanese','brazilian','mexican','new american','soul food','thai']\n",
    "# YELP base URL\n",
    "endpoint = 'https://api.yelp.com/v3/businesses/search'\n",
    "headers = {'Authorization': 'Bearer %s' % yelp_api}\n",
    "params = {\"term\": \"restaurants\", \"location\": \"dallas\", \"limit\": 50, \"offset\": 50, \"categories\": \"newamerican\"}\n",
    "#max results per call is 50, so add offset param (\"offset\": 50, 100, etc.) to get full list per ethnicity\n",
    "#\"limit\": 50\n",
    "\n",
    "# Pretty Print the output of JSON data\n",
    "newamerican2_response = requests.get(url=endpoint, headers=headers, params=params).json()\n",
    "#print(newamerican2_response[\"total\"])\n",
    "#print(json.dumps(newamerican2_response, indent=4, sort_keys=True))"
   ]
  },
  {
   "cell_type": "code",
   "execution_count": 80,
   "metadata": {},
   "outputs": [],
   "source": [
    "dallas_coords = \"32.779167, -96.808891\"\n",
    "# type/ethnicity of food is stored in yelp API under \"categories:alias -- MUST BE ONE WORD!\"\n",
    "ethnicity = ['chinese','french','greek','indian','italian','japanese','brazilian','mexican','new american','soul food','thai']\n",
    "# YELP base URL\n",
    "endpoint = 'https://api.yelp.com/v3/businesses/search'\n",
    "headers = {'Authorization': 'Bearer %s' % yelp_api}\n",
    "params = {\"term\": \"restaurants\", \"location\": \"dallas\", \"limit\": 50, \"offset\": 100, \"categories\": \"newamerican\"}\n",
    "#max results per call is 50, so add offset param (\"offset\": 50, 100, etc.) to get full list per ethnicity\n",
    "#\"limit\": 50\n",
    "\n",
    "# Pretty Print the output of JSON data\n",
    "newamerican3_response = requests.get(url=endpoint, headers=headers, params=params).json()\n",
    "#print(newamerican3_response[\"total\"])\n",
    "#print(json.dumps(newamerican3_response, indent=4, sort_keys=True))"
   ]
  },
  {
   "cell_type": "code",
   "execution_count": 81,
   "metadata": {},
   "outputs": [],
   "source": [
    "dallas_coords = \"32.779167, -96.808891\"\n",
    "# type/ethnicity of food is stored in yelp API under \"categories:alias -- MUST BE ONE WORD!\"\n",
    "ethnicity = ['chinese','french','greek','indian','italian','japanese','brazilian','mexican','new american','soul food','thai']\n",
    "# YELP base URL\n",
    "endpoint = 'https://api.yelp.com/v3/businesses/search'\n",
    "headers = {'Authorization': 'Bearer %s' % yelp_api}\n",
    "params = {\"term\": \"restaurants\", \"location\": \"dallas\", \"limit\": 50, \"offset\": 150, \"categories\": \"newamerican\"}\n",
    "#max results per call is 50, so add offset param (\"offset\": 50, 100, etc.) to get full list per ethnicity\n",
    "#\"limit\": 50\n",
    "\n",
    "# Pretty Print the output of JSON data\n",
    "newamerican4_response = requests.get(url=endpoint, headers=headers, params=params).json()\n",
    "#print(newamerican4_response[\"total\"])\n",
    "#print(json.dumps(newamerican4_response, indent=4, sort_keys=True))"
   ]
  },
  {
   "cell_type": "code",
   "execution_count": null,
   "metadata": {},
   "outputs": [],
   "source": [
    "# list of json response dictionaries\n",
    "dallas_yelp = ['chinese1_response', \n",
    "               'chinese2_response', \n",
    "               'french_response', \n",
    "               'greek_response', \n",
    "               'indian_response', \n",
    "               'italian1_response', \n",
    "               'italian2_response', \n",
    "               'italian3_response', \n",
    "               'japanese1_response', \n",
    "               'japanese2_response', \n",
    "               'brazilian_response',\n",
    "               'thai_response', \n",
    "               'soulfood_response', \n",
    "               'newamerican1_response',\n",
    "               'newamerican2_response',\n",
    "               'newamerican3_response', \n",
    "               'newamerican4_response',\n",
    "               'mexican1_response',\n",
    "               'mexican2_response',\n",
    "               'mexican3_response',\n",
    "               'mexican4_response',\n",
    "               'mexican5_response', \n",
    "               'mexican6_response',\n",
    "               'mexican7_response',\n",
    "               'mexican8_response',\n",
    "               'mexican9_response',\n",
    "               'mexican10_response', \n",
    "               'mexican11_response']"
   ]
  },
  {
   "cell_type": "code",
   "execution_count": null,
   "metadata": {},
   "outputs": [],
   "source": [
    "#json response:\"name\", \"categories\", \"location.address1\", \"location.city\", \"location.state\", \"location.zip_code\", \"price\" \n",
    "businesses = response[\"businesses\"]\n",
    "\n",
    "for business in businesses:\n",
    "    name.append(business[\"name\"])\n",
    "    city.append(business[\"location\"][\"city\"])\n",
    "    latitude.append(business[\"coordinates\"][\"latitude\"])\n",
    "    longitude.append(business[\"coordinates\"][\"longitude\"])\n",
    "    zipcode.append(business[\"location\"][\"zip_code\"])\n",
    "    #try/except for loop for ethnicity & price\n",
    "    ethnicity.append(business[\"categories\"][\"alias\"])\n",
    "    price.append(business[\"price\"])\n",
    "    rating.append(business[\"rating\"])"
   ]
  },
  {
   "cell_type": "code",
   "execution_count": null,
   "metadata": {},
   "outputs": [],
   "source": [
    "# create dictionary for restaurant data\n",
    "restaurant_dict = {\n",
    "    \"name\": name,\n",
    "    \"city\": city,\n",
    "    \"latitude\": latitude,\n",
    "    \"longitude\": longitude,\n",
    "    \"zipcode\": zipcode,\n",
    "    \"ethnicity\": ethnicity,\n",
    "    \"price\": price,\n",
    "    \"rating\": rating}"
   ]
  },
  {
   "cell_type": "code",
   "execution_count": null,
   "metadata": {},
   "outputs": [],
   "source": [
    "# create dataframe from dictionary data\n",
    "dallas_restaurants = pd.DataFrame(restaurant_dict)"
   ]
  },
  {
   "cell_type": "code",
   "execution_count": null,
   "metadata": {},
   "outputs": [],
   "source": [
    "# outer merge with zipcode df\n",
    "dallas_merge = pd.merge(dallas_zips, dallas_restaurants, on='zipcode', how=outer)\n",
    "dallas_merge"
   ]
  },
  {
   "cell_type": "code",
   "execution_count": null,
   "metadata": {},
   "outputs": [],
   "source": [
    "# export to CSV\n",
    "#dallas_merge.to_csv(dallas_restaurants, index=None, header=True)"
   ]
  }
 ],
 "metadata": {
  "kernelspec": {
   "display_name": "Python [conda env:PythonData] *",
   "language": "python",
   "name": "conda-env-PythonData-py"
  },
  "language_info": {
   "codemirror_mode": {
    "name": "ipython",
    "version": 3
   },
   "file_extension": ".py",
   "mimetype": "text/x-python",
   "name": "python",
   "nbconvert_exporter": "python",
   "pygments_lexer": "ipython3",
   "version": "3.6.10"
  }
 },
 "nbformat": 4,
 "nbformat_minor": 4
}
