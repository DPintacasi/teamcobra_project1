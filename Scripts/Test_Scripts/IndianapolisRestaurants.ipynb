{
 "cells": [
  {
   "cell_type": "code",
   "execution_count": 1,
   "metadata": {},
   "outputs": [],
   "source": [
    "#Dependencies & setup\n",
    "import pandas as pd\n",
    "import numpy as np\n",
    "import matplotlib.pyplot as plt\n",
    "import requests\n",
    "import gmaps\n",
    "import os\n",
    "import json\n",
    "import pprint\n",
    "\n",
    "#Import yelp API key\n",
    "from config import yelp_api\n"
   ]
  },
  {
   "cell_type": "code",
   "execution_count": 2,
   "metadata": {},
   "outputs": [
    {
     "data": {
      "text/html": [
       "<div>\n",
       "<style scoped>\n",
       "    .dataframe tbody tr th:only-of-type {\n",
       "        vertical-align: middle;\n",
       "    }\n",
       "\n",
       "    .dataframe tbody tr th {\n",
       "        vertical-align: top;\n",
       "    }\n",
       "\n",
       "    .dataframe thead th {\n",
       "        text-align: right;\n",
       "    }\n",
       "</style>\n",
       "<table border=\"1\" class=\"dataframe\">\n",
       "  <thead>\n",
       "    <tr style=\"text-align: right;\">\n",
       "      <th></th>\n",
       "      <th>Indianapolis</th>\n",
       "    </tr>\n",
       "  </thead>\n",
       "  <tbody>\n",
       "    <tr>\n",
       "      <th>0</th>\n",
       "      <td>46113</td>\n",
       "    </tr>\n",
       "    <tr>\n",
       "      <th>1</th>\n",
       "      <td>46183</td>\n",
       "    </tr>\n",
       "    <tr>\n",
       "      <th>2</th>\n",
       "      <td>46201</td>\n",
       "    </tr>\n",
       "    <tr>\n",
       "      <th>3</th>\n",
       "      <td>46202</td>\n",
       "    </tr>\n",
       "    <tr>\n",
       "      <th>4</th>\n",
       "      <td>46204</td>\n",
       "    </tr>\n",
       "    <tr>\n",
       "      <th>5</th>\n",
       "      <td>46205</td>\n",
       "    </tr>\n",
       "    <tr>\n",
       "      <th>6</th>\n",
       "      <td>46208</td>\n",
       "    </tr>\n",
       "    <tr>\n",
       "      <th>7</th>\n",
       "      <td>46214</td>\n",
       "    </tr>\n",
       "    <tr>\n",
       "      <th>8</th>\n",
       "      <td>46217</td>\n",
       "    </tr>\n",
       "    <tr>\n",
       "      <th>9</th>\n",
       "      <td>46218</td>\n",
       "    </tr>\n",
       "    <tr>\n",
       "      <th>10</th>\n",
       "      <td>46219</td>\n",
       "    </tr>\n",
       "    <tr>\n",
       "      <th>11</th>\n",
       "      <td>46220</td>\n",
       "    </tr>\n",
       "    <tr>\n",
       "      <th>12</th>\n",
       "      <td>46221</td>\n",
       "    </tr>\n",
       "    <tr>\n",
       "      <th>13</th>\n",
       "      <td>46222</td>\n",
       "    </tr>\n",
       "    <tr>\n",
       "      <th>14</th>\n",
       "      <td>46224</td>\n",
       "    </tr>\n",
       "    <tr>\n",
       "      <th>15</th>\n",
       "      <td>46225</td>\n",
       "    </tr>\n",
       "    <tr>\n",
       "      <th>16</th>\n",
       "      <td>46226</td>\n",
       "    </tr>\n",
       "    <tr>\n",
       "      <th>17</th>\n",
       "      <td>46235</td>\n",
       "    </tr>\n",
       "    <tr>\n",
       "      <th>18</th>\n",
       "      <td>46236</td>\n",
       "    </tr>\n",
       "    <tr>\n",
       "      <th>19</th>\n",
       "      <td>46239</td>\n",
       "    </tr>\n",
       "    <tr>\n",
       "      <th>20</th>\n",
       "      <td>46241</td>\n",
       "    </tr>\n",
       "    <tr>\n",
       "      <th>21</th>\n",
       "      <td>46254</td>\n",
       "    </tr>\n",
       "    <tr>\n",
       "      <th>22</th>\n",
       "      <td>46259</td>\n",
       "    </tr>\n",
       "    <tr>\n",
       "      <th>23</th>\n",
       "      <td>46268</td>\n",
       "    </tr>\n",
       "    <tr>\n",
       "      <th>24</th>\n",
       "      <td>46278</td>\n",
       "    </tr>\n",
       "  </tbody>\n",
       "</table>\n",
       "</div>"
      ],
      "text/plain": [
       "   Indianapolis\n",
       "0         46113\n",
       "1         46183\n",
       "2         46201\n",
       "3         46202\n",
       "4         46204\n",
       "5         46205\n",
       "6         46208\n",
       "7         46214\n",
       "8         46217\n",
       "9         46218\n",
       "10        46219\n",
       "11        46220\n",
       "12        46221\n",
       "13        46222\n",
       "14        46224\n",
       "15        46225\n",
       "16        46226\n",
       "17        46235\n",
       "18        46236\n",
       "19        46239\n",
       "20        46241\n",
       "21        46254\n",
       "22        46259\n",
       "23        46268\n",
       "24        46278"
      ]
     },
     "execution_count": 2,
     "metadata": {},
     "output_type": "execute_result"
    }
   ],
   "source": [
    "# read in indianapolis zip csv\n",
    "indianapolis_zips = pd.read_csv(\"./Resources/indianapolis_zipcodes.csv\")\n",
    "# drop last line (citation)\n",
    "indianapolis_zips.drop(indianapolis_zips.tail(1).index,inplace=True)\n",
    "#rename column header\n",
    "indianapolis_zips = indianapolis_zips.rename(columns={\"indianapolis\":\"zipcode\"})\n",
    "indianapolis_zips"
   ]
  },
  {
   "cell_type": "markdown",
   "metadata": {},
   "source": [
    "*Each Yelp API call will return max 50 results.  Therefore, I will do a separate query for each ethnicity, create a list of each json dictionary & append to create a \"master\" dataframe"
   ]
  },
  {
   "cell_type": "code",
   "execution_count": 3,
   "metadata": {},
   "outputs": [
    {
     "name": "stdout",
     "output_type": "stream",
     "text": [
      "65\n"
     ]
    }
   ],
   "source": [
    "# type/ethnicity of food is stored in yelp API under \"categories:alias -- MUST BE ONE WORD!\"\n",
    "#ethnicity = ['chinese','french','greek','indian','italian','japanese','brazilian','mexican','new american','soul food','thai']\n",
    "# YELP base URL\n",
    "endpoint = 'https://api.yelp.com/v3/businesses/search'\n",
    "headers = {'Authorization': 'Bearer %s' % yelp_api}\n",
    "params = {\"term\": \"restaurants\", \"location\": \"indianapolis\", \"limit\": 50, \"categories\": \"chinese\"}\n",
    "#max results per call is 50, so add offset param (\"offset\" = 50, 100, etc.) to get full list per ethnicity\n",
    "#\"limit\": 50\n",
    "\n",
    "# Pretty Print the output of JSON data\n",
    "chinese1_response = requests.get(url=endpoint, headers=headers, params=params).json()\n",
    "chinese1_response[\"Ethnicity\"]=\"chinese\"\n",
    "print(chinese1_response[\"total\"])\n",
    "#print(json.dumps(chinese1_response, indent=4, sort_keys=True))\n",
    "\n"
   ]
  },
  {
   "cell_type": "code",
   "execution_count": 4,
   "metadata": {},
   "outputs": [],
   "source": [
    "# type/ethnicity of food is stored in yelp API under \"categories:alias -- MUST BE ONE WORD!\"\n",
    "#ethnicity = ['chinese','french','greek','indian','italian','japanese','brazilian','mexican','new american','soul food','thai']\n",
    "\n",
    "# YELP base URL\n",
    "endpoint = 'https://api.yelp.com/v3/businesses/search'\n",
    "headers = {'Authorization': 'Bearer %s' % yelp_api}\n",
    "params = {\"term\": \"restaurants\", \"location\": \"indianapolis\", \"limit\": 50,  \"offset\": 50, \"categories\": \"chinese\"}\n",
    "#max results per call is 50, so add offset param (\"offset\": 50, 100, etc.) to get full list per ethnicity\n",
    "#\"limit\": 50\n",
    "\n",
    "# Pretty Print the output of JSON data\n",
    "chinese2_response = requests.get(url=endpoint, headers=headers, params=params).json()\n",
    "chinese2_response[\"Ethnicity\"]=\"chinese\"\n",
    "#print(chinese2_response[\"total\"])\n",
    "#print(json.dumps(chinese2_response, indent=4, sort_keys=True))"
   ]
  },
  {
   "cell_type": "code",
   "execution_count": 5,
   "metadata": {},
   "outputs": [
    {
     "name": "stdout",
     "output_type": "stream",
     "text": [
      "9\n"
     ]
    }
   ],
   "source": [
    "indianapolis_coords = \"32.779167, -96.808891\"\n",
    "# type/ethnicity of food is stored in yelp API under \"categories:alias -- MUST BE ONE WORD!\"\n",
    "ethnicity = ['chinese','french','greek','indian','italian','japanese','brazilian','mexican','new american','soul food','thai']\n",
    "# YELP base URL\n",
    "endpoint = 'https://api.yelp.com/v3/businesses/search'\n",
    "headers = {'Authorization': 'Bearer %s' % yelp_api}\n",
    "params = {\"term\": \"restaurants\", \"location\": \"indianapolis\", \"limit\": 50, \"categories\": \"french\"}\n",
    "#max results per call is 50, so add offset param (\"offset\" = 50, 100, etc.) to get full list per ethnicity\n",
    "#\"limit\": 50\n",
    "\n",
    "# Pretty Print the output of JSON data\n",
    "french_response = requests.get(url=endpoint, headers=headers, params=params).json()\n",
    "french_response[\"Ethnicity\"]=\"french\"\n",
    "print(french_response[\"total\"])\n",
    "#print(json.dumps(french_response, indent=4, sort_keys=True))"
   ]
  },
  {
   "cell_type": "code",
   "execution_count": 6,
   "metadata": {},
   "outputs": [
    {
     "name": "stdout",
     "output_type": "stream",
     "text": [
      "12\n"
     ]
    }
   ],
   "source": [
    "indianapolis_coords = \"32.779167, -96.808891\"\n",
    "# type/ethnicity of food is stored in yelp API under \"categories:alias -- MUST BE ONE WORD!\"\n",
    "ethnicity = ['chinese','french','greek','indian','italian','japanese','brazilian','mexican','new american','soul food','thai']\n",
    "# YELP base URL\n",
    "endpoint = 'https://api.yelp.com/v3/businesses/search'\n",
    "headers = {'Authorization': 'Bearer %s' % yelp_api}\n",
    "params = {\"term\": \"restaurants\", \"location\": \"indianapolis\", \"limit\": 50, \"categories\": \"greek\"}\n",
    "#max results per call is 50, so add offset param (\"offset\" = 50, 100, etc.) to get full list per ethnicity\n",
    "#\"limit\": 50\n",
    "\n",
    "# Pretty Print the output of JSON data\n",
    "greek_response = requests.get(url=endpoint, headers=headers, params=params).json()\n",
    "greek_response[\"Ethnicity\"]=\"greek\"\n",
    "print(greek_response[\"total\"])\n",
    "#print(json.dumps(greek_response, indent=4, sort_keys=True))"
   ]
  },
  {
   "cell_type": "code",
   "execution_count": 7,
   "metadata": {},
   "outputs": [
    {
     "name": "stdout",
     "output_type": "stream",
     "text": [
      "18\n"
     ]
    }
   ],
   "source": [
    "# indianapolis_coords = \"32.779167, -96.808891\"\n",
    "# # type/ethnicity of food is stored in yelp API under \"categories:alias -- MUST BE ONE WORD!\"\n",
    "ethnicity = ['chinese','french','greek','indian','italian','japanese','brazilian','mexican','new american','soul food','thai']\n",
    "# # YELP base URL\n",
    "endpoint = 'https://api.yelp.com/v3/businesses/search'\n",
    "headers = {'Authorization': 'Bearer %s' % yelp_api}\n",
    "params = {\"term\": \"restaurants\", \"location\": \"indianapolis\", \"limit\": 50, \"categories\": \"indpak\"}\n",
    "# #max results per call is 50, so add offset param (\"offset\" = 50, 100, etc.) to get full list per ethnicity\n",
    "# #\"limit\": 50\n",
    "\n",
    "# # Pretty Print the output of JSON data\n",
    "indian_response = requests.get(url=endpoint, headers=headers, params=params).json()\n",
    "indian_response[\"Ethnicity\"]=\"indian\"\n",
    "print(indian_response[\"total\"])\n",
    "# print(json.dumps(indian_response, indent=4, sort_keys=True))"
   ]
  },
  {
   "cell_type": "code",
   "execution_count": 8,
   "metadata": {},
   "outputs": [
    {
     "name": "stdout",
     "output_type": "stream",
     "text": [
      "58\n"
     ]
    }
   ],
   "source": [
    "indianapolis_coords = \"32.779167, -96.808891\"\n",
    "# type/ethnicity of food is stored in yelp API under \"categories:alias -- MUST BE ONE WORD!\"\n",
    "ethnicity = ['chinese','french','greek','indian','italian','japanese','brazilian','mexican','new american','soul food','thai']\n",
    "# YELP base URL\n",
    "endpoint = 'https://api.yelp.com/v3/businesses/search'\n",
    "headers = {'Authorization': 'Bearer %s' % yelp_api}\n",
    "params = {\"term\": \"restaurants\", \"location\": \"indianapolis\", \"limit\": 50, \"categories\": \"italian\"}\n",
    "#max results per call is 50, so add offset param (\"offset\" = 50, 100, etc.) to get full list per ethnicity\n",
    "#\"limit\": 50\n",
    "\n",
    "# Pretty Print the output of JSON data\n",
    "italian1_response = requests.get(url=endpoint, headers=headers, params=params).json()\n",
    "italian1_response[\"Ethnicity\"]=\"italian\"\n",
    "print(italian1_response[\"total\"])\n",
    "#print(json.dumps(italian1_response, indent=4, sort_keys=True))"
   ]
  },
  {
   "cell_type": "code",
   "execution_count": 9,
   "metadata": {},
   "outputs": [],
   "source": [
    "indianapolis_coords = \"32.779167, -96.808891\"\n",
    "# type/ethnicity of food is stored in yelp API under \"categories:alias -- MUST BE ONE WORD!\"\n",
    "ethnicity = ['chinese','french','greek','indian','italian','japanese','brazilian','mexican','new american','soul food','thai']\n",
    "# YELP base URL\n",
    "endpoint = 'https://api.yelp.com/v3/businesses/search'\n",
    "headers = {'Authorization': 'Bearer %s' % yelp_api}\n",
    "params = {\"term\": \"restaurants\", \"location\": \"indianapolis\", \"limit\": 50, \"offset\": 50, \"categories\": \"italian\"}\n",
    "#max results per call is 50, so add offset param (\"offset\" = 50, 100, etc.) to get full list per ethnicity\n",
    "#\"limit\": 50\n",
    "\n",
    "# Pretty Print the output of JSON data\n",
    "italian2_response = requests.get(url=endpoint, headers=headers, params=params).json()\n",
    "italian2_response[\"Ethnicity\"]=\"italian\"\n",
    "#print(italian2_response[\"total\"])\n",
    "#print(json.dumps(italian2_response, indent=4, sort_keys=True))"
   ]
  },
  {
   "cell_type": "code",
   "execution_count": 10,
   "metadata": {},
   "outputs": [
    {
     "name": "stdout",
     "output_type": "stream",
     "text": [
      "16\n"
     ]
    }
   ],
   "source": [
    "indianapolis_coords = \"32.779167, -96.808891\"\n",
    "# type/ethnicity of food is stored in yelp API under \"categories:alias -- MUST BE ONE WORD!\"\n",
    "ethnicity = ['chinese','french','greek','indian','italian','japanese','brazilian','mexican','new american','soul food','thai']\n",
    "# YELP base URL\n",
    "endpoint = 'https://api.yelp.com/v3/businesses/search'\n",
    "headers = {'Authorization': 'Bearer %s' % yelp_api}\n",
    "params = {\"term\": \"restaurants\", \"location\": \"indianapolis\", \"limit\": 50, \"categories\": \"japanese\"}\n",
    "#max results per call is 50, so add offset param (\"offset\": 50, 100, etc.) to get full list per ethnicity\n",
    "#\"limit\": 50\n",
    "\n",
    "# Pretty Print the output of JSON data\n",
    "japanese1_response = requests.get(url=endpoint, headers=headers, params=params).json()\n",
    "japanese1_response[\"Ethnicity\"]=\"japanese\"\n",
    "print(japanese1_response[\"total\"])\n",
    "#print(json.dumps(japanese_response, indent=4, sort_keys=True))"
   ]
  },
  {
   "cell_type": "code",
   "execution_count": 11,
   "metadata": {},
   "outputs": [
    {
     "name": "stdout",
     "output_type": "stream",
     "text": [
      "5\n"
     ]
    }
   ],
   "source": [
    "indianapolis_coords = \"32.779167, -96.808891\"\n",
    "# type/ethnicity of food is stored in yelp API under \"categories:alias -- MUST BE ONE WORD!\"\n",
    "ethnicity = ['chinese','french','greek','indian','italian','japanese','brazilian','mexican','new american','soul food','thai']\n",
    "# YELP base URL\n",
    "endpoint = 'https://api.yelp.com/v3/businesses/search'\n",
    "headers = {'Authorization': 'Bearer %s' % yelp_api}\n",
    "params = {\"term\": \"restaurants\", \"location\": \"indianapolis\", \"limit\": 50, \"categories\": \"brazilian\"}\n",
    "#max results per call is 50, so add offset param (\"offset\": 50, 100, etc.) to get full list per ethnicity\n",
    "#\"limit\": 50\n",
    "\n",
    "# Pretty Print the output of JSON data\n",
    "brazilian_response = requests.get(url=endpoint, headers=headers, params=params).json()\n",
    "brazilian_response[\"Ethnicity\"]=\"brazilian\"\n",
    "print(brazilian_response[\"total\"])\n",
    "#print(json.dumps(brazilian_response, indent=4, sort_keys=True))"
   ]
  },
  {
   "cell_type": "code",
   "execution_count": 12,
   "metadata": {},
   "outputs": [
    {
     "name": "stdout",
     "output_type": "stream",
     "text": [
      "14\n"
     ]
    }
   ],
   "source": [
    "indianapolis_coords = \"32.779167, -96.808891\"\n",
    "# type/ethnicity of food is stored in yelp API under \"categories:alias -- MUST BE ONE WORD!\"\n",
    "ethnicity = ['chinese','french','greek','indian','italian','japanese','brazilian','mexican','new american','soul food','thai']\n",
    "# YELP base URL\n",
    "endpoint = 'https://api.yelp.com/v3/businesses/search'\n",
    "headers = {'Authorization': 'Bearer %s' % yelp_api}\n",
    "params = {\"term\": \"restaurants\", \"location\": \"indianapolis\", \"limit\": 50, \"categories\": \"thai\"}\n",
    "#max results per call is 50, so add offset param (\"offset\": 50, 100, etc.) to get full list per ethnicity\n",
    "#\"limit\": 50\n",
    "\n",
    "# Pretty Print the output of JSON data\n",
    "thai_response = requests.get(url=endpoint, headers=headers, params=params).json()\n",
    "thai_response[\"Ethnicity\"]=\"thai\"\n",
    "print(thai_response[\"total\"])\n",
    "#print(json.dumps(thai_response, indent=4, sort_keys=True))"
   ]
  },
  {
   "cell_type": "code",
   "execution_count": 13,
   "metadata": {},
   "outputs": [
    {
     "name": "stdout",
     "output_type": "stream",
     "text": [
      "224\n"
     ]
    }
   ],
   "source": [
    "indianapolis_coords = \"32.779167, -96.808891\"\n",
    "# type/ethnicity of food is stored in yelp API under \"categories:alias -- MUST BE ONE WORD!\"\n",
    "ethnicity = ['chinese','french','greek','indian','italian','japanese','brazilian','mexican','new american','soul food','thai']\n",
    "# YELP base URL\n",
    "endpoint = 'https://api.yelp.com/v3/businesses/search'\n",
    "headers = {'Authorization': 'Bearer %s' % yelp_api}\n",
    "params = {\"term\": \"restaurants\", \"location\": \"indianapolis\", \"limit\": 50, \"categories\": \"mexican\"}\n",
    "#max results per call is 50, so add offset param (\"offset\": 50, 100, etc.) to get full list per ethnicity\n",
    "#\"limit\": 50\n",
    "\n",
    "# Pretty Print the output of JSON data\n",
    "mexican1_response = requests.get(url=endpoint, headers=headers, params=params).json()\n",
    "mexican1_response[\"Ethnicity\"]=\"mexican\"\n",
    "print(mexican1_response[\"total\"])\n",
    "#print(json.dumps(mexican1_response, indent=4, sort_keys=True))"
   ]
  },
  {
   "cell_type": "code",
   "execution_count": 14,
   "metadata": {},
   "outputs": [],
   "source": [
    "# type/ethnicity of food is stored in yelp API under \"categories:alias -- MUST BE ONE WORD!\"\n",
    "ethnicity = ['chinese','french','greek','indian','italian','japanese','brazilian','mexican','new american','soul food','thai']\n",
    "# YELP base URL\n",
    "endpoint = 'https://api.yelp.com/v3/businesses/search'\n",
    "headers = {'Authorization': 'Bearer %s' % yelp_api}\n",
    "params = {\"term\": \"restaurants\", \"location\": \"indianapolis\", \"limit\": 50, \"offset\": 50, \"categories\": \"mexican\"}\n",
    "#max results per call is 50, so add offset param (\"offset\": 50, 100, etc.) to get full list per ethnicity\n",
    "#\"limit\": 50\n",
    "\n",
    "# Pretty Print the output of JSON data\n",
    "mexican2_response = requests.get(url=endpoint, headers=headers, params=params).json()\n",
    "mexican2_response[\"Ethnicity\"]=\"mexican\"\n",
    "#print(mexican2_response[\"total\"])\n",
    "#print(json.dumps(mexican2_response, indent=4, sort_keys=True))"
   ]
  },
  {
   "cell_type": "code",
   "execution_count": 15,
   "metadata": {},
   "outputs": [],
   "source": [
    "# type/ethnicity of food is stored in yelp API under \"categories:alias -- MUST BE ONE WORD!\"\n",
    "ethnicity = ['chinese','french','greek','indian','italian','japanese','brazilian','mexican','new american','soul food','thai']\n",
    "# YELP base URL\n",
    "endpoint = 'https://api.yelp.com/v3/businesses/search'\n",
    "headers = {'Authorization': 'Bearer %s' % yelp_api}\n",
    "params = {\"term\": \"restaurants\", \"location\": \"indianapolis\", \"limit\": 50, \"offset\": 100, \"categories\": \"mexican\"}\n",
    "#max results per call is 50, so add offset param (\"offset\": 50, 100, etc.) to get full list per ethnicity\n",
    "#\"limit\": 50\n",
    "\n",
    "# Pretty Print the output of JSON data\n",
    "mexican3_response = requests.get(url=endpoint, headers=headers, params=params).json()\n",
    "mexican3_response[\"Ethnicity\"]=\"mexican\"\n",
    "#print(mexican3_response[\"total\"])\n",
    "#print(json.dumps(mexican3_response, indent=4, sort_keys=True))"
   ]
  },
  {
   "cell_type": "code",
   "execution_count": 16,
   "metadata": {},
   "outputs": [],
   "source": [
    "# type/ethnicity of food is stored in yelp API under \"categories:alias -- MUST BE ONE WORD!\"\n",
    "ethnicity = ['chinese','french','greek','indian','italian','japanese','brazilian','mexican','new american','soul food','thai']\n",
    "# YELP base URL\n",
    "endpoint = 'https://api.yelp.com/v3/businesses/search'\n",
    "headers = {'Authorization': 'Bearer %s' % yelp_api}\n",
    "params = {\"term\": \"restaurants\", \"location\": \"indianapolis\", \"limit\": 50, \"offset\": 150, \"categories\": \"mexican\"}\n",
    "#max results per call is 50, so add offset param (\"offset\": 50, 100, etc.) to get full list per ethnicity\n",
    "#\"limit\": 50\n",
    "\n",
    "# Pretty Print the output of JSON data\n",
    "mexican4_response = requests.get(url=endpoint, headers=headers, params=params).json()\n",
    "mexican4_response[\"Ethnicity\"]=\"mexican\"\n",
    "#print(mexican4_response[\"total\"])\n",
    "#print(json.dumps(mexican4_response, indent=4, sort_keys=True))"
   ]
  },
  {
   "cell_type": "code",
   "execution_count": 17,
   "metadata": {},
   "outputs": [],
   "source": [
    "# type/ethnicity of food is stored in yelp API under \"categories:alias -- MUST BE ONE WORD!\"\n",
    "ethnicity = ['chinese','french','greek','indian','italian','japanese','brazilian','mexican','new american','soul food','thai']\n",
    "# YELP base URL\n",
    "endpoint = 'https://api.yelp.com/v3/businesses/search'\n",
    "headers = {'Authorization': 'Bearer %s' % yelp_api}\n",
    "params = {\"term\": \"restaurants\", \"location\": \"indianapolis\", \"limit\": 50, \"offset\": 200, \"categories\": \"mexican\"}\n",
    "#max results per call is 50, so add offset param (\"offset\": 50, 100, etc.) to get full list per ethnicity\n",
    "#\"limit\": 50\n",
    "\n",
    "# Pretty Print the output of JSON data\n",
    "mexican5_response = requests.get(url=endpoint, headers=headers, params=params).json()\n",
    "mexican5_response[\"Ethnicity\"]=\"mexican\"\n",
    "#print(mexican5_response[\"total\"])\n",
    "#print(json.dumps(mexican5_response, indent=4, sort_keys=True))"
   ]
  },
  {
   "cell_type": "code",
   "execution_count": 18,
   "metadata": {},
   "outputs": [
    {
     "name": "stdout",
     "output_type": "stream",
     "text": [
      "18\n"
     ]
    }
   ],
   "source": [
    "indianapolis_coords = \"32.779167, -96.808891\"\n",
    "# type/ethnicity of food is stored in yelp API under \"categories:alias -- MUST BE ONE WORD!\"\n",
    "ethnicity = ['chinese','french','greek','indian','italian','japanese','brazilian','mexican','new american','soul food','thai']\n",
    "# YELP base URL\n",
    "endpoint = 'https://api.yelp.com/v3/businesses/search'\n",
    "headers = {'Authorization': 'Bearer %s' % yelp_api}\n",
    "params = {\"term\": \"restaurants\", \"location\": \"indianapolis\", \"limit\": 50, \"categories\": \"soulfood\"}\n",
    "#max results per call is 50, so add offset param (\"offset\": 50, 100, etc.) to get full list per ethnicity\n",
    "#\"limit\": 50\n",
    "\n",
    "# Pretty Print the output of JSON data\n",
    "soulfood_response = requests.get(url=endpoint, headers=headers, params=params).json()\n",
    "soulfood_response[\"Ethnicity\"]=\"soulfood\"\n",
    "print(soulfood_response[\"total\"])\n",
    "#print(json.dumps(soulfood_response, indent=4, sort_keys=True))"
   ]
  },
  {
   "cell_type": "code",
   "execution_count": 19,
   "metadata": {},
   "outputs": [
    {
     "name": "stdout",
     "output_type": "stream",
     "text": [
      "68\n"
     ]
    }
   ],
   "source": [
    "indianapolis_coords = \"32.779167, -96.808891\"\n",
    "# type/ethnicity of food is stored in yelp API under \"categories:alias -- MUST BE ONE WORD!\"\n",
    "ethnicity = ['chinese','french','greek','indian','italian','japanese','brazilian','mexican','new american','soul food','thai']\n",
    "# YELP base URL\n",
    "endpoint = 'https://api.yelp.com/v3/businesses/search'\n",
    "headers = {'Authorization': 'Bearer %s' % yelp_api}\n",
    "params = {\"term\": \"restaurants\", \"location\": \"indianapolis\", \"limit\": 50, \"categories\": \"newamerican\"}\n",
    "#max results per call is 50, so add offset param (\"offset\": 50, 100, etc.) to get full list per ethnicity\n",
    "#\"limit\": 50\n",
    "\n",
    "# Pretty Print the output of JSON data\n",
    "newamerican1_response = requests.get(url=endpoint, headers=headers, params=params).json()\n",
    "newamerican1_response[\"Ethnicity\"]=\"new_american\"\n",
    "print(newamerican1_response[\"total\"])\n",
    "#print(json.dumps(newamerican1_response, indent=4, sort_keys=True))"
   ]
  },
  {
   "cell_type": "code",
   "execution_count": 20,
   "metadata": {},
   "outputs": [],
   "source": [
    "indianapolis_coords = \"32.779167, -96.808891\"\n",
    "# type/ethnicity of food is stored in yelp API under \"categories:alias -- MUST BE ONE WORD!\"\n",
    "ethnicity = ['chinese','french','greek','indian','italian','japanese','brazilian','mexican','new american','soul food','thai']\n",
    "# YELP base URL\n",
    "endpoint = 'https://api.yelp.com/v3/businesses/search'\n",
    "headers = {'Authorization': 'Bearer %s' % yelp_api}\n",
    "params = {\"term\": \"restaurants\", \"location\": \"indianapolis\", \"limit\": 50, \"offset\": 50, \"categories\": \"newamerican\"}\n",
    "#max results per call is 50, so add offset param (\"offset\": 50, 100, etc.) to get full list per ethnicity\n",
    "#\"limit\": 50\n",
    "\n",
    "# Pretty Print the output of JSON data\n",
    "newamerican2_response = requests.get(url=endpoint, headers=headers, params=params).json()\n",
    "newamerican2_response[\"Ethnicity\"]=\"new_american\"\n",
    "#print(newamerican2_response[\"total\"])\n",
    "#print(json.dumps(newamerican2_response, indent=4, sort_keys=True))"
   ]
  },
  {
   "cell_type": "code",
   "execution_count": 21,
   "metadata": {
    "scrolled": false
   },
   "outputs": [],
   "source": [
    "# list of json response dictionaries\n",
    "indianapolis_yelp = [chinese1_response, \n",
    "               chinese2_response, \n",
    "               french_response, \n",
    "               greek_response, \n",
    "               indian_response, \n",
    "               italian1_response, \n",
    "               italian2_response,  \n",
    "               japanese1_response, \n",
    "               brazilian_response,\n",
    "               thai_response, \n",
    "               soulfood_response, \n",
    "               newamerican1_response,\n",
    "               newamerican2_response,\n",
    "               mexican1_response,\n",
    "               mexican2_response,\n",
    "               mexican3_response,\n",
    "               mexican4_response,\n",
    "               mexican5_response]\n",
    "#indianapolis_yelp"
   ]
  },
  {
   "cell_type": "code",
   "execution_count": 22,
   "metadata": {
    "scrolled": true
   },
   "outputs": [],
   "source": [
    "# create empty lists for data\n",
    "name = []\n",
    "city = []\n",
    "latitude = []\n",
    "longitude = []\n",
    "zipcode = []\n",
    "ethnicity = []\n",
    "price = []\n",
    "rating = []\n",
    "\n",
    "for i in range(len(indianapolis_yelp)):\n",
    "    for j in range(len(indianapolis_yelp[i]['businesses'])):\n",
    "        name.append(indianapolis_yelp[i][\"businesses\"][j][\"name\"])\n",
    "        city.append(\"indianapolis\")\n",
    "        latitude.append(indianapolis_yelp[i][\"businesses\"][j][\"coordinates\"][\"latitude\"])\n",
    "        longitude.append(indianapolis_yelp[i][\"businesses\"][j][\"coordinates\"][\"longitude\"])\n",
    "        zipcode.append(indianapolis_yelp[i][\"businesses\"][j][\"location\"][\"zip_code\"])\n",
    "        ethnicity.append((indianapolis_yelp[i]['Ethnicity']))\n",
    "        try:\n",
    "            price.append(indianapolis_yelp[i][\"businesses\"][j][\"price\"])\n",
    "        except KeyError:\n",
    "            price.append(\"N/A\")\n",
    "        rating.append(indianapolis_yelp[i][\"businesses\"][j][\"rating\"])"
   ]
  },
  {
   "cell_type": "code",
   "execution_count": 23,
   "metadata": {},
   "outputs": [
    {
     "name": "stdout",
     "output_type": "stream",
     "text": [
      "507\n",
      "507\n",
      "507\n",
      "507\n",
      "507\n",
      "507\n"
     ]
    }
   ],
   "source": [
    "print(len(name))\n",
    "print(len(city))\n",
    "print(len(latitude))\n",
    "print(len(longitude))\n",
    "print(len(zipcode))\n",
    "print(len(rating))"
   ]
  },
  {
   "cell_type": "code",
   "execution_count": 24,
   "metadata": {},
   "outputs": [],
   "source": [
    "# create dictionary for restaurant data\n",
    "restaurant_dict = {\n",
    "    \"name\": name,\n",
    "    \"city\": city,\n",
    "    \"latitude\": latitude,\n",
    "    \"longitude\": longitude,\n",
    "    \"zipcode\": zipcode,\n",
    "    \"ethnicity\": ethnicity,\n",
    "    \"price\": price,\n",
    "    \"rating\": rating}"
   ]
  },
  {
   "cell_type": "code",
   "execution_count": 25,
   "metadata": {},
   "outputs": [
    {
     "data": {
      "text/html": [
       "<div>\n",
       "<style scoped>\n",
       "    .dataframe tbody tr th:only-of-type {\n",
       "        vertical-align: middle;\n",
       "    }\n",
       "\n",
       "    .dataframe tbody tr th {\n",
       "        vertical-align: top;\n",
       "    }\n",
       "\n",
       "    .dataframe thead th {\n",
       "        text-align: right;\n",
       "    }\n",
       "</style>\n",
       "<table border=\"1\" class=\"dataframe\">\n",
       "  <thead>\n",
       "    <tr style=\"text-align: right;\">\n",
       "      <th></th>\n",
       "      <th>name</th>\n",
       "      <th>city</th>\n",
       "      <th>latitude</th>\n",
       "      <th>longitude</th>\n",
       "      <th>zipcode</th>\n",
       "      <th>ethnicity</th>\n",
       "      <th>price</th>\n",
       "      <th>rating</th>\n",
       "    </tr>\n",
       "  </thead>\n",
       "  <tbody>\n",
       "    <tr>\n",
       "      <th>0</th>\n",
       "      <td>Asian Snack</td>\n",
       "      <td>indianapolis</td>\n",
       "      <td>39.820046</td>\n",
       "      <td>-86.228305</td>\n",
       "      <td>46222</td>\n",
       "      <td>chinese</td>\n",
       "      <td>$</td>\n",
       "      <td>4.5</td>\n",
       "    </tr>\n",
       "    <tr>\n",
       "      <th>1</th>\n",
       "      <td>Hong Kong China Restaurant</td>\n",
       "      <td>indianapolis</td>\n",
       "      <td>39.787680</td>\n",
       "      <td>-86.159940</td>\n",
       "      <td>46202</td>\n",
       "      <td>chinese</td>\n",
       "      <td>$</td>\n",
       "      <td>3.5</td>\n",
       "    </tr>\n",
       "    <tr>\n",
       "      <th>2</th>\n",
       "      <td>General Tso Inn</td>\n",
       "      <td>indianapolis</td>\n",
       "      <td>39.758240</td>\n",
       "      <td>-86.114960</td>\n",
       "      <td>46203</td>\n",
       "      <td>chinese</td>\n",
       "      <td>$</td>\n",
       "      <td>4.0</td>\n",
       "    </tr>\n",
       "    <tr>\n",
       "      <th>3</th>\n",
       "      <td>Fei Da</td>\n",
       "      <td>indianapolis</td>\n",
       "      <td>39.788189</td>\n",
       "      <td>-86.208588</td>\n",
       "      <td>46222</td>\n",
       "      <td>chinese</td>\n",
       "      <td>$</td>\n",
       "      <td>4.0</td>\n",
       "    </tr>\n",
       "    <tr>\n",
       "      <th>4</th>\n",
       "      <td>Asian Harbor</td>\n",
       "      <td>indianapolis</td>\n",
       "      <td>39.774140</td>\n",
       "      <td>-86.161667</td>\n",
       "      <td>46204</td>\n",
       "      <td>chinese</td>\n",
       "      <td>$$</td>\n",
       "      <td>3.5</td>\n",
       "    </tr>\n",
       "    <tr>\n",
       "      <th>...</th>\n",
       "      <td>...</td>\n",
       "      <td>...</td>\n",
       "      <td>...</td>\n",
       "      <td>...</td>\n",
       "      <td>...</td>\n",
       "      <td>...</td>\n",
       "      <td>...</td>\n",
       "      <td>...</td>\n",
       "    </tr>\n",
       "    <tr>\n",
       "      <th>502</th>\n",
       "      <td>Taco Bell</td>\n",
       "      <td>indianapolis</td>\n",
       "      <td>39.905167</td>\n",
       "      <td>-86.059453</td>\n",
       "      <td>46250</td>\n",
       "      <td>mexican</td>\n",
       "      <td>$</td>\n",
       "      <td>2.0</td>\n",
       "    </tr>\n",
       "    <tr>\n",
       "      <th>503</th>\n",
       "      <td>Chipotle Mexican Grill</td>\n",
       "      <td>indianapolis</td>\n",
       "      <td>39.905766</td>\n",
       "      <td>-86.077454</td>\n",
       "      <td>46250</td>\n",
       "      <td>mexican</td>\n",
       "      <td>$</td>\n",
       "      <td>2.5</td>\n",
       "    </tr>\n",
       "    <tr>\n",
       "      <th>504</th>\n",
       "      <td>Taco Bell</td>\n",
       "      <td>indianapolis</td>\n",
       "      <td>39.709099</td>\n",
       "      <td>-86.082211</td>\n",
       "      <td>46203</td>\n",
       "      <td>mexican</td>\n",
       "      <td>$</td>\n",
       "      <td>2.0</td>\n",
       "    </tr>\n",
       "    <tr>\n",
       "      <th>505</th>\n",
       "      <td>Carniceria El Michoacano</td>\n",
       "      <td>indianapolis</td>\n",
       "      <td>39.816525</td>\n",
       "      <td>-86.269371</td>\n",
       "      <td>46224</td>\n",
       "      <td>mexican</td>\n",
       "      <td>N/A</td>\n",
       "      <td>2.0</td>\n",
       "    </tr>\n",
       "    <tr>\n",
       "      <th>506</th>\n",
       "      <td>Taco Bell</td>\n",
       "      <td>indianapolis</td>\n",
       "      <td>39.823759</td>\n",
       "      <td>-86.234975</td>\n",
       "      <td>46254</td>\n",
       "      <td>mexican</td>\n",
       "      <td>$</td>\n",
       "      <td>2.0</td>\n",
       "    </tr>\n",
       "  </tbody>\n",
       "</table>\n",
       "<p>507 rows × 8 columns</p>\n",
       "</div>"
      ],
      "text/plain": [
       "                           name          city   latitude  longitude zipcode  \\\n",
       "0                   Asian Snack  indianapolis  39.820046 -86.228305   46222   \n",
       "1    Hong Kong China Restaurant  indianapolis  39.787680 -86.159940   46202   \n",
       "2               General Tso Inn  indianapolis  39.758240 -86.114960   46203   \n",
       "3                        Fei Da  indianapolis  39.788189 -86.208588   46222   \n",
       "4                  Asian Harbor  indianapolis  39.774140 -86.161667   46204   \n",
       "..                          ...           ...        ...        ...     ...   \n",
       "502                   Taco Bell  indianapolis  39.905167 -86.059453   46250   \n",
       "503      Chipotle Mexican Grill  indianapolis  39.905766 -86.077454   46250   \n",
       "504                   Taco Bell  indianapolis  39.709099 -86.082211   46203   \n",
       "505    Carniceria El Michoacano  indianapolis  39.816525 -86.269371   46224   \n",
       "506                   Taco Bell  indianapolis  39.823759 -86.234975   46254   \n",
       "\n",
       "    ethnicity price  rating  \n",
       "0     chinese     $     4.5  \n",
       "1     chinese     $     3.5  \n",
       "2     chinese     $     4.0  \n",
       "3     chinese     $     4.0  \n",
       "4     chinese    $$     3.5  \n",
       "..        ...   ...     ...  \n",
       "502   mexican     $     2.0  \n",
       "503   mexican     $     2.5  \n",
       "504   mexican     $     2.0  \n",
       "505   mexican   N/A     2.0  \n",
       "506   mexican     $     2.0  \n",
       "\n",
       "[507 rows x 8 columns]"
      ]
     },
     "execution_count": 25,
     "metadata": {},
     "output_type": "execute_result"
    }
   ],
   "source": [
    "# create dataframe from dictionary data\n",
    "indianapolis_restaurants = pd.DataFrame(restaurant_dict)\n",
    "indianapolis_restaurants"
   ]
  },
  {
   "cell_type": "code",
   "execution_count": 26,
   "metadata": {},
   "outputs": [],
   "source": [
    "# export to CSV\n",
    "indianapolis_restaurants.to_csv('./Output/Data/indianapolis_restaurants.csv', index=None, header=True)"
   ]
  },
  {
   "cell_type": "code",
   "execution_count": null,
   "metadata": {},
   "outputs": [],
   "source": []
  }
 ],
 "metadata": {
  "kernelspec": {
   "display_name": "Python [conda env:PythonData] *",
   "language": "python",
   "name": "conda-env-PythonData-py"
  },
  "language_info": {
   "codemirror_mode": {
    "name": "ipython",
    "version": 3
   },
   "file_extension": ".py",
   "mimetype": "text/x-python",
   "name": "python",
   "nbconvert_exporter": "python",
   "pygments_lexer": "ipython3",
   "version": "3.6.10"
  }
 },
 "nbformat": 4,
 "nbformat_minor": 4
}
