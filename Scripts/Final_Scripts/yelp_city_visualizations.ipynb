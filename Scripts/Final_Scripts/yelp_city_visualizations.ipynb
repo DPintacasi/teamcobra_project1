{
 "cells": [
  {
   "cell_type": "code",
   "execution_count": 1,
   "metadata": {},
   "outputs": [
    {
     "ename": "ImportError",
     "evalue": "cannot import name 'google_key'",
     "output_type": "error",
     "traceback": [
      "\u001b[0;31m---------------------------------------------------------------------------\u001b[0m",
      "\u001b[0;31mImportError\u001b[0m                               Traceback (most recent call last)",
      "\u001b[0;32m<ipython-input-1-ff60d6fcab41>\u001b[0m in \u001b[0;36m<module>\u001b[0;34m\u001b[0m\n\u001b[1;32m      9\u001b[0m \u001b[0;32mimport\u001b[0m \u001b[0mgmaps\u001b[0m\u001b[0;34m\u001b[0m\u001b[0;34m\u001b[0m\u001b[0m\n\u001b[1;32m     10\u001b[0m \u001b[0;34m\u001b[0m\u001b[0m\n\u001b[0;32m---> 11\u001b[0;31m \u001b[0;32mfrom\u001b[0m \u001b[0mconfig\u001b[0m \u001b[0;32mimport\u001b[0m \u001b[0mgoogle_key\u001b[0m\u001b[0;34m\u001b[0m\u001b[0;34m\u001b[0m\u001b[0m\n\u001b[0m",
      "\u001b[0;31mImportError\u001b[0m: cannot import name 'google_key'"
     ]
    }
   ],
   "source": [
    "# Import dependencies\n",
    "import matplotlib.pyplot as plt\n",
    "from matplotlib import cm\n",
    "import pandas as pd\n",
    "import numpy as np\n",
    "import requests\n",
    "import random\n",
    "import scipy.stats as st\n",
    "import gmaps\n",
    "\n",
    "from config import google_key"
   ]
  },
  {
   "cell_type": "markdown",
   "metadata": {},
   "source": [
    "# Dallas"
   ]
  },
  {
   "cell_type": "code",
   "execution_count": null,
   "metadata": {},
   "outputs": [],
   "source": [
    "# import yelp city csv & read into dataframe\n",
    "dallas_yelp_path = \"./Output/Data/dallas_restaurants.csv\"\n",
    "dallas_yelp = pd.read_csv(dallas_yelp_path)\n",
    "dallas_yelp"
   ]
  },
  {
   "cell_type": "code",
   "execution_count": null,
   "metadata": {
    "scrolled": true
   },
   "outputs": [],
   "source": [
    "dallas_ethnicity_sums = dallas_yelp[\"ethnicity\"].value_counts()"
   ]
  },
  {
   "cell_type": "code",
   "execution_count": null,
   "metadata": {},
   "outputs": [],
   "source": [
    "ethnicity_colors=['red', 'orange', 'yellow', 'lime', 'green', 'cyan', 'dodgerblue', 'blue', 'darkviolet', 'purple', 'magenta']"
   ]
  },
  {
   "cell_type": "code",
   "execution_count": null,
   "metadata": {},
   "outputs": [],
   "source": [
    "ethnic_groups = dallas_yelp.groupby(\"ethnicity\")\n",
    "ethnic_counts = ethnic_groups['ethnicity'].count()\n",
    "\n",
    "#my_cmap = cm.get_cmap('plasma')\n",
    "dallas_ethnic_bar = ethnic_counts.plot(kind='bar', color=ethnicity_colors)\n",
    "                                       #color=[plt.cm.plasma(np.arange(len(dallas_ethnicity_sums)))])\n",
    "dallas_ethnic_bar.set_title(\"# of Restaurants by Ethnicity in Dallas\")\n",
    "dallas_ethnic_bar.set_xlabel(\"Ethnicity\")\n",
    "dallas_ethnic_bar.set_ylabel(\"# of Restaurants\")\n",
    "plt.savefig(\"./Output/Charts/DallasYelpBar.png\")\n",
    "plt.figure(figsize=(12,6))\n",
    "plt.tight_layout()\n",
    "plt.show()"
   ]
  },
  {
   "cell_type": "code",
   "execution_count": null,
   "metadata": {},
   "outputs": [],
   "source": [
    "price_groups = dallas_yelp[\"price\"].value_counts()\n",
    "price_groups"
   ]
  },
  {
   "cell_type": "code",
   "execution_count": null,
   "metadata": {},
   "outputs": [],
   "source": [
    "# create new filtered df to drop any restaurants that have no price grade listed\n",
    "dallas_price_df = pd.DataFrame(dallas_yelp.dropna(subset=['price']))\n",
    "dallas_price_df['price_int'] = [len(price) for price in dallas_price_df['price']]\n",
    "dallas_price_df"
   ]
  },
  {
   "cell_type": "code",
   "execution_count": null,
   "metadata": {},
   "outputs": [],
   "source": [
    "dallas_ethnic_price = dallas_price_df.groupby(\"ethnicity\")[\"price\"].value_counts()\n",
    "#dallas_ethnic_price"
   ]
  },
  {
   "cell_type": "code",
   "execution_count": null,
   "metadata": {},
   "outputs": [],
   "source": [
    "bar_plot = dallas_price_df[dallas_price_df[\"price_int\"]==1].groupby(\"ethnicity\").count()[\"price\"].plot(kind='bar', color='mediumslateblue')\n",
    "bar_plot.set_ylabel(\"Count of 1$ Restaurants\")\n",
    "bar_plot.set_xlabel(\"Cuisine Type\")\n",
    "bar_plot.set_title(\"1$ Restaurants by Cuisine/Restaurant Type in Dallas\")\n",
    "plt.savefig(\"./Output/Charts/Dallas_Ethnic_1$_Bar.png\")"
   ]
  },
  {
   "cell_type": "code",
   "execution_count": null,
   "metadata": {},
   "outputs": [],
   "source": [
    "bar_plot2 = dallas_price_df[dallas_price_df[\"price_int\"]==2].groupby(\"ethnicity\").count()[\"price\"].plot(kind='bar', color=\"slateblue\")\n",
    "bar_plot2.set_ylabel(\"Count of 2$ Restaurants\")\n",
    "bar_plot2.set_xlabel(\"Cuisine Type\")\n",
    "bar_plot2.set_title(\"2$ Restaurants by Cuisine/Restaurant Type in Dallas\")\n",
    "plt.savefig(\"./Output/Charts/Dallas_Ethnic_2$_Bar.png\")"
   ]
  },
  {
   "cell_type": "code",
   "execution_count": null,
   "metadata": {},
   "outputs": [],
   "source": [
    "bar_plot3 = dallas_price_df[(dallas_price_df[\"price_int\"]==3)|(dallas_price_df[\"price_int\"]==4)].groupby(\"ethnicity\").count()[\"price\"].plot(kind='bar', color='darkslateblue')\n",
    "bar_plot3.set_ylabel(\"Count of 3$ and 4$ Restaurants\")\n",
    "bar_plot3.set_xlabel(\"Cuisine Type\")\n",
    "bar_plot3.set_title(\"3$ and 4$ Restaurants by Cuisine/Restaurant Type in Dallas\")\n",
    "plt.savefig(\"./Output/Charts/Dallas_Ethnic_3$4$_Bar.png\")"
   ]
  },
  {
   "cell_type": "code",
   "execution_count": null,
   "metadata": {},
   "outputs": [],
   "source": [
    "# bar_plot.set_xlabel(\"Ethnicity & Pricepoint\")\n",
    "# bar_plot.set_ylabel(\"Count\")\n",
    "# bar_plot.set_title(\"Breakdown of Restaurant Ethnicity by Pricepoint - Dallas\")\n",
    "# #plt.savefig(\"./Output/Charts/Dallas_Ethnicity_Price_Bar.png\")\n",
    "# plt.tight_layout()\n",
    "# plt.show()"
   ]
  },
  {
   "cell_type": "code",
   "execution_count": null,
   "metadata": {},
   "outputs": [],
   "source": [
    "dallas_rating_price = dallas_price_df.groupby(\"rating\")[\"price\"].value_counts()\n",
    "#dallas_rating_price"
   ]
  },
  {
   "cell_type": "code",
   "execution_count": null,
   "metadata": {},
   "outputs": [],
   "source": [
    "# bar_plot = dallas_price_df.groupby(\"rating\")[\"price_int\"].value_counts().plot(kind='bar') \n",
    "# bar_plot.set_xlabel(\"Rating & Pricepoint\")\n",
    "# bar_plot.set_ylabel(\"Count\")\n",
    "# bar_plot.set_title(\"Breakdown of Restaurant Rating by Pricepoint - Dallas\")\n",
    "# #plt.savefig(\"./Output/Charts/Dallas_Rating_Price_Bar.png\")\n",
    "# plt.show()"
   ]
  },
  {
   "cell_type": "code",
   "execution_count": null,
   "metadata": {},
   "outputs": [],
   "source": [
    "bar_plot = dallas_price_df[dallas_price_df[\"price_int\"]==1].groupby(\"rating\").count()[\"price\"].plot(kind='bar', color='turquoise')\n",
    "bar_plot.set_ylabel(\"Count of 1$ Restaurants\")\n",
    "bar_plot.set_xlabel(\"Rating\")\n",
    "bar_plot.set_title(\"Breakdown of Restaurant Rating by $ Pricepoint - Dallas\")\n",
    "plt.savefig(\"./Output/Charts/Dallas_Rating_1$_Bar.png\")"
   ]
  },
  {
   "cell_type": "code",
   "execution_count": null,
   "metadata": {},
   "outputs": [],
   "source": [
    "bar_plot = dallas_price_df[dallas_price_df[\"price_int\"]==2].groupby(\"rating\").count()[\"price\"].plot(kind='bar', color='lightseagreen')\n",
    "bar_plot.set_ylabel(\"Count of 2$ Restaurants\")\n",
    "bar_plot.set_xlabel(\"Rating\")\n",
    "bar_plot.set_title(\"Breakdown of Restaurant Rating by 2$ Pricepoint - Dallas\")\n",
    "plt.savefig(\"./Output/Charts/Dallas_Rating_2$_Bar.png\")"
   ]
  },
  {
   "cell_type": "code",
   "execution_count": null,
   "metadata": {},
   "outputs": [],
   "source": [
    "bar_plot3 = dallas_price_df[(dallas_price_df[\"price_int\"]==3)|(dallas_price_df[\"price_int\"]==4)].groupby(\"rating\").count()[\"price\"].plot(kind='bar', color='teal')\n",
    "bar_plot3.set_ylabel(\"Count of 3$ & 4$ Restaurants\")\n",
    "bar_plot3.set_xlabel(\"Rating\")\n",
    "bar_plot3.set_title(\"Breakdown of Restaurant Rating by 3$ and 4$ Pricepoint - Dallas\")\n",
    "plt.savefig(\"./Output/Charts/Dallas_Rating_3$4$_Bar.png\")"
   ]
  },
  {
   "cell_type": "code",
   "execution_count": null,
   "metadata": {},
   "outputs": [],
   "source": [
    "# Configure gmaps\n",
    "gmaps.configure(api_key=google_key)\n",
    "\n",
    "figure_layout = {\n",
    "    'width': '600px',\n",
    "    'height': '400px',\n",
    "    'border': '1px solid black',\n",
    "    'padding': '1px'\n",
    "}\n",
    "\n",
    "# create variables for heatmap\n",
    "locations = dallas_price_df[[\"latitude\", \"longitude\"]]\n",
    "price = dallas_price_df[\"price_int\"].astype(float)\n",
    "dallas_center = (32.779167, -96.808891)\n",
    "\n",
    "fig = gmaps.figure(layout=figure_layout, center=dallas_center, zoom_level=5)\n",
    "\n",
    "# create heat layer\n",
    "heat_layer = gmaps.heatmap_layer(locations, weights=price, dissipating=True, point_radius=10)\n",
    "\n",
    "# add layer\n",
    "fig.add_layer(heat_layer)\n",
    "\n",
    "# display figure\n",
    "fig"
   ]
  },
  {
   "cell_type": "markdown",
   "metadata": {},
   "source": [
    "# Seattle"
   ]
  },
  {
   "cell_type": "code",
   "execution_count": null,
   "metadata": {},
   "outputs": [],
   "source": [
    "# import yelp city csv & read into dataframe\n",
    "seattle_yelp_path = \"./Output/Data/seattle_restaurants.csv\"\n",
    "seattle_yelp = pd.read_csv(seattle_yelp_path)\n",
    "seattle_yelp.head()"
   ]
  },
  {
   "cell_type": "code",
   "execution_count": null,
   "metadata": {},
   "outputs": [],
   "source": [
    "seattle_ethnicity_sums = seattle_yelp[\"ethnicity\"].value_counts()\n",
    "seattle_ethnicity_sums"
   ]
  },
  {
   "cell_type": "code",
   "execution_count": null,
   "metadata": {},
   "outputs": [],
   "source": [
    "ethnic_groups = seattle_yelp.groupby(\"ethnicity\")\n",
    "ethnic_counts = ethnic_groups['ethnicity'].count()\n",
    "seattle_ethnic_bar = ethnic_counts.plot(kind='bar', color=ethnicity_colors)\n",
    "seattle_ethnic_bar.set_title(\"# of Restaurants by Ethnicity in Seattle\")\n",
    "seattle_ethnic_bar.set_xlabel(\"Ethnicity\")\n",
    "seattle_ethnic_bar.set_ylabel(\"# of Restaurants\")\n",
    "plt.savefig(\"./Output/Charts/SeattleYelpBar.png\")\n",
    "plt.figure(figsize=(12,6))\n",
    "plt.tight_layout()\n",
    "plt.show()"
   ]
  },
  {
   "cell_type": "code",
   "execution_count": null,
   "metadata": {},
   "outputs": [],
   "source": [
    "seattle_price_df = pd.DataFrame(seattle_yelp.dropna(subset=['price']))\n",
    "seattle_price_df['price_int'] = [len(price) for price in seattle_price_df['price']]\n",
    "seattle_price_df"
   ]
  },
  {
   "cell_type": "code",
   "execution_count": null,
   "metadata": {},
   "outputs": [],
   "source": [
    "seattle_ethnic_price = seattle_price_df.groupby(\"ethnicity\")[\"price\"].value_counts()\n",
    "#seattle_ethnic_price"
   ]
  },
  {
   "cell_type": "code",
   "execution_count": null,
   "metadata": {},
   "outputs": [],
   "source": [
    "bar_plot = seattle_price_df[seattle_price_df[\"price_int\"]==1].groupby(\"ethnicity\").count()[\"price\"].plot(kind='bar', color='mediumslateblue')\n",
    "bar_plot.set_ylabel(\"Count of 1$ Restaurants\")\n",
    "bar_plot.set_xlabel(\"Cuisine Type\")\n",
    "bar_plot.set_title(\"1$ Restaurants by Cuisine/Restaurant Type in Seattle\")\n",
    "plt.savefig(\"./Output/Charts/Seattle_Ethnic_1$_Bar.png\")"
   ]
  },
  {
   "cell_type": "code",
   "execution_count": null,
   "metadata": {},
   "outputs": [],
   "source": [
    "bar_plot2 = seattle_price_df[seattle_price_df[\"price_int\"]==2].groupby(\"ethnicity\").count()[\"price\"].plot(kind='bar', color='slateblue')\n",
    "bar_plot2.set_ylabel(\"Count of 2$ Restaurants\")\n",
    "bar_plot2.set_xlabel(\"Cuisine Type\")\n",
    "bar_plot2.set_title(\"2$ Restaurants by Cuisine/Restaurant Type in Seattle\")\n",
    "plt.savefig(\"./Output/Charts/Seattle_Ethnic_2$_Bar.png\")"
   ]
  },
  {
   "cell_type": "code",
   "execution_count": null,
   "metadata": {},
   "outputs": [],
   "source": [
    "bar_plot3 = seattle_price_df[(seattle_price_df[\"price_int\"]==3)|(seattle_price_df[\"price_int\"]==4)].groupby(\"ethnicity\").count()[\"price\"].plot(kind='bar', color='darkslateblue')\n",
    "bar_plot3.set_ylabel(\"Count of 3$ and 4$ Restaurants\")\n",
    "bar_plot3.set_xlabel(\"Cuisine Type\")\n",
    "bar_plot3.set_title(\"3$ and 4$ Restaurants by Cuisine/Restaurant Type in Seattle\")\n",
    "plt.savefig(\"./Output/Charts/Seattle_Ethnic_3$4$_Bar.png\")"
   ]
  },
  {
   "cell_type": "code",
   "execution_count": null,
   "metadata": {},
   "outputs": [],
   "source": [
    "# bar_plot = seattle_price_df.groupby(\"ethnicity\")[\"price_int\"].value_counts().plot(kind='bar') \n",
    "# bar_plot.set_xlabel = (\"Ethnicity & Pricepoint\")\n",
    "# bar_plot.set_ylabel =(\"Count\")\n",
    "# bar_plot.set_title = (\"Breakdown of Restaurant Ethnicity by Pricepoint - Seattle\")\n",
    "# #plt.savefig(\"./Output/Charts/Seattle_Ethnic_Price_Bar.png\")\n",
    "# plt.show()"
   ]
  },
  {
   "cell_type": "code",
   "execution_count": null,
   "metadata": {},
   "outputs": [],
   "source": [
    "seattle_rating_price = seattle_price_df.groupby(\"rating\")[\"price\"].value_counts()\n",
    "# seattle_rating_price"
   ]
  },
  {
   "cell_type": "code",
   "execution_count": null,
   "metadata": {},
   "outputs": [],
   "source": [
    "bar_plot = seattle_price_df[seattle_price_df[\"price_int\"]==1].groupby(\"rating\").count()[\"price\"].plot(kind='bar', color='turquoise')\n",
    "bar_plot.set_ylabel(\"Count of 1$ Restaurants\")\n",
    "bar_plot.set_xlabel(\"Rating\")\n",
    "bar_plot.set_title(\"Breakdown of Restaurant Rating by $ Pricepoint - Seattle\")\n",
    "plt.savefig(\"./Output/Charts/seattle_Rating_$_Bar.png\")"
   ]
  },
  {
   "cell_type": "code",
   "execution_count": null,
   "metadata": {},
   "outputs": [],
   "source": [
    "bar_plot2 = seattle_price_df[seattle_price_df[\"price_int\"]==2].groupby(\"rating\").count()[\"price\"].plot(kind='bar', color='lightseagreen')\n",
    "bar_plot2.set_ylabel(\"Count of 2$ Restaurants\")\n",
    "bar_plot2.set_xlabel(\"Rating\")\n",
    "bar_plot2.set_title(\"Breakdown of Restaurant Rating by 2$ Pricepoint - Seattle\")\n",
    "plt.savefig(\"./Output/Charts/seattle_Rating_2$_Bar.png\")"
   ]
  },
  {
   "cell_type": "code",
   "execution_count": null,
   "metadata": {},
   "outputs": [],
   "source": [
    "bar_plot3 = seattle_price_df[(seattle_price_df[\"price_int\"]==3)|(seattle_price_df[\"price_int\"]==4)].groupby(\"rating\").count()[\"price\"].plot(kind='bar', color='teal')\n",
    "bar_plot3.set_ylabel(\"Count of 3$ & 4$ Restaurants\")\n",
    "bar_plot3.set_xlabel(\"Rating\")\n",
    "bar_plot3.set_title(\"Breakdown of Restaurant Rating by 3$ and 4$ Pricepoint - Seattle\")\n",
    "plt.savefig(\"./Output/Charts/Seattle_Rating_3$4$_Bar.png\")"
   ]
  },
  {
   "cell_type": "code",
   "execution_count": null,
   "metadata": {},
   "outputs": [],
   "source": [
    "# seattle_price_df.groupby(\"rating\")[\"price_int\"].value_counts().plot(kind='bar') \n",
    "# plt.xlabel =(\"Rating & Pricepoint\")\n",
    "# plt.ylabel =(\"Count\")\n",
    "# plt.title =(\"Breakdown of Restaurant Rating by Pricepoint - Seattle\")\n",
    "# #plt.savefig(\"./Output/Charts/Seattle_Rating_Price_Bar.png\")\n",
    "# plt.show()"
   ]
  },
  {
   "cell_type": "code",
   "execution_count": null,
   "metadata": {
    "scrolled": true
   },
   "outputs": [],
   "source": [
    "# Configure gmaps\n",
    "gmaps.configure(api_key=google_key)\n",
    "\n",
    "figure_layout = {\n",
    "    'width': '600px',\n",
    "    'height': '400px',\n",
    "    'border': '1px solid black',\n",
    "    'padding': '1px'\n",
    "}\n",
    "\n",
    "# create variables for heatmap\n",
    "locations = seattle_price_df[[\"latitude\", \"longitude\"]]\n",
    "price = seattle_price_df[\"price_int\"].astype(float)\n",
    "#maxprice = price_int.max()\n",
    "\n",
    "#dallas_center = (32.779167, -96.808891)\n",
    "seattle_center = (47.608013, -122.335167)\n",
    "fig = gmaps.figure(layout=figure_layout, center=seattle_center, zoom_level=5)\n",
    "\n",
    "# create heat layer\n",
    "heat_layer = gmaps.heatmap_layer(locations, weights=price, dissipating=True, point_radius=5)\n",
    "\n",
    "# add layer\n",
    "fig.add_layer(heat_layer)\n",
    "\n",
    "# display figure\n",
    "fig"
   ]
  },
  {
   "cell_type": "markdown",
   "metadata": {},
   "source": [
    "# Indianapolis"
   ]
  },
  {
   "cell_type": "code",
   "execution_count": null,
   "metadata": {},
   "outputs": [],
   "source": [
    "indianapolis_yelp_path = \"./Output/Data/indianapolis_restaurants.csv\"\n",
    "indianapolis_yelp = pd.read_csv(indianapolis_yelp_path)\n",
    "indianapolis_yelp.head()"
   ]
  },
  {
   "cell_type": "code",
   "execution_count": null,
   "metadata": {},
   "outputs": [],
   "source": [
    "indianapolis_ethnicity_sums = indianapolis_yelp[\"ethnicity\"].value_counts()\n",
    "# indianapolis_ethnicity_sums"
   ]
  },
  {
   "cell_type": "code",
   "execution_count": null,
   "metadata": {
    "scrolled": true
   },
   "outputs": [],
   "source": [
    "indy_ethnic_groups = indianapolis_yelp.groupby(\"ethnicity\")\n",
    "indy_ethnic_counts = indy_ethnic_groups['ethnicity'].count()\n",
    "indianapolis_ethnic_bar = indy_ethnic_counts.plot(kind='bar', color=ethnicity_colors)\n",
    "indianapolis_ethnic_bar.set_title(\"# of Restaurants by Ethnicity in indianapolis\")\n",
    "indianapolis_ethnic_bar.set_xlabel(\"Ethnicity\")\n",
    "indianapolis_ethnic_bar.set_ylabel(\"# of Restaurants\")\n",
    "plt.savefig(\"./Output/Charts/IndianapolisYelpBar.png\")\n",
    "plt.figure(figsize=(12,6))\n",
    "plt.tight_layout()\n",
    "plt.show()"
   ]
  },
  {
   "cell_type": "code",
   "execution_count": null,
   "metadata": {},
   "outputs": [],
   "source": [
    "indy_price_df = pd.DataFrame(indianapolis_yelp.dropna(subset=['price']))\n",
    "indy_price_df['price_int'] = [len(price) for price in indy_price_df['price']]\n",
    "indy_price_df"
   ]
  },
  {
   "cell_type": "code",
   "execution_count": null,
   "metadata": {},
   "outputs": [],
   "source": [
    "indy_ethnic_price = indy_price_df.groupby(\"ethnicity\")[\"price\"].value_counts()\n",
    "#indy_ethnic_price"
   ]
  },
  {
   "cell_type": "code",
   "execution_count": null,
   "metadata": {},
   "outputs": [],
   "source": [
    "bar_plot = indy_price_df[indy_price_df[\"price_int\"]==1].groupby(\"ethnicity\").count()[\"price\"].plot(kind='bar', color='mediumslateblue')\n",
    "bar_plot.set_ylabel(\"Count of 1$ Restaurants\")\n",
    "bar_plot.set_xlabel(\"Cuisine Type\")\n",
    "bar_plot.set_title(\"1$ Restaurants by Cuisine/Restaurant Type in Indianapolis\")\n",
    "plt.savefig(\"./Output/Charts/indy_Ethnic_1$_Bar.png\")"
   ]
  },
  {
   "cell_type": "code",
   "execution_count": null,
   "metadata": {},
   "outputs": [],
   "source": [
    "bar_plot2 = indy_price_df[indy_price_df[\"price_int\"]==2].groupby(\"ethnicity\").count()[\"price\"].plot(kind='bar', color='slateblue')\n",
    "bar_plot2.set_ylabel(\"Count of 2$ Restaurants\")\n",
    "bar_plot2.set_xlabel(\"Cuisine Type\")\n",
    "bar_plot2.set_title(\"2$ Restaurants by Cuisine/Restaurant Type in Indianapolis\")\n",
    "plt.savefig(\"./Output/Charts/Indy_Ethnic_2$_Bar.png\")"
   ]
  },
  {
   "cell_type": "code",
   "execution_count": null,
   "metadata": {},
   "outputs": [],
   "source": [
    "bar_plot3 = indy_price_df[(indy_price_df[\"price_int\"]==3)|(indy_price_df[\"price_int\"]==4)].groupby(\"ethnicity\").count()[\"price\"].plot(kind='bar', color='darkslateblue')\n",
    "bar_plot3.set_ylabel(\"Count of 3$ and 4$ Restaurants\")\n",
    "bar_plot3.set_xlabel(\"Cuisine Type\")\n",
    "bar_plot3.set_title(\"3$ and 4$ Restaurants by Cuisine/Restaurant Type in Indianapolis\")\n",
    "plt.savefig(\"./Output/Charts/Indy_Ethnic_3$4$_Bar.png\")"
   ]
  },
  {
   "cell_type": "code",
   "execution_count": null,
   "metadata": {},
   "outputs": [],
   "source": [
    "# indy_price_df.groupby(\"ethnicity\")[\"price_int\"].value_counts().plot(kind='bar') \n",
    "# plt.xlabel =(\"Ethnicity & Pricepoint\")\n",
    "# plt.ylabel =(\"Count\")\n",
    "# plt.title =(\"Breakdown of Restaurant Ethnicity by Pricepoint - Indianapolis\")\n",
    "# #plt.savefig(\"./Output/Charts/Indianapolis_Ethnic_Price_Bar.png\")\n",
    "# plt.show()"
   ]
  },
  {
   "cell_type": "code",
   "execution_count": null,
   "metadata": {},
   "outputs": [],
   "source": [
    "indy_rating_price = indy_price_df.groupby(\"rating\")[\"price\"].value_counts()\n",
    "#indy_rating_price"
   ]
  },
  {
   "cell_type": "code",
   "execution_count": null,
   "metadata": {},
   "outputs": [],
   "source": [
    "bar_plot = indy_price_df[indy_price_df[\"price_int\"]==1].groupby(\"rating\").count()[\"price\"].plot(kind='bar', color='turquoise')\n",
    "bar_plot.set_ylabel(\"Count of 1$ Restaurants\")\n",
    "bar_plot.set_xlabel(\"Rating\")\n",
    "bar_plot.set_title(\"Breakdown of Restaurant Rating by $ Pricepoint - Indianapolis\")\n",
    "plt.savefig(\"./Output/Charts/Indy_Rating_1$_Bar.png\")"
   ]
  },
  {
   "cell_type": "code",
   "execution_count": null,
   "metadata": {},
   "outputs": [],
   "source": [
    "bar_plot2 = indy_price_df[indy_price_df[\"price_int\"]==2].groupby(\"rating\").count()[\"price\"].plot(kind='bar', color='lightseagreen')\n",
    "bar_plot2.set_ylabel(\"Count of 2$ Restaurants\")\n",
    "bar_plot2.set_xlabel(\"Rating\")\n",
    "bar_plot2.set_title(\"Breakdown of Restaurant Rating by 2$ Pricepoint - Indianapolis\")\n",
    "plt.savefig(\"./Output/Charts/Indy_Rating_2$_Bar.png\")"
   ]
  },
  {
   "cell_type": "code",
   "execution_count": null,
   "metadata": {},
   "outputs": [],
   "source": [
    "bar_plot3 = indy_price_df[(indy_price_df[\"price_int\"]==3)|(indy_price_df[\"price_int\"]==4)].groupby(\"rating\").count()[\"price\"].plot(kind='bar', color='teal')\n",
    "bar_plot3.set_ylabel(\"Count of 3$ & 4$ Restaurants\")\n",
    "bar_plot3.set_xlabel(\"Rating\")\n",
    "bar_plot3.set_title(\"Breakdown of Restaurant Rating by 3$ and 4$ Pricepoint - Indianapolis\")\n",
    "plt.savefig(\"./Output/Charts/Indy_Rating_3$4$_Bar.png\")"
   ]
  },
  {
   "cell_type": "code",
   "execution_count": null,
   "metadata": {},
   "outputs": [],
   "source": [
    "# indy_price_df.groupby(\"rating\")[\"price_int\"].value_counts().plot(kind='bar') \n",
    "# plt.xlabel =(\"Rating & Pricepoint\")\n",
    "# plt.ylabel =(\"Count\")\n",
    "# plt.title =(\"Breakdown of Restaurant Ethnicity by Pricepoint - Indianapolis\")\n",
    "# #plt.savefig(\"./Output/Charts/Indianapolis_Ethnic_Price_Bar.png\")\n",
    "# plt.show()"
   ]
  },
  {
   "cell_type": "code",
   "execution_count": null,
   "metadata": {},
   "outputs": [],
   "source": [
    "# Configure gmaps\n",
    "gmaps.configure(api_key=google_key)\n",
    "\n",
    "figure_layout = {\n",
    "    'width': '600px',\n",
    "    'height': '400px',\n",
    "    'border': '1px solid black',\n",
    "    'padding': '1px'\n",
    "}\n",
    "\n",
    "# create variables for heatmap\n",
    "locations = indy_price_df[[\"latitude\", \"longitude\"]]\n",
    "price = indy_price_df[\"price_int\"].astype(float)\n",
    "indy_center = (39.791000, -86.148003)\n",
    "\n",
    "fig = gmaps.figure(layout=figure_layout, center=indy_center, zoom_level=5)\n",
    "\n",
    "# create heat layer\n",
    "heat_layer = gmaps.heatmap_layer(locations, weights=price, dissipating=True, point_radius=10)\n",
    "\n",
    "# add layer\n",
    "fig.add_layer(heat_layer)\n",
    "\n",
    "# display figure\n",
    "fig"
   ]
  },
  {
   "cell_type": "markdown",
   "metadata": {},
   "source": [
    "# Atlanta"
   ]
  },
  {
   "cell_type": "code",
   "execution_count": null,
   "metadata": {},
   "outputs": [],
   "source": [
    "# read in atlanta csv\n",
    "\n",
    "atlanta_restaurant_totals = pd.read_csv(\"../Output/Data/atlanta_restaurants.csv\")"
   ]
  },
  {
   "cell_type": "code",
   "execution_count": null,
   "metadata": {},
   "outputs": [],
   "source": [
    "atlanta_restaurant_totals"
   ]
  },
  {
   "cell_type": "code",
   "execution_count": null,
   "metadata": {},
   "outputs": [],
   "source": [
    "atlanta_summary_df = atlanta_restaurant_totals.groupby('ethnicity')\n",
    "\n",
    "atlanta_summary_df.head()"
   ]
  },
  {
   "cell_type": "code",
   "execution_count": null,
   "metadata": {},
   "outputs": [],
   "source": [
    "#create a bar chart for all ethnicities total restaurants\n",
    "\n",
    "\n",
    "atl_ethnic_total= atlanta_summary_df['ethnicity'].count()\n",
    "\n",
    "atl_ethnic_bar = atl_ethnic_total.plot(kind='bar')\n",
    "atl_ethnic_bar.set_title(\"Restaurants by Ethnicity in Atlanta\")\n",
    "atl_ethnic_bar.set_xlabel(\"Ethnicity\")\n",
    "atl_ethnic_bar.set_ylabel(\"Number of Restaurants\")\n",
    "plt.savefig(\"../Output/Charts/barchart_rest_ethnicity_atlanta.png\")\n",
    "\n",
    "plt.tight_layout()\n",
    "plt.show()\n"
   ]
  },
  {
   "cell_type": "code",
   "execution_count": null,
   "metadata": {},
   "outputs": [],
   "source": [
    "price_df = atlanta_restaurant_totals.dropna()\n",
    "price_df['price_int'] = [ len(price) for price in price_df['price']]"
   ]
  },
  {
   "cell_type": "code",
   "execution_count": null,
   "metadata": {},
   "outputs": [],
   "source": [
    "# value counts for ethnicities\n",
    "\n",
    "ethnic_counts = price_df['ethnicity'].value_counts()\n",
    "\n",
    "ethnic_counts"
   ]
  },
  {
   "cell_type": "code",
   "execution_count": null,
   "metadata": {},
   "outputs": [],
   "source": [
    "# Plot a bar chart for price level by ethnicity - price level 1\n",
    "\n",
    "atl_ethnic_price1 = price_df[price_df['price_int']==1].groupby('ethnicity').count()['name'].plot(kind='bar')\n",
    "\n",
    "\n",
    "#Set labels \n",
    "atl_ethnic_price1.set_xlabel(\"Ethnicity\")\n",
    "atl_ethnic_price1.set_ylabel(\"Number of Restaurants\")\n",
    "atl_ethnic_price1.set_title(\"Price Point by Ethnicity for Atlanta - Level 1\")\n",
    "plt.tight_layout()\n",
    "plt.savefig(\"../Output/Charts/barchart_price1_ethnicity_atlanta.png\")\n",
    "plt.show()"
   ]
  },
  {
   "cell_type": "code",
   "execution_count": null,
   "metadata": {},
   "outputs": [],
   "source": [
    "# Plot a bar chart for price level by ethnicity - price level 2\n",
    "\n",
    "atl_ethnic_price2 = price_df[price_df['price_int']==2].groupby('ethnicity').count()['name'].plot(kind='bar')\n",
    "\n",
    "\n",
    "#Set labels \n",
    "atl_ethnic_price2.set_xlabel(\"Ethnicity\")\n",
    "atl_ethnic_price2.set_ylabel(\"Number of Restaurants\")\n",
    "atl_ethnic_price2.set_title(\"Price Point by Ethnicity for Atlanta - Level 2\")\n",
    "plt.tight_layout()\n",
    "plt.savefig(\"../Output/Charts/barchart_price2_ethnicity_atlanta.png\")\n",
    "plt.show()"
   ]
  },
  {
   "cell_type": "code",
   "execution_count": null,
   "metadata": {},
   "outputs": [],
   "source": [
    "# Plot a bar chart for price level by ethnicity - price level 3 or 4\n",
    "\n",
    "atl_ethnic_price34 = price_df[(price_df['price_int']==3)|(price_df['price_int']==4)].groupby('ethnicity').count()['name'].plot(kind='bar')\n",
    "\n",
    "#Set labels \n",
    "atl_ethnic_price34.set_xlabel(\"Ethnicity\")\n",
    "atl_ethnic_price34.set_ylabel(\"Number of Restaurants\")\n",
    "atl_ethnic_price34.set_title(\"Price Point by Ethnicity for Atlanta - Level 3 or 4\")\n",
    "plt.tight_layout()\n",
    "plt.savefig(\"../Output/Charts/barchart_price34_ethnicity_atlanta.png\")\n",
    "plt.show()"
   ]
  },
  {
   "cell_type": "code",
   "execution_count": null,
   "metadata": {},
   "outputs": [],
   "source": [
    "# Plot a bar chart price vs rating - 1 $\n",
    "\n",
    "atl_rating_price1 = price_df[price_df['price_int']==1].groupby('rating').count()['name'].plot(kind='bar')\n",
    "\n",
    "#Set labels \n",
    "atl_rating_price1.set_xlabel(\"Rating\")\n",
    "atl_rating_price1.set_ylabel(\"Number of Restaurants\")\n",
    "atl_rating_price1.set_title(\"Rating by Price Point for Atlanta - Level 1\")\n",
    "plt.tight_layout()\n",
    "plt.savefig(\"../Output/Charts/barchart_price_rating1_atlanta.png\")\n",
    "plt.show()"
   ]
  },
  {
   "cell_type": "code",
   "execution_count": null,
   "metadata": {},
   "outputs": [],
   "source": [
    "# Plot a bar chart price vs rating - 2 $\n",
    "\n",
    "atl_rating_price2 = price_df[price_df['price_int']==2].groupby('rating').count()['name'].plot(kind='bar')\n",
    "\n",
    "#Set labels \n",
    "atl_rating_price2.set_xlabel(\"Rating\")\n",
    "atl_rating_price2.set_ylabel(\"Number of Restaurants\")\n",
    "atl_rating_price2.set_title(\"Rating by Price Point for Atlanta - Level 2\")\n",
    "plt.tight_layout()\n",
    "plt.savefig(\"../Output/Charts/barchart_price_rating2_atlanta.png\")\n",
    "plt.show()"
   ]
  },
  {
   "cell_type": "code",
   "execution_count": null,
   "metadata": {},
   "outputs": [],
   "source": [
    "# Plot a bar chart price vs rating - 3 or 4 $\n",
    "\n",
    "atl_rating_price34 = price_df[(price_df['price_int']==3)|(price_df['price_int']==4)].groupby('rating').count()['name'].plot(kind='bar')\n",
    "\n",
    "#Set labels \n",
    "atl_rating_price34.set_xlabel(\"Rating\")\n",
    "atl_rating_price34.set_ylabel(\"Number of Restaurants\")\n",
    "atl_rating_price34.set_title(\"Rating by Price Point for Atlanta - Level 3 or 4\")\n",
    "plt.tight_layout()\n",
    "plt.savefig(\"../Output/Charts/barchart_price_rating34_atlanta.png\")\n",
    "plt.show()"
   ]
  },
  {
   "cell_type": "code",
   "execution_count": null,
   "metadata": {},
   "outputs": [],
   "source": [
    "#heat map\n",
    "\n",
    "#configure gmaps\n",
    "gmaps.configure(api_key=g_key)\n",
    "\n",
    "#Use the Lat and Lng as locations \n",
    "atl_locations = price_df[[\"latitude\", \"longitude\"]]\n",
    "atl_prices = price_df[\"price_int\"]"
   ]
  },
  {
   "cell_type": "code",
   "execution_count": null,
   "metadata": {},
   "outputs": [],
   "source": [
    "#Add Heatmap layer to map\n",
    "\n",
    "atlanta_heatfig = gmaps.figure(center=(33.0, -83.0), zoom_level=5)\n",
    "atlanta_max_intensity = np.max(atl_prices)\n",
    "\n",
    "atlanta_heat_layer = gmaps.heatmap_layer(atl_locations, weights = atl_prices, dissipating=True, max_intensity=4, point_radius=5)\n",
    "\n",
    "atlanta_heatfig.add_layer(atlanta_heat_layer)\n",
    "\n",
    "atlanta_heatfig"
   ]
  },
  {
   "cell_type": "markdown",
   "metadata": {},
   "source": [
    "# Philadelphia"
   ]
  },
  {
   "cell_type": "code",
   "execution_count": null,
   "metadata": {},
   "outputs": [],
   "source": [
    "# read in philly csv\n",
    "\n",
    "philly_restaurant_totals = pd.read_csv(\"../Output/Data/philadelphia_restaurants.csv\")"
   ]
  },
  {
   "cell_type": "code",
   "execution_count": null,
   "metadata": {},
   "outputs": [],
   "source": [
    "philly_restaurant_totals"
   ]
  },
  {
   "cell_type": "code",
   "execution_count": null,
   "metadata": {},
   "outputs": [],
   "source": [
    "philly_summary_df = philly_restaurant_totals.groupby('ethnicity')\n",
    "\n",
    "philly_summary_df.head()"
   ]
  },
  {
   "cell_type": "code",
   "execution_count": null,
   "metadata": {},
   "outputs": [],
   "source": [
    "#create a bar chart for all ethnicities total restaurants\n",
    "\n",
    "\n",
    "phl_ethnic_total= philly_summary_df['ethnicity'].count()\n",
    "\n",
    "phl_ethnic_bar = phl_ethnic_total.plot(kind='bar')\n",
    "phl_ethnic_bar.set_title(\"Restaurants by Ethnicity in Philadelphia\")\n",
    "phl_ethnic_bar.set_xlabel(\"Ethnicity\")\n",
    "phl_ethnic_bar.set_ylabel(\"Number of Restaurants\")\n",
    "plt.savefig(\"../Output/Charts/barchart_rest_ethnicity_philadelphia.png\")\n",
    "\n",
    "plt.tight_layout()\n",
    "plt.show()"
   ]
  },
  {
   "cell_type": "code",
   "execution_count": null,
   "metadata": {},
   "outputs": [],
   "source": [
    "philly_price_df = philly_restaurant_totals.dropna()\n",
    "\n",
    "philly_price_df['price_int'] = [ len(price) for price in philly_price_df['price']]"
   ]
  },
  {
   "cell_type": "code",
   "execution_count": null,
   "metadata": {},
   "outputs": [],
   "source": [
    "# value counts for ethnicities\n",
    "\n",
    "ethnic_counts = philly_price_df['ethnicity'].value_counts()\n",
    "\n",
    "ethnic_counts"
   ]
  },
  {
   "cell_type": "code",
   "execution_count": null,
   "metadata": {},
   "outputs": [],
   "source": [
    "# Plot a bar chart for price level by ethnicity - price level 1\n",
    "\n",
    "phl_ethnic_price1 = philly_price_df[philly_price_df['price_int']==1].groupby('ethnicity').count()['name'].plot(kind='bar')\n",
    "\n",
    "\n",
    "#Set labels \n",
    "phl_ethnic_price1.set_xlabel(\"Ethnicity\")\n",
    "phl_ethnic_price1.set_ylabel(\"Number of Restaurants\")\n",
    "phl_ethnic_price1.set_title(\"Price Point by Ethnicity for Philadelphia - Level 1\")\n",
    "plt.tight_layout()\n",
    "plt.savefig(\"../Output/Charts/barchart_price1_ethnicity_philadelphia.png\")\n",
    "plt.show()"
   ]
  },
  {
   "cell_type": "code",
   "execution_count": null,
   "metadata": {},
   "outputs": [],
   "source": [
    "# Plot a bar chart for price level by ethnicity - price level 2\n",
    "\n",
    "phl_ethnic_price2 = philly_price_df[philly_price_df['price_int']==2].groupby('ethnicity').count()['name'].plot(kind='bar')\n",
    "\n",
    "\n",
    "#Set labels \n",
    "phl_ethnic_price2.set_xlabel(\"Ethnicity\")\n",
    "phl_ethnic_price2.set_ylabel(\"Number of Restaurants\")\n",
    "phl_ethnic_price2.set_title(\"Price Point by Ethnicity for Philadelphia - Level 2\")\n",
    "plt.tight_layout()\n",
    "plt.savefig(\"../Output/Charts/barchart_price2_ethnicity_philadelphia.png\")\n",
    "plt.show()"
   ]
  },
  {
   "cell_type": "code",
   "execution_count": null,
   "metadata": {},
   "outputs": [],
   "source": [
    "# Plot a bar chart for price level by ethnicity - price level 3 or 4\n",
    "\n",
    "phl_ethnic_price34 = philly_price_df[(philly_price_df['price_int']==3)|(price_df['price_int']==4)].groupby('ethnicity').count()['name'].plot(kind='bar')\n",
    "\n",
    "#Set labels \n",
    "phl_ethnic_price34.set_xlabel(\"Ethnicity\")\n",
    "phl_ethnic_price34.set_ylabel(\"Number of Restaurants\")\n",
    "phl_ethnic_price34.set_title(\"Price Point by Ethnicity for Philadelphia - Level 3 or 4\")\n",
    "plt.tight_layout()\n",
    "plt.savefig(\"../Output/Charts/barchart_price34_ethnicity_philadelphia.png\")\n",
    "plt.show()"
   ]
  },
  {
   "cell_type": "code",
   "execution_count": null,
   "metadata": {},
   "outputs": [],
   "source": [
    "# Plot a bar chart price vs rating - 1 $\n",
    "\n",
    "phl_rating_price1 = philly_price_df[philly_price_df['price_int']==1].groupby('rating').count()['name'].plot(kind='bar')\n",
    "\n",
    "#Set labels \n",
    "phl_rating_price1.set_xlabel(\"Rating\")\n",
    "phl_rating_price1.set_ylabel(\"Number of Restaurants\")\n",
    "phl_rating_price1.set_title(\"Rating by Price Point for Philadelphia - Level 1\")\n",
    "plt.tight_layout()\n",
    "plt.savefig(\"../Output/Charts/barchart_price_rating1_philadelphia.png\")\n",
    "plt.show()"
   ]
  },
  {
   "cell_type": "code",
   "execution_count": null,
   "metadata": {},
   "outputs": [],
   "source": [
    "# Plot a bar chart price vs rating - 2 $\n",
    "\n",
    "phl_rating_price2 = philly_price_df[philly_price_df['price_int']==2].groupby('rating').count()['name'].plot(kind='bar')\n",
    "\n",
    "#Set labels \n",
    "phl_rating_price2.set_xlabel(\"Rating\")\n",
    "phl_rating_price2.set_ylabel(\"Number of Restaurants\")\n",
    "phl_rating_price2.set_title(\"Rating by Price Point for Philadelphia - Level 2\")\n",
    "plt.tight_layout()\n",
    "plt.savefig(\"../Output/Charts/barchart_price_rating2_philadelphia.png\")\n",
    "plt.show()"
   ]
  },
  {
   "cell_type": "code",
   "execution_count": null,
   "metadata": {},
   "outputs": [],
   "source": [
    "# Plot a bar chart price vs rating - 3 or 4 $\n",
    "\n",
    "phl_rating_price34 = philly_price_df[(philly_price_df['price_int']==3)|(philly_price_df['price_int']==4)].groupby('rating').count()['name'].plot(kind='bar')\n",
    "\n",
    "\n",
    "#Set labels \n",
    "phl_rating_price34.set_xlabel(\"Rating\")\n",
    "phl_rating_price34.set_ylabel(\"Number of Restaurants\")\n",
    "phl_rating_price34.set_title(\"Rating by Price Point for Philadelphia - Level 3 or 4\")\n",
    "plt.tight_layout()\n",
    "plt.savefig(\"../Output/Charts/barchart_price_rating34_philadelphia.png\")\n",
    "plt.show()"
   ]
  },
  {
   "cell_type": "code",
   "execution_count": null,
   "metadata": {},
   "outputs": [],
   "source": [
    "#heat map\n",
    "\n",
    "#configure gmaps\n",
    "gmaps.configure(api_key=g_key)\n",
    "\n",
    "#Use the Lat and Lng as locations \n",
    "phl_locations = philly_price_df[[\"latitude\", \"longitude\"]]\n",
    "phl_prices = philly_price_df[\"price_int\"]"
   ]
  },
  {
   "cell_type": "code",
   "execution_count": null,
   "metadata": {},
   "outputs": [],
   "source": [
    "#Add Heatmap layer to map\n",
    "\n",
    "philly_heatfig = gmaps.figure(center=(39.0, -75.0), zoom_level=5)\n",
    "philly_max_intensity = np.max(atl_prices)\n",
    "\n",
    "philly_heat_layer = gmaps.heatmap_layer(phl_locations, weights = phl_prices, dissipating=True, max_intensity=4, point_radius=5)\n",
    "\n",
    "philly_heatfig.add_layer(philly_heat_layer)\n",
    "\n",
    "philly_heatfig"
   ]
  },
  {
   "cell_type": "code",
   "execution_count": null,
   "metadata": {},
   "outputs": [],
   "source": []
  }
 ],
 "metadata": {
  "kernelspec": {
   "display_name": "Python [conda env:PythonData] *",
   "language": "python",
   "name": "conda-env-PythonData-py"
  },
  "language_info": {
   "codemirror_mode": {
    "name": "ipython",
    "version": 3
   },
   "file_extension": ".py",
   "mimetype": "text/x-python",
   "name": "python",
   "nbconvert_exporter": "python",
   "pygments_lexer": "ipython3",
   "version": "3.6.10"
  }
 },
 "nbformat": 4,
 "nbformat_minor": 4
}
