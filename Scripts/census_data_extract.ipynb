{
 "cells": [
  {
   "cell_type": "code",
   "execution_count": 1,
   "metadata": {},
   "outputs": [],
   "source": [
    "import numpy as np\n",
    "import pandas as pd\n",
    "import matplotlib.pyplot as plt\n",
    "import requests\n",
    "from census import Census\n",
    "\n",
    "# Census API Key\n",
    "from config import census_key\n",
    "c = Census(census_key, year=2018)"
   ]
  },
  {
   "cell_type": "code",
   "execution_count": 2,
   "metadata": {},
   "outputs": [
    {
     "data": {
      "text/html": [
       "<div>\n",
       "<style scoped>\n",
       "    .dataframe tbody tr th:only-of-type {\n",
       "        vertical-align: middle;\n",
       "    }\n",
       "\n",
       "    .dataframe tbody tr th {\n",
       "        vertical-align: top;\n",
       "    }\n",
       "\n",
       "    .dataframe thead th {\n",
       "        text-align: right;\n",
       "    }\n",
       "</style>\n",
       "<table border=\"1\" class=\"dataframe\">\n",
       "  <thead>\n",
       "    <tr style=\"text-align: right;\">\n",
       "      <th></th>\n",
       "      <th>B01003_001E</th>\n",
       "      <th>B19013_001E</th>\n",
       "      <th>B19301_001E</th>\n",
       "      <th>B02018_007E</th>\n",
       "      <th>zip code tabulation area</th>\n",
       "    </tr>\n",
       "  </thead>\n",
       "  <tbody>\n",
       "    <tr>\n",
       "      <th>0</th>\n",
       "      <td>17242.0</td>\n",
       "      <td>13092.0</td>\n",
       "      <td>6999.0</td>\n",
       "      <td>0.0</td>\n",
       "      <td>00601</td>\n",
       "    </tr>\n",
       "    <tr>\n",
       "      <th>1</th>\n",
       "      <td>38442.0</td>\n",
       "      <td>16358.0</td>\n",
       "      <td>9277.0</td>\n",
       "      <td>0.0</td>\n",
       "      <td>00602</td>\n",
       "    </tr>\n",
       "    <tr>\n",
       "      <th>2</th>\n",
       "      <td>48814.0</td>\n",
       "      <td>16603.0</td>\n",
       "      <td>11307.0</td>\n",
       "      <td>112.0</td>\n",
       "      <td>00603</td>\n",
       "    </tr>\n",
       "    <tr>\n",
       "      <th>3</th>\n",
       "      <td>6437.0</td>\n",
       "      <td>12832.0</td>\n",
       "      <td>5943.0</td>\n",
       "      <td>0.0</td>\n",
       "      <td>00606</td>\n",
       "    </tr>\n",
       "    <tr>\n",
       "      <th>4</th>\n",
       "      <td>27073.0</td>\n",
       "      <td>19309.0</td>\n",
       "      <td>10220.0</td>\n",
       "      <td>0.0</td>\n",
       "      <td>00610</td>\n",
       "    </tr>\n",
       "  </tbody>\n",
       "</table>\n",
       "</div>"
      ],
      "text/plain": [
       "   B01003_001E  B19013_001E  B19301_001E  B02018_007E zip code tabulation area\n",
       "0      17242.0      13092.0       6999.0          0.0                    00601\n",
       "1      38442.0      16358.0       9277.0          0.0                    00602\n",
       "2      48814.0      16603.0      11307.0        112.0                    00603\n",
       "3       6437.0      12832.0       5943.0          0.0                    00606\n",
       "4      27073.0      19309.0      10220.0          0.0                    00610"
      ]
     },
     "execution_count": 2,
     "metadata": {},
     "output_type": "execute_result"
    }
   ],
   "source": [
    "census_data = c.acs5.get(('B01003_001E','B19013_001E','B19301_001E','B02018_007E'), \n",
    "                         {'for': 'zip code tabulation area:*'})\n",
    "\n",
    "census_pd = pd.DataFrame(census_data)\n",
    "\n",
    "census_pd.head()\n"
   ]
  },
  {
   "cell_type": "code",
   "execution_count": null,
   "metadata": {},
   "outputs": [],
   "source": []
  },
  {
   "cell_type": "code",
   "execution_count": null,
   "metadata": {},
   "outputs": [],
   "source": []
  }
 ],
 "metadata": {
  "kernelspec": {
   "display_name": "Python [conda env:PythonData] *",
   "language": "python",
   "name": "conda-env-PythonData-py"
  },
  "language_info": {
   "codemirror_mode": {
    "name": "ipython",
    "version": 3
   },
   "file_extension": ".py",
   "mimetype": "text/x-python",
   "name": "python",
   "nbconvert_exporter": "python",
   "pygments_lexer": "ipython3",
   "version": "3.6.10"
  }
 },
 "nbformat": 4,
 "nbformat_minor": 4
}
