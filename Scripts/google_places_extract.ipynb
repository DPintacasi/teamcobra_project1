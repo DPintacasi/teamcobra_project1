{
 "cells": [
  {
   "cell_type": "code",
   "execution_count": 10,
   "metadata": {},
   "outputs": [],
   "source": [
    "#import dependencies\n",
    "\n",
    "import requests\n",
    "import json\n",
    "import numpy as np\n",
    "import pandas as pd\n",
    "import matplotlib.pyplot as plt\n",
    "import gmaps\n",
    "import os \n",
    "import pprint\n",
    "import urllib\n",
    "\n",
    "#import yelp_key\n",
    "from config import yelp_key \n",
    "\n"
   ]
  },
  {
   "cell_type": "code",
   "execution_count": 2,
   "metadata": {},
   "outputs": [],
   "source": [
    "#read in zipcode CSVs\n",
    "\n",
    "philadelphia_zips = pd.read_csv(\"../Resources/philadelphia_zipcodes.csv\")\n",
    "\n",
    "atlanta_zips = pd.read_csv(\"../Resources/atlanta_zipcodes.csv\")\n",
    "\n",
    "dallas_zips = pd.read_csv(\"../Resources/dallas_zipcodes.csv\")\n",
    "\n",
    "indianapolis_zips = pd.read_csv(\"../Resources/indianapolis_zipcodes.csv\")\n",
    "\n",
    "seattle_zips = pd.read_csv(\"../Resources/seattle_zipcodes.csv\")\n"
   ]
  },
  {
   "cell_type": "code",
   "execution_count": 3,
   "metadata": {},
   "outputs": [
    {
     "data": {
      "text/html": [
       "<div>\n",
       "<style scoped>\n",
       "    .dataframe tbody tr th:only-of-type {\n",
       "        vertical-align: middle;\n",
       "    }\n",
       "\n",
       "    .dataframe tbody tr th {\n",
       "        vertical-align: top;\n",
       "    }\n",
       "\n",
       "    .dataframe thead th {\n",
       "        text-align: right;\n",
       "    }\n",
       "</style>\n",
       "<table border=\"1\" class=\"dataframe\">\n",
       "  <thead>\n",
       "    <tr style=\"text-align: right;\">\n",
       "      <th></th>\n",
       "      <th>Philadelphia</th>\n",
       "    </tr>\n",
       "  </thead>\n",
       "  <tbody>\n",
       "    <tr>\n",
       "      <th>43</th>\n",
       "      <td>19150</td>\n",
       "    </tr>\n",
       "    <tr>\n",
       "      <th>44</th>\n",
       "      <td>19151</td>\n",
       "    </tr>\n",
       "    <tr>\n",
       "      <th>45</th>\n",
       "      <td>19152</td>\n",
       "    </tr>\n",
       "    <tr>\n",
       "      <th>46</th>\n",
       "      <td>19153</td>\n",
       "    </tr>\n",
       "    <tr>\n",
       "      <th>47</th>\n",
       "      <td>19154</td>\n",
       "    </tr>\n",
       "  </tbody>\n",
       "</table>\n",
       "</div>"
      ],
      "text/plain": [
       "   Philadelphia\n",
       "43        19150\n",
       "44        19151\n",
       "45        19152\n",
       "46        19153\n",
       "47        19154"
      ]
     },
     "execution_count": 3,
     "metadata": {},
     "output_type": "execute_result"
    }
   ],
   "source": [
    "#clean zip codes of url reference at bottom\n",
    "philadelphia_zips.drop(philadelphia_zips.tail(1).index,inplace=True)\n",
    "atlanta_zips.drop(atlanta_zips.tail(1).index,inplace=True)\n",
    "dallas_zips.drop(dallas_zips.tail(1).index,inplace=True)\n",
    "indianapolis_zips.drop(indianapolis_zips.tail(1).index,inplace=True)\n",
    "seattle_zips.drop(seattle_zips.tail(1).index,inplace=True)\n",
    "\n",
    "\n",
    "#check that this worked\n",
    "philadelphia_zips.tail()"
   ]
  },
  {
   "cell_type": "code",
   "execution_count": 4,
   "metadata": {},
   "outputs": [],
   "source": [
    "# set up additional columns to hold information - philadelphia\n",
    "philadelphia_zips['name'] = \"\"\n",
    "philadelphia_zips['ethnicity'] = \"\"\n",
    "philadelphia_zips['price level'] = \"\"\n",
    "philadelphia_zips['service type'] = \"\"\n",
    "philadelphia_zips['rating'] = \"\"\n",
    "\n",
    "\n",
    "philly_zips = [zips for zips in philadelphia_zips['Philadelphia'] ]"
   ]
  },
  {
   "cell_type": "code",
   "execution_count": 5,
   "metadata": {},
   "outputs": [
    {
     "data": {
      "text/html": [
       "<div>\n",
       "<style scoped>\n",
       "    .dataframe tbody tr th:only-of-type {\n",
       "        vertical-align: middle;\n",
       "    }\n",
       "\n",
       "    .dataframe tbody tr th {\n",
       "        vertical-align: top;\n",
       "    }\n",
       "\n",
       "    .dataframe thead th {\n",
       "        text-align: right;\n",
       "    }\n",
       "</style>\n",
       "<table border=\"1\" class=\"dataframe\">\n",
       "  <thead>\n",
       "    <tr style=\"text-align: right;\">\n",
       "      <th></th>\n",
       "      <th>ethnicity</th>\n",
       "    </tr>\n",
       "  </thead>\n",
       "  <tbody>\n",
       "    <tr>\n",
       "      <th>0</th>\n",
       "      <td>chinese</td>\n",
       "    </tr>\n",
       "    <tr>\n",
       "      <th>1</th>\n",
       "      <td>french</td>\n",
       "    </tr>\n",
       "    <tr>\n",
       "      <th>2</th>\n",
       "      <td>greek</td>\n",
       "    </tr>\n",
       "    <tr>\n",
       "      <th>3</th>\n",
       "      <td>indian</td>\n",
       "    </tr>\n",
       "    <tr>\n",
       "      <th>4</th>\n",
       "      <td>italian</td>\n",
       "    </tr>\n",
       "  </tbody>\n",
       "</table>\n",
       "</div>"
      ],
      "text/plain": [
       "  ethnicity\n",
       "0   chinese\n",
       "1    french\n",
       "2     greek\n",
       "3    indian\n",
       "4   italian"
      ]
     },
     "execution_count": 5,
     "metadata": {},
     "output_type": "execute_result"
    }
   ],
   "source": [
    "#read in ethnicites csv\n",
    "restaurant_ethnicities = pd.read_csv(\"../Resources/rest_enthinicity.csv\")\n",
    "restaurant_ethnicities.head()"
   ]
  },
  {
   "cell_type": "code",
   "execution_count": 27,
   "metadata": {},
   "outputs": [
    {
     "ename": "SyntaxError",
     "evalue": "invalid syntax (<ipython-input-27-3432913daa57>, line 10)",
     "output_type": "error",
     "traceback": [
      "\u001b[0;36m  File \u001b[0;32m\"<ipython-input-27-3432913daa57>\"\u001b[0;36m, line \u001b[0;32m10\u001b[0m\n\u001b[0;31m    'Authorization':Bearer {yelp_key},\u001b[0m\n\u001b[0m                           ^\u001b[0m\n\u001b[0;31mSyntaxError\u001b[0m\u001b[0;31m:\u001b[0m invalid syntax\n"
     ]
    }
   ],
   "source": [
    "#starting call for philadelphia\n",
    "\n",
    "#query url needs to ultimately be GET https://api.yelp.com/v3/businesses/search?term=[ethnicity]&[latitude=37.786882&longitude=-122.399972]\n",
    "\n",
    "philly_zips = [zips for zips in philadelphia_zips['Philadelphia'] ]\n",
    "restaurant_ethnic = [ethnicity for ethnicity in restaurant_ethnicities['ethnicity'] ]\n",
    "\n",
    "API_HOST = 'https://api.yelp.com/v3/categories/search'\n",
    "url_params = {\n",
    "        'Authorization':Bearer ,\n",
    "        'term': restaurant_ethnic,\n",
    "        'location': 'Philadelphia',\n",
    "    }\n",
    "   \n",
    "\n",
    "\n",
    "    \n",
    "response = requests.get(API_HOST,url_params).json()      \n",
    "#results = response['results']\n",
    "\n",
    "    #query_url = f\"{base_url}+{zipcode}&key={gkey}\"\n",
    "    #response = requests.get(query_url)\n",
    "    \n",
    "    #results = response['results']\n",
    "    \n",
    "    #philadelphia_restaurants = response.json()\n",
    "\n",
    "        #philadelphia_zips.loc[index, 'name'] = results[0]['name']\n",
    "        #philadelphia_zips.loc[index, 'price_level'] = results[0]['price_level']\n",
    "        #philadelphia_zips.loc[index, 'rating'] = results[0]['rating']\n",
    "print(json.dumps(response, indent=4, sort_keys=True))\n",
    "\n",
    "\n"
   ]
  },
  {
   "cell_type": "code",
   "execution_count": null,
   "metadata": {},
   "outputs": [],
   "source": []
  }
 ],
 "metadata": {
  "kernelspec": {
   "display_name": "Python [conda env:PythonData] *",
   "language": "python",
   "name": "conda-env-PythonData-py"
  },
  "language_info": {
   "codemirror_mode": {
    "name": "ipython",
    "version": 3
   },
   "file_extension": ".py",
   "mimetype": "text/x-python",
   "name": "python",
   "nbconvert_exporter": "python",
   "pygments_lexer": "ipython3",
   "version": "3.6.10"
  }
 },
 "nbformat": 4,
 "nbformat_minor": 4
}
