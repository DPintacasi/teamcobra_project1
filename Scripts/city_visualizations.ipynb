{
 "cells": [
  {
   "cell_type": "code",
   "execution_count": 1,
   "metadata": {},
   "outputs": [],
   "source": [
    "# Import dependencies\n",
    "import matplotlib.pyplot as plt\n",
    "import pandas as pd\n",
    "import numpy as np\n",
    "import requests\n",
    "import time\n",
    "import datetime\n",
    "import scipy.stats as st"
   ]
  },
  {
   "cell_type": "markdown",
   "metadata": {},
   "source": [
    "# Dallas"
   ]
  },
  {
   "cell_type": "code",
   "execution_count": 2,
   "metadata": {},
   "outputs": [
    {
     "data": {
      "text/html": [
       "<div>\n",
       "<style scoped>\n",
       "    .dataframe tbody tr th:only-of-type {\n",
       "        vertical-align: middle;\n",
       "    }\n",
       "\n",
       "    .dataframe tbody tr th {\n",
       "        vertical-align: top;\n",
       "    }\n",
       "\n",
       "    .dataframe thead th {\n",
       "        text-align: right;\n",
       "    }\n",
       "</style>\n",
       "<table border=\"1\" class=\"dataframe\">\n",
       "  <thead>\n",
       "    <tr style=\"text-align: right;\">\n",
       "      <th></th>\n",
       "      <th>name</th>\n",
       "      <th>city</th>\n",
       "      <th>latitude</th>\n",
       "      <th>longitude</th>\n",
       "      <th>zipcode</th>\n",
       "      <th>ethnicity</th>\n",
       "      <th>price</th>\n",
       "      <th>rating</th>\n",
       "    </tr>\n",
       "  </thead>\n",
       "  <tbody>\n",
       "    <tr>\n",
       "      <th>0</th>\n",
       "      <td>Jia Modern Chinese &amp; Asian Lounge</td>\n",
       "      <td>Dallas</td>\n",
       "      <td>32.864950</td>\n",
       "      <td>-96.804740</td>\n",
       "      <td>75225</td>\n",
       "      <td>chinese</td>\n",
       "      <td>$$</td>\n",
       "      <td>4.0</td>\n",
       "    </tr>\n",
       "    <tr>\n",
       "      <th>1</th>\n",
       "      <td>Szechuan Chinese Restaurant</td>\n",
       "      <td>Dallas</td>\n",
       "      <td>32.818150</td>\n",
       "      <td>-96.813430</td>\n",
       "      <td>75219</td>\n",
       "      <td>chinese</td>\n",
       "      <td>$</td>\n",
       "      <td>4.0</td>\n",
       "    </tr>\n",
       "    <tr>\n",
       "      <th>2</th>\n",
       "      <td>Sum Dang Good Chinese</td>\n",
       "      <td>Dallas</td>\n",
       "      <td>32.779323</td>\n",
       "      <td>-96.828615</td>\n",
       "      <td>75212</td>\n",
       "      <td>chinese</td>\n",
       "      <td>NaN</td>\n",
       "      <td>4.0</td>\n",
       "    </tr>\n",
       "    <tr>\n",
       "      <th>3</th>\n",
       "      <td>Hello Dumpling</td>\n",
       "      <td>Dallas</td>\n",
       "      <td>32.839650</td>\n",
       "      <td>-96.696860</td>\n",
       "      <td>75218</td>\n",
       "      <td>chinese</td>\n",
       "      <td>$$</td>\n",
       "      <td>4.5</td>\n",
       "    </tr>\n",
       "    <tr>\n",
       "      <th>4</th>\n",
       "      <td>Monkey King Noodle Company</td>\n",
       "      <td>Dallas</td>\n",
       "      <td>32.867374</td>\n",
       "      <td>-96.741540</td>\n",
       "      <td>75231</td>\n",
       "      <td>chinese</td>\n",
       "      <td>NaN</td>\n",
       "      <td>4.0</td>\n",
       "    </tr>\n",
       "    <tr>\n",
       "      <th>...</th>\n",
       "      <td>...</td>\n",
       "      <td>...</td>\n",
       "      <td>...</td>\n",
       "      <td>...</td>\n",
       "      <td>...</td>\n",
       "      <td>...</td>\n",
       "      <td>...</td>\n",
       "      <td>...</td>\n",
       "    </tr>\n",
       "    <tr>\n",
       "      <th>1136</th>\n",
       "      <td>Amigas Fast Food</td>\n",
       "      <td>Dallas</td>\n",
       "      <td>32.771835</td>\n",
       "      <td>-96.697858</td>\n",
       "      <td>75227</td>\n",
       "      <td>mexican</td>\n",
       "      <td>NaN</td>\n",
       "      <td>3.0</td>\n",
       "    </tr>\n",
       "    <tr>\n",
       "      <th>1137</th>\n",
       "      <td>Pollo Regio</td>\n",
       "      <td>Dallas</td>\n",
       "      <td>32.917030</td>\n",
       "      <td>-96.700640</td>\n",
       "      <td>75042</td>\n",
       "      <td>mexican</td>\n",
       "      <td>$</td>\n",
       "      <td>2.5</td>\n",
       "    </tr>\n",
       "    <tr>\n",
       "      <th>1138</th>\n",
       "      <td>Jack in the Box</td>\n",
       "      <td>Dallas</td>\n",
       "      <td>32.836819</td>\n",
       "      <td>-96.753341</td>\n",
       "      <td>75214</td>\n",
       "      <td>mexican</td>\n",
       "      <td>$</td>\n",
       "      <td>2.5</td>\n",
       "    </tr>\n",
       "    <tr>\n",
       "      <th>1139</th>\n",
       "      <td>Taco Bell</td>\n",
       "      <td>Dallas</td>\n",
       "      <td>32.909500</td>\n",
       "      <td>-96.856150</td>\n",
       "      <td>75229</td>\n",
       "      <td>mexican</td>\n",
       "      <td>$</td>\n",
       "      <td>1.5</td>\n",
       "    </tr>\n",
       "    <tr>\n",
       "      <th>1140</th>\n",
       "      <td>Taco Bell</td>\n",
       "      <td>Dallas</td>\n",
       "      <td>32.878723</td>\n",
       "      <td>-96.716793</td>\n",
       "      <td>75238</td>\n",
       "      <td>mexican</td>\n",
       "      <td>$</td>\n",
       "      <td>2.0</td>\n",
       "    </tr>\n",
       "  </tbody>\n",
       "</table>\n",
       "<p>1141 rows × 8 columns</p>\n",
       "</div>"
      ],
      "text/plain": [
       "                                   name    city   latitude  longitude  \\\n",
       "0     Jia Modern Chinese & Asian Lounge  Dallas  32.864950 -96.804740   \n",
       "1           Szechuan Chinese Restaurant  Dallas  32.818150 -96.813430   \n",
       "2                 Sum Dang Good Chinese  Dallas  32.779323 -96.828615   \n",
       "3                        Hello Dumpling  Dallas  32.839650 -96.696860   \n",
       "4            Monkey King Noodle Company  Dallas  32.867374 -96.741540   \n",
       "...                                 ...     ...        ...        ...   \n",
       "1136                   Amigas Fast Food  Dallas  32.771835 -96.697858   \n",
       "1137                        Pollo Regio  Dallas  32.917030 -96.700640   \n",
       "1138                    Jack in the Box  Dallas  32.836819 -96.753341   \n",
       "1139                          Taco Bell  Dallas  32.909500 -96.856150   \n",
       "1140                          Taco Bell  Dallas  32.878723 -96.716793   \n",
       "\n",
       "      zipcode ethnicity price  rating  \n",
       "0       75225   chinese    $$     4.0  \n",
       "1       75219   chinese     $     4.0  \n",
       "2       75212   chinese   NaN     4.0  \n",
       "3       75218   chinese    $$     4.5  \n",
       "4       75231   chinese   NaN     4.0  \n",
       "...       ...       ...   ...     ...  \n",
       "1136    75227   mexican   NaN     3.0  \n",
       "1137    75042   mexican     $     2.5  \n",
       "1138    75214   mexican     $     2.5  \n",
       "1139    75229   mexican     $     1.5  \n",
       "1140    75238   mexican     $     2.0  \n",
       "\n",
       "[1141 rows x 8 columns]"
      ]
     },
     "execution_count": 2,
     "metadata": {},
     "output_type": "execute_result"
    }
   ],
   "source": [
    "# import yelp city csv & read into dataframe\n",
    "dallas_yelp_path = \"../Output/dallas_restaurants.csv\"\n",
    "dallas_yelp = pd.read_csv(dallas_yelp_path)\n",
    "dallas_yelp"
   ]
  },
  {
   "cell_type": "code",
   "execution_count": 3,
   "metadata": {},
   "outputs": [],
   "source": [
    "# dallas_ethnicity_groups = dallas_yelp.groupby(\"ethnicity\")\n",
    "# dallas_ethnicity_groups.head()"
   ]
  },
  {
   "cell_type": "code",
   "execution_count": 4,
   "metadata": {
    "scrolled": true
   },
   "outputs": [],
   "source": [
    "dallas_ethnicity_sums = dallas_yelp[\"ethnicity\"].value_counts()"
   ]
  },
  {
   "cell_type": "code",
   "execution_count": 5,
   "metadata": {},
   "outputs": [
    {
     "data": {
      "image/png": "[encoded data removed]",
      "text/plain": [
       "<Figure size 432x288 with 1 Axes>"
      ]
     },
     "metadata": {
      "needs_background": "light"
     },
     "output_type": "display_data"
    },
    {
     "data": {
      "text/plain": [
       "<Figure size 864x432 with 0 Axes>"
      ]
     },
     "metadata": {},
     "output_type": "display_data"
    }
   ],
   "source": [
    "ethnic_groups = dallas_yelp.groupby(\"ethnicity\")\n",
    "ethnic_counts = ethnic_groups['ethnicity'].count()\n",
    "#colors=['crimson', 'red', 'orangered', 'darkorange', 'orange', 'gold', 'yellow', 'lime', 'cyan', 'dodgerblue', 'blue', 'darkviolet', 'purple']\n",
    "dallas_ethnic_bar = ethnic_counts.plot(kind='bar')\n",
    "dallas_ethnic_bar.set_title(\"# of Restaurants by Ethnicity in Dallas\")\n",
    "dallas_ethnic_bar.set_xlabel(\"Ethnicity\")\n",
    "dallas_ethnic_bar.set_ylabel(\"# of Restaurants\")\n",
    "# #plt.savefig(\"./Output/DallasYelpBar.png\")\n",
    "plt.figure(figsize=(12,6))\n",
    "plt.tight_layout()\n",
    "plt.show()"
   ]
  },
  {
   "cell_type": "code",
   "execution_count": 6,
   "metadata": {},
   "outputs": [
    {
     "data": {
      "text/plain": [
       "$$      441\n",
       "$       378\n",
       "$$$      44\n",
       "$$$$      5\n",
       "Name: price, dtype: int64"
      ]
     },
     "execution_count": 6,
     "metadata": {},
     "output_type": "execute_result"
    }
   ],
   "source": [
    "price_groups = dallas_yelp[\"price\"].value_counts()\n",
    "price_groups"
   ]
  },
  {
   "cell_type": "code",
   "execution_count": 7,
   "metadata": {},
   "outputs": [],
   "source": [
    "# price_counts = price_groups['price'].count()\n",
    "# dallas_price_bar = price_counts.plot(kind='bar')\n",
    "# dallas_price_bar.set_title(\"# of Restaurants by Price in Dallas\")\n",
    "# dallas_price_bar.set_xlabel(\"Price\")\n",
    "# dallas_price_bar.set_ylabel(\"# of Restaurants\")\n",
    "# # #plt.savefig(\"./Output/DallasYelpBar.png\")\n",
    "# plt.figure(figsize=(12,6))\n",
    "# plt.tight_layout()\n",
    "# plt.show()"
   ]
  },
  {
   "cell_type": "code",
   "execution_count": 8,
   "metadata": {},
   "outputs": [],
   "source": [
    "# # set axis & tick locations\n",
    "# x_axis = np.arange(len(dallas_yelp))\n",
    "# #colors= ['crimson', 'red', 'orangered', 'darkorange', 'orange', 'gold', 'yellow', 'lime', 'cyan', 'dodgerblue', 'blue', 'darkviolet', 'purple']\n",
    "# tick_locations = [value for value in x_axis]\n",
    "\n",
    "# # create list indicating where to write x labels\n",
    "# plt.figure(figsize=(12,6))\n",
    "# plt.bar(x_axis, dallas_ethnicity_sums) #color=colors)\n",
    "# plt.xticks(dallas_yelp[\"ethnicity\"], rotation=\"vertical\")\n",
    "# plt.title(\"# of Ethnic Restaurants in Dallas\")\n",
    "# plt.xlabel(\"Ethnicity\")\n",
    "# plt.ylabel(\"Quantity\")\n",
    "# #plt.savefig(\"./Output/DallasYelpBar.png\")\n",
    "# plt.tight_layout()\n",
    "# plt.show()"
   ]
  },
  {
   "cell_type": "code",
   "execution_count": null,
   "metadata": {},
   "outputs": [],
   "source": []
  },
  {
   "cell_type": "markdown",
   "metadata": {},
   "source": [
    "# Seattle"
   ]
  },
  {
   "cell_type": "code",
   "execution_count": 9,
   "metadata": {},
   "outputs": [
    {
     "data": {
      "text/html": [
       "<div>\n",
       "<style scoped>\n",
       "    .dataframe tbody tr th:only-of-type {\n",
       "        vertical-align: middle;\n",
       "    }\n",
       "\n",
       "    .dataframe tbody tr th {\n",
       "        vertical-align: top;\n",
       "    }\n",
       "\n",
       "    .dataframe thead th {\n",
       "        text-align: right;\n",
       "    }\n",
       "</style>\n",
       "<table border=\"1\" class=\"dataframe\">\n",
       "  <thead>\n",
       "    <tr style=\"text-align: right;\">\n",
       "      <th></th>\n",
       "      <th>name</th>\n",
       "      <th>city</th>\n",
       "      <th>latitude</th>\n",
       "      <th>longitude</th>\n",
       "      <th>zipcode</th>\n",
       "      <th>ethnicity</th>\n",
       "      <th>price</th>\n",
       "      <th>rating</th>\n",
       "    </tr>\n",
       "  </thead>\n",
       "  <tbody>\n",
       "    <tr>\n",
       "      <th>0</th>\n",
       "      <td>A + Hong Kong Kitchen</td>\n",
       "      <td>Seattle</td>\n",
       "      <td>47.598540</td>\n",
       "      <td>-122.326520</td>\n",
       "      <td>98104</td>\n",
       "      <td>chinese</td>\n",
       "      <td>$</td>\n",
       "      <td>4.0</td>\n",
       "    </tr>\n",
       "    <tr>\n",
       "      <th>1</th>\n",
       "      <td>Harbor City Restaurant</td>\n",
       "      <td>Seattle</td>\n",
       "      <td>47.598210</td>\n",
       "      <td>-122.323390</td>\n",
       "      <td>98104</td>\n",
       "      <td>chinese</td>\n",
       "      <td>$$</td>\n",
       "      <td>4.0</td>\n",
       "    </tr>\n",
       "    <tr>\n",
       "      <th>2</th>\n",
       "      <td>Dough Zone</td>\n",
       "      <td>Seattle</td>\n",
       "      <td>47.613170</td>\n",
       "      <td>-122.332150</td>\n",
       "      <td>98101</td>\n",
       "      <td>chinese</td>\n",
       "      <td>$$</td>\n",
       "      <td>4.0</td>\n",
       "    </tr>\n",
       "    <tr>\n",
       "      <th>3</th>\n",
       "      <td>Dough Zone</td>\n",
       "      <td>Seattle</td>\n",
       "      <td>47.597880</td>\n",
       "      <td>-122.327490</td>\n",
       "      <td>98104</td>\n",
       "      <td>chinese</td>\n",
       "      <td>$$</td>\n",
       "      <td>4.0</td>\n",
       "    </tr>\n",
       "    <tr>\n",
       "      <th>4</th>\n",
       "      <td>Biang Biang Noodles</td>\n",
       "      <td>Seattle</td>\n",
       "      <td>47.613937</td>\n",
       "      <td>-122.324239</td>\n",
       "      <td>98122</td>\n",
       "      <td>chinese</td>\n",
       "      <td>NaN</td>\n",
       "      <td>4.0</td>\n",
       "    </tr>\n",
       "  </tbody>\n",
       "</table>\n",
       "</div>"
      ],
      "text/plain": [
       "                     name     city   latitude   longitude  zipcode ethnicity  \\\n",
       "0   A + Hong Kong Kitchen  Seattle  47.598540 -122.326520    98104   chinese   \n",
       "1  Harbor City Restaurant  Seattle  47.598210 -122.323390    98104   chinese   \n",
       "2              Dough Zone  Seattle  47.613170 -122.332150    98101   chinese   \n",
       "3              Dough Zone  Seattle  47.597880 -122.327490    98104   chinese   \n",
       "4     Biang Biang Noodles  Seattle  47.613937 -122.324239    98122   chinese   \n",
       "\n",
       "  price  rating  \n",
       "0     $     4.0  \n",
       "1    $$     4.0  \n",
       "2    $$     4.0  \n",
       "3    $$     4.0  \n",
       "4   NaN     4.0  "
      ]
     },
     "execution_count": 9,
     "metadata": {},
     "output_type": "execute_result"
    }
   ],
   "source": [
    "# import yelp city csv & read into dataframe\n",
    "seattle_yelp_path = \"../Output/seattle_restaurants.csv\"\n",
    "seattle_yelp = pd.read_csv(seattle_yelp_path)\n",
    "seattle_yelp.head()"
   ]
  },
  {
   "cell_type": "code",
   "execution_count": 10,
   "metadata": {},
   "outputs": [
    {
     "data": {
      "text/plain": [
       "mexican         261\n",
       "new_american    243\n",
       "japanese        222\n",
       "chinese         180\n",
       "italian         160\n",
       "thai            150\n",
       "indian           57\n",
       "greek            51\n",
       "french           37\n",
       "soulfood         12\n",
       "brazilian         5\n",
       "Name: ethnicity, dtype: int64"
      ]
     },
     "execution_count": 10,
     "metadata": {},
     "output_type": "execute_result"
    }
   ],
   "source": [
    "seattle_ethnicity_sums = seattle_yelp[\"ethnicity\"].value_counts()\n",
    "seattle_ethnicity_sums"
   ]
  },
  {
   "cell_type": "code",
   "execution_count": 11,
   "metadata": {},
   "outputs": [
    {
     "data": {
      "image/png": "[encoded data removed]",
      "text/plain": [
       "<Figure size 432x288 with 1 Axes>"
      ]
     },
     "metadata": {
      "needs_background": "light"
     },
     "output_type": "display_data"
    },
    {
     "data": {
      "text/plain": [
       "<Figure size 864x432 with 0 Axes>"
      ]
     },
     "metadata": {},
     "output_type": "display_data"
    }
   ],
   "source": [
    "ethnic_groups = seattle_yelp.groupby(\"ethnicity\")\n",
    "ethnic_counts = ethnic_groups['ethnicity'].count()\n",
    "seattle_ethnic_bar = ethnic_counts.plot(kind='bar')\n",
    "seattle_ethnic_bar.set_title(\"# of Restaurants by Ethnicity in seattle\")\n",
    "seattle_ethnic_bar.set_xlabel(\"Ethnicity\")\n",
    "seattle_ethnic_bar.set_ylabel(\"# of Restaurants\")\n",
    "# #plt.savefig(\"./Output/seattleYelpBar.png\")\n",
    "plt.figure(figsize=(12,6))\n",
    "plt.tight_layout()\n",
    "plt.show()"
   ]
  },
  {
   "cell_type": "code",
   "execution_count": 12,
   "metadata": {},
   "outputs": [
    {
     "data": {
      "text/plain": [
       "$$      754\n",
       "$       317\n",
       "$$$      83\n",
       "$$$$     13\n",
       "Name: price, dtype: int64"
      ]
     },
     "execution_count": 12,
     "metadata": {},
     "output_type": "execute_result"
    }
   ],
   "source": [
    "price_groups = seattle_yelp[\"price\"].value_counts()\n",
    "price_groups"
   ]
  },
  {
   "cell_type": "markdown",
   "metadata": {},
   "source": [
    "# Indianapolis"
   ]
  },
  {
   "cell_type": "code",
   "execution_count": 20,
   "metadata": {},
   "outputs": [
    {
     "data": {
      "text/html": [
       "<div>\n",
       "<style scoped>\n",
       "    .dataframe tbody tr th:only-of-type {\n",
       "        vertical-align: middle;\n",
       "    }\n",
       "\n",
       "    .dataframe tbody tr th {\n",
       "        vertical-align: top;\n",
       "    }\n",
       "\n",
       "    .dataframe thead th {\n",
       "        text-align: right;\n",
       "    }\n",
       "</style>\n",
       "<table border=\"1\" class=\"dataframe\">\n",
       "  <thead>\n",
       "    <tr style=\"text-align: right;\">\n",
       "      <th></th>\n",
       "      <th>name</th>\n",
       "      <th>city</th>\n",
       "      <th>latitude</th>\n",
       "      <th>longitude</th>\n",
       "      <th>zipcode</th>\n",
       "      <th>ethnicity</th>\n",
       "      <th>price</th>\n",
       "      <th>rating</th>\n",
       "    </tr>\n",
       "  </thead>\n",
       "  <tbody>\n",
       "    <tr>\n",
       "      <th>0</th>\n",
       "      <td>Asian Snack</td>\n",
       "      <td>indianapolis</td>\n",
       "      <td>39.820046</td>\n",
       "      <td>-86.228305</td>\n",
       "      <td>46222</td>\n",
       "      <td>chinese</td>\n",
       "      <td>$</td>\n",
       "      <td>4.5</td>\n",
       "    </tr>\n",
       "    <tr>\n",
       "      <th>1</th>\n",
       "      <td>Hong Kong China Restaurant</td>\n",
       "      <td>indianapolis</td>\n",
       "      <td>39.787680</td>\n",
       "      <td>-86.159940</td>\n",
       "      <td>46202</td>\n",
       "      <td>chinese</td>\n",
       "      <td>$</td>\n",
       "      <td>3.5</td>\n",
       "    </tr>\n",
       "    <tr>\n",
       "      <th>2</th>\n",
       "      <td>General Tso Inn</td>\n",
       "      <td>indianapolis</td>\n",
       "      <td>39.758240</td>\n",
       "      <td>-86.114960</td>\n",
       "      <td>46203</td>\n",
       "      <td>chinese</td>\n",
       "      <td>$</td>\n",
       "      <td>4.0</td>\n",
       "    </tr>\n",
       "    <tr>\n",
       "      <th>3</th>\n",
       "      <td>Taste Restaurant At Lucky Lou Seafood and Dimsum</td>\n",
       "      <td>indianapolis</td>\n",
       "      <td>39.818837</td>\n",
       "      <td>-86.227026</td>\n",
       "      <td>46222</td>\n",
       "      <td>chinese</td>\n",
       "      <td>$$</td>\n",
       "      <td>4.0</td>\n",
       "    </tr>\n",
       "    <tr>\n",
       "      <th>4</th>\n",
       "      <td>Fei Da</td>\n",
       "      <td>indianapolis</td>\n",
       "      <td>39.788189</td>\n",
       "      <td>-86.208588</td>\n",
       "      <td>46222</td>\n",
       "      <td>chinese</td>\n",
       "      <td>$</td>\n",
       "      <td>4.0</td>\n",
       "    </tr>\n",
       "  </tbody>\n",
       "</table>\n",
       "</div>"
      ],
      "text/plain": [
       "                                               name          city   latitude  \\\n",
       "0                                       Asian Snack  indianapolis  39.820046   \n",
       "1                        Hong Kong China Restaurant  indianapolis  39.787680   \n",
       "2                                   General Tso Inn  indianapolis  39.758240   \n",
       "3  Taste Restaurant At Lucky Lou Seafood and Dimsum  indianapolis  39.818837   \n",
       "4                                            Fei Da  indianapolis  39.788189   \n",
       "\n",
       "   longitude  zipcode ethnicity price  rating  \n",
       "0 -86.228305    46222   chinese     $     4.5  \n",
       "1 -86.159940    46202   chinese     $     3.5  \n",
       "2 -86.114960    46203   chinese     $     4.0  \n",
       "3 -86.227026    46222   chinese    $$     4.0  \n",
       "4 -86.208588    46222   chinese     $     4.0  "
      ]
     },
     "execution_count": 20,
     "metadata": {},
     "output_type": "execute_result"
    }
   ],
   "source": [
    "indianapolis_yelp_path = \"../Output/indianapolis_restaurants.csv\"\n",
    "indianapolis_yelp = pd.read_csv(indianapolis_yelp_path)\n",
    "indianapolis_yelp.head()"
   ]
  },
  {
   "cell_type": "code",
   "execution_count": 23,
   "metadata": {},
   "outputs": [
    {
     "data": {
      "text/plain": [
       "mexican         225\n",
       "new_american     68\n",
       "chinese          65\n",
       "italian          58\n",
       "indian           18\n",
       "soulfood         18\n",
       "japanese         16\n",
       "thai             14\n",
       "greek            12\n",
       "french            9\n",
       "brazilian         5\n",
       "Name: ethnicity, dtype: int64"
      ]
     },
     "execution_count": 23,
     "metadata": {},
     "output_type": "execute_result"
    }
   ],
   "source": [
    "indianapolis_ethnicity_sums = indianapolis_yelp[\"ethnicity\"].value_counts()\n",
    "indianapolis_ethnicity_sums"
   ]
  },
  {
   "cell_type": "code",
   "execution_count": 24,
   "metadata": {},
   "outputs": [
    {
     "data": {
      "image/png": "[encoded data removed]",
      "text/plain": [
       "<Figure size 432x288 with 1 Axes>"
      ]
     },
     "metadata": {
      "needs_background": "light"
     },
     "output_type": "display_data"
    },
    {
     "data": {
      "text/plain": [
       "<Figure size 864x432 with 0 Axes>"
      ]
     },
     "metadata": {},
     "output_type": "display_data"
    }
   ],
   "source": [
    "ethnic_groups = indianapolis_yelp.groupby(\"ethnicity\")\n",
    "ethnic_counts = ethnic_groups['ethnicity'].count()\n",
    "indianapolis_ethnic_bar = ethnic_counts.plot(kind='bar')\n",
    "indianapolis_ethnic_bar.set_title(\"# of Restaurants by Ethnicity in indianapolis\")\n",
    "indianapolis_ethnic_bar.set_xlabel(\"Ethnicity\")\n",
    "indianapolis_ethnic_bar.set_ylabel(\"# of Restaurants\")\n",
    "# #plt.savefig(\"./Output/indianapolisYelpBar.png\")\n",
    "plt.figure(figsize=(12,6))\n",
    "plt.tight_layout()\n",
    "plt.show()"
   ]
  },
  {
   "cell_type": "code",
   "execution_count": 16,
   "metadata": {},
   "outputs": [
    {
     "data": {
      "text/html": [
       "<div>\n",
       "<style scoped>\n",
       "    .dataframe tbody tr th:only-of-type {\n",
       "        vertical-align: middle;\n",
       "    }\n",
       "\n",
       "    .dataframe tbody tr th {\n",
       "        vertical-align: top;\n",
       "    }\n",
       "\n",
       "    .dataframe thead th {\n",
       "        text-align: right;\n",
       "    }\n",
       "</style>\n",
       "<table border=\"1\" class=\"dataframe\">\n",
       "  <thead>\n",
       "    <tr style=\"text-align: right;\">\n",
       "      <th></th>\n",
       "      <th>name</th>\n",
       "      <th>city</th>\n",
       "      <th>latitude</th>\n",
       "      <th>longitude</th>\n",
       "      <th>zipcode</th>\n",
       "      <th>price</th>\n",
       "      <th>rating</th>\n",
       "    </tr>\n",
       "    <tr>\n",
       "      <th>ethnicity</th>\n",
       "      <th></th>\n",
       "      <th></th>\n",
       "      <th></th>\n",
       "      <th></th>\n",
       "      <th></th>\n",
       "      <th></th>\n",
       "      <th></th>\n",
       "    </tr>\n",
       "  </thead>\n",
       "  <tbody>\n",
       "    <tr>\n",
       "      <th>brazilian</th>\n",
       "      <td>5</td>\n",
       "      <td>5</td>\n",
       "      <td>5</td>\n",
       "      <td>5</td>\n",
       "      <td>5</td>\n",
       "      <td>2</td>\n",
       "      <td>5</td>\n",
       "    </tr>\n",
       "    <tr>\n",
       "      <th>chinese</th>\n",
       "      <td>65</td>\n",
       "      <td>65</td>\n",
       "      <td>65</td>\n",
       "      <td>65</td>\n",
       "      <td>65</td>\n",
       "      <td>58</td>\n",
       "      <td>65</td>\n",
       "    </tr>\n",
       "    <tr>\n",
       "      <th>french</th>\n",
       "      <td>9</td>\n",
       "      <td>9</td>\n",
       "      <td>9</td>\n",
       "      <td>9</td>\n",
       "      <td>9</td>\n",
       "      <td>6</td>\n",
       "      <td>9</td>\n",
       "    </tr>\n",
       "    <tr>\n",
       "      <th>greek</th>\n",
       "      <td>12</td>\n",
       "      <td>12</td>\n",
       "      <td>12</td>\n",
       "      <td>12</td>\n",
       "      <td>12</td>\n",
       "      <td>9</td>\n",
       "      <td>12</td>\n",
       "    </tr>\n",
       "    <tr>\n",
       "      <th>indian</th>\n",
       "      <td>18</td>\n",
       "      <td>18</td>\n",
       "      <td>18</td>\n",
       "      <td>18</td>\n",
       "      <td>18</td>\n",
       "      <td>11</td>\n",
       "      <td>18</td>\n",
       "    </tr>\n",
       "    <tr>\n",
       "      <th>italian</th>\n",
       "      <td>58</td>\n",
       "      <td>58</td>\n",
       "      <td>58</td>\n",
       "      <td>58</td>\n",
       "      <td>58</td>\n",
       "      <td>51</td>\n",
       "      <td>58</td>\n",
       "    </tr>\n",
       "    <tr>\n",
       "      <th>japanese</th>\n",
       "      <td>16</td>\n",
       "      <td>16</td>\n",
       "      <td>16</td>\n",
       "      <td>16</td>\n",
       "      <td>16</td>\n",
       "      <td>13</td>\n",
       "      <td>16</td>\n",
       "    </tr>\n",
       "    <tr>\n",
       "      <th>mexican</th>\n",
       "      <td>225</td>\n",
       "      <td>225</td>\n",
       "      <td>225</td>\n",
       "      <td>225</td>\n",
       "      <td>225</td>\n",
       "      <td>152</td>\n",
       "      <td>225</td>\n",
       "    </tr>\n",
       "    <tr>\n",
       "      <th>new_american</th>\n",
       "      <td>68</td>\n",
       "      <td>68</td>\n",
       "      <td>68</td>\n",
       "      <td>68</td>\n",
       "      <td>68</td>\n",
       "      <td>57</td>\n",
       "      <td>68</td>\n",
       "    </tr>\n",
       "    <tr>\n",
       "      <th>soulfood</th>\n",
       "      <td>18</td>\n",
       "      <td>18</td>\n",
       "      <td>18</td>\n",
       "      <td>18</td>\n",
       "      <td>18</td>\n",
       "      <td>8</td>\n",
       "      <td>18</td>\n",
       "    </tr>\n",
       "    <tr>\n",
       "      <th>thai</th>\n",
       "      <td>14</td>\n",
       "      <td>14</td>\n",
       "      <td>14</td>\n",
       "      <td>14</td>\n",
       "      <td>14</td>\n",
       "      <td>13</td>\n",
       "      <td>14</td>\n",
       "    </tr>\n",
       "  </tbody>\n",
       "</table>\n",
       "</div>"
      ],
      "text/plain": [
       "              name  city  latitude  longitude  zipcode  price  rating\n",
       "ethnicity                                                            \n",
       "brazilian        5     5         5          5        5      2       5\n",
       "chinese         65    65        65         65       65     58      65\n",
       "french           9     9         9          9        9      6       9\n",
       "greek           12    12        12         12       12      9      12\n",
       "indian          18    18        18         18       18     11      18\n",
       "italian         58    58        58         58       58     51      58\n",
       "japanese        16    16        16         16       16     13      16\n",
       "mexican        225   225       225        225      225    152     225\n",
       "new_american    68    68        68         68       68     57      68\n",
       "soulfood        18    18        18         18       18      8      18\n",
       "thai            14    14        14         14       14     13      14"
      ]
     },
     "execution_count": 16,
     "metadata": {},
     "output_type": "execute_result"
    }
   ],
   "source": [
    "indianapolis_yelp.groupby(\"ethnicity\").count()"
   ]
  },
  {
   "cell_type": "code",
   "execution_count": null,
   "metadata": {},
   "outputs": [],
   "source": [
    "price_groups = indianapolis_yelp[\"price\"].value_counts()\n",
    "price_groups"
   ]
  },
  {
   "cell_type": "code",
   "execution_count": null,
   "metadata": {},
   "outputs": [],
   "source": []
  }
 ],
 "metadata": {
  "kernelspec": {
   "display_name": "Python [conda env:PythonData] *",
   "language": "python",
   "name": "conda-env-PythonData-py"
  },
  "language_info": {
   "codemirror_mode": {
    "name": "ipython",
    "version": 3
   },
   "file_extension": ".py",
   "mimetype": "text/x-python",
   "name": "python",
   "nbconvert_exporter": "python",
   "pygments_lexer": "ipython3",
   "version": "3.6.10"
  }
 },
 "nbformat": 4,
 "nbformat_minor": 4
}
