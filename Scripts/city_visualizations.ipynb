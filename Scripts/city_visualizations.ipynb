{
 "cells": [
  {
   "cell_type": "code",
   "execution_count": 80,
   "metadata": {},
   "outputs": [],
   "source": [
    "# Import dependencies\n",
    "import matplotlib.pyplot as plt\n",
    "from matplotlib import cm\n",
    "import pandas as pd\n",
    "import numpy as np\n",
    "import requests\n",
    "import random\n",
    "import scipy.stats as st\n",
    "import gmaps\n",
    "\n",
    "from config import google_key"
   ]
  },
  {
   "cell_type": "markdown",
   "metadata": {},
   "source": [
    "# Dallas"
   ]
  },
  {
   "cell_type": "code",
   "execution_count": 2,
   "metadata": {},
   "outputs": [
    {
     "data": {
      "text/html": [
       "<div>\n",
       "<style scoped>\n",
       "    .dataframe tbody tr th:only-of-type {\n",
       "        vertical-align: middle;\n",
       "    }\n",
       "\n",
       "    .dataframe tbody tr th {\n",
       "        vertical-align: top;\n",
       "    }\n",
       "\n",
       "    .dataframe thead th {\n",
       "        text-align: right;\n",
       "    }\n",
       "</style>\n",
       "<table border=\"1\" class=\"dataframe\">\n",
       "  <thead>\n",
       "    <tr style=\"text-align: right;\">\n",
       "      <th></th>\n",
       "      <th>name</th>\n",
       "      <th>city</th>\n",
       "      <th>latitude</th>\n",
       "      <th>longitude</th>\n",
       "      <th>zipcode</th>\n",
       "      <th>ethnicity</th>\n",
       "      <th>price</th>\n",
       "      <th>rating</th>\n",
       "    </tr>\n",
       "  </thead>\n",
       "  <tbody>\n",
       "    <tr>\n",
       "      <th>0</th>\n",
       "      <td>Jia Modern Chinese &amp; Asian Lounge</td>\n",
       "      <td>Dallas</td>\n",
       "      <td>32.864950</td>\n",
       "      <td>-96.804740</td>\n",
       "      <td>75225</td>\n",
       "      <td>chinese</td>\n",
       "      <td>$$</td>\n",
       "      <td>4.0</td>\n",
       "    </tr>\n",
       "    <tr>\n",
       "      <th>1</th>\n",
       "      <td>Szechuan Chinese Restaurant</td>\n",
       "      <td>Dallas</td>\n",
       "      <td>32.818150</td>\n",
       "      <td>-96.813430</td>\n",
       "      <td>75219</td>\n",
       "      <td>chinese</td>\n",
       "      <td>$</td>\n",
       "      <td>4.0</td>\n",
       "    </tr>\n",
       "    <tr>\n",
       "      <th>2</th>\n",
       "      <td>Sum Dang Good Chinese</td>\n",
       "      <td>Dallas</td>\n",
       "      <td>32.779323</td>\n",
       "      <td>-96.828615</td>\n",
       "      <td>75212</td>\n",
       "      <td>chinese</td>\n",
       "      <td>NaN</td>\n",
       "      <td>4.0</td>\n",
       "    </tr>\n",
       "    <tr>\n",
       "      <th>3</th>\n",
       "      <td>Hello Dumpling</td>\n",
       "      <td>Dallas</td>\n",
       "      <td>32.839650</td>\n",
       "      <td>-96.696860</td>\n",
       "      <td>75218</td>\n",
       "      <td>chinese</td>\n",
       "      <td>$$</td>\n",
       "      <td>4.5</td>\n",
       "    </tr>\n",
       "    <tr>\n",
       "      <th>4</th>\n",
       "      <td>Monkey King Noodle Company</td>\n",
       "      <td>Dallas</td>\n",
       "      <td>32.784737</td>\n",
       "      <td>-96.781062</td>\n",
       "      <td>75226</td>\n",
       "      <td>chinese</td>\n",
       "      <td>$$</td>\n",
       "      <td>3.5</td>\n",
       "    </tr>\n",
       "    <tr>\n",
       "      <th>...</th>\n",
       "      <td>...</td>\n",
       "      <td>...</td>\n",
       "      <td>...</td>\n",
       "      <td>...</td>\n",
       "      <td>...</td>\n",
       "      <td>...</td>\n",
       "      <td>...</td>\n",
       "      <td>...</td>\n",
       "    </tr>\n",
       "    <tr>\n",
       "      <th>1136</th>\n",
       "      <td>Taco Bell</td>\n",
       "      <td>Dallas</td>\n",
       "      <td>32.934204</td>\n",
       "      <td>-96.803799</td>\n",
       "      <td>75240</td>\n",
       "      <td>mexican</td>\n",
       "      <td>$</td>\n",
       "      <td>2.0</td>\n",
       "    </tr>\n",
       "    <tr>\n",
       "      <th>1137</th>\n",
       "      <td>Amigas Fast Food</td>\n",
       "      <td>Dallas</td>\n",
       "      <td>32.771835</td>\n",
       "      <td>-96.697858</td>\n",
       "      <td>75227</td>\n",
       "      <td>mexican</td>\n",
       "      <td>NaN</td>\n",
       "      <td>3.0</td>\n",
       "    </tr>\n",
       "    <tr>\n",
       "      <th>1138</th>\n",
       "      <td>CC Wing 'N' Taquria</td>\n",
       "      <td>Dallas</td>\n",
       "      <td>32.882860</td>\n",
       "      <td>-96.759070</td>\n",
       "      <td>75231</td>\n",
       "      <td>mexican</td>\n",
       "      <td>NaN</td>\n",
       "      <td>2.5</td>\n",
       "    </tr>\n",
       "    <tr>\n",
       "      <th>1139</th>\n",
       "      <td>Taco Bell</td>\n",
       "      <td>Dallas</td>\n",
       "      <td>32.909500</td>\n",
       "      <td>-96.856150</td>\n",
       "      <td>75229</td>\n",
       "      <td>mexican</td>\n",
       "      <td>$</td>\n",
       "      <td>1.5</td>\n",
       "    </tr>\n",
       "    <tr>\n",
       "      <th>1140</th>\n",
       "      <td>Taco Bell</td>\n",
       "      <td>Dallas</td>\n",
       "      <td>32.878723</td>\n",
       "      <td>-96.716793</td>\n",
       "      <td>75238</td>\n",
       "      <td>mexican</td>\n",
       "      <td>$</td>\n",
       "      <td>2.0</td>\n",
       "    </tr>\n",
       "  </tbody>\n",
       "</table>\n",
       "<p>1141 rows × 8 columns</p>\n",
       "</div>"
      ],
      "text/plain": [
       "                                   name    city   latitude  longitude  \\\n",
       "0     Jia Modern Chinese & Asian Lounge  Dallas  32.864950 -96.804740   \n",
       "1           Szechuan Chinese Restaurant  Dallas  32.818150 -96.813430   \n",
       "2                 Sum Dang Good Chinese  Dallas  32.779323 -96.828615   \n",
       "3                        Hello Dumpling  Dallas  32.839650 -96.696860   \n",
       "4            Monkey King Noodle Company  Dallas  32.784737 -96.781062   \n",
       "...                                 ...     ...        ...        ...   \n",
       "1136                          Taco Bell  Dallas  32.934204 -96.803799   \n",
       "1137                   Amigas Fast Food  Dallas  32.771835 -96.697858   \n",
       "1138                CC Wing 'N' Taquria  Dallas  32.882860 -96.759070   \n",
       "1139                          Taco Bell  Dallas  32.909500 -96.856150   \n",
       "1140                          Taco Bell  Dallas  32.878723 -96.716793   \n",
       "\n",
       "      zipcode ethnicity price  rating  \n",
       "0       75225   chinese    $$     4.0  \n",
       "1       75219   chinese     $     4.0  \n",
       "2       75212   chinese   NaN     4.0  \n",
       "3       75218   chinese    $$     4.5  \n",
       "4       75226   chinese    $$     3.5  \n",
       "...       ...       ...   ...     ...  \n",
       "1136    75240   mexican     $     2.0  \n",
       "1137    75227   mexican   NaN     3.0  \n",
       "1138    75231   mexican   NaN     2.5  \n",
       "1139    75229   mexican     $     1.5  \n",
       "1140    75238   mexican     $     2.0  \n",
       "\n",
       "[1141 rows x 8 columns]"
      ]
     },
     "execution_count": 2,
     "metadata": {},
     "output_type": "execute_result"
    }
   ],
   "source": [
    "# import yelp city csv & read into dataframe\n",
    "dallas_yelp_path = \"./Output/Data/dallas_restaurants.csv\"\n",
    "dallas_yelp = pd.read_csv(dallas_yelp_path)\n",
    "dallas_yelp"
   ]
  },
  {
   "cell_type": "code",
   "execution_count": 74,
   "metadata": {
    "scrolled": true
   },
   "outputs": [],
   "source": [
    "dallas_ethnicity_sums = dallas_yelp[\"ethnicity\"].value_counts()"
   ]
  },
  {
   "cell_type": "code",
   "execution_count": 96,
   "metadata": {},
   "outputs": [],
   "source": [
    "ethnicity_colors=['red', 'orange', 'yellow', 'lime', 'green', 'cyan', 'dodgerblue', 'blue', 'darkviolet', 'purple', 'magenta']"
   ]
  },
  {
   "cell_type": "code",
   "execution_count": 136,
   "metadata": {},
   "outputs": [
    {
     "data": {
      "image/png": "[encoded data removed]",
      "text/plain": [
       "<Figure size 432x288 with 1 Axes>"
      ]
     },
     "metadata": {
      "needs_background": "light"
     },
     "output_type": "display_data"
    },
    {
     "data": {
      "text/plain": [
       "<Figure size 864x432 with 0 Axes>"
      ]
     },
     "metadata": {},
     "output_type": "display_data"
    }
   ],
   "source": [
    "ethnic_groups = dallas_yelp.groupby(\"ethnicity\")\n",
    "ethnic_counts = ethnic_groups['ethnicity'].count()\n",
    "\n",
    "#my_cmap = cm.get_cmap('plasma')\n",
    "dallas_ethnic_bar = ethnic_counts.plot(kind='bar', color=ethnicity_colors)\n",
    "                                       #color=[plt.cm.plasma(np.arange(len(dallas_ethnicity_sums)))])\n",
    "dallas_ethnic_bar.set_title(\"# of Restaurants by Ethnicity in Dallas\")\n",
    "dallas_ethnic_bar.set_xlabel(\"Ethnicity\")\n",
    "dallas_ethnic_bar.set_ylabel(\"# of Restaurants\")\n",
    "plt.savefig(\"./Output/Charts/DallasYelpBar.png\")\n",
    "plt.figure(figsize=(12,6))\n",
    "plt.tight_layout()\n",
    "plt.show()"
   ]
  },
  {
   "cell_type": "code",
   "execution_count": 6,
   "metadata": {},
   "outputs": [
    {
     "data": {
      "text/plain": [
       "$$      441\n",
       "$       377\n",
       "$$$      44\n",
       "$$$$      5\n",
       "Name: price, dtype: int64"
      ]
     },
     "execution_count": 6,
     "metadata": {},
     "output_type": "execute_result"
    }
   ],
   "source": [
    "price_groups = dallas_yelp[\"price\"].value_counts()\n",
    "price_groups"
   ]
  },
  {
   "cell_type": "code",
   "execution_count": 9,
   "metadata": {},
   "outputs": [
    {
     "data": {
      "text/html": [
       "<div>\n",
       "<style scoped>\n",
       "    .dataframe tbody tr th:only-of-type {\n",
       "        vertical-align: middle;\n",
       "    }\n",
       "\n",
       "    .dataframe tbody tr th {\n",
       "        vertical-align: top;\n",
       "    }\n",
       "\n",
       "    .dataframe thead th {\n",
       "        text-align: right;\n",
       "    }\n",
       "</style>\n",
       "<table border=\"1\" class=\"dataframe\">\n",
       "  <thead>\n",
       "    <tr style=\"text-align: right;\">\n",
       "      <th></th>\n",
       "      <th>name</th>\n",
       "      <th>city</th>\n",
       "      <th>latitude</th>\n",
       "      <th>longitude</th>\n",
       "      <th>zipcode</th>\n",
       "      <th>ethnicity</th>\n",
       "      <th>price</th>\n",
       "      <th>rating</th>\n",
       "      <th>price_int</th>\n",
       "    </tr>\n",
       "  </thead>\n",
       "  <tbody>\n",
       "    <tr>\n",
       "      <th>0</th>\n",
       "      <td>Jia Modern Chinese &amp; Asian Lounge</td>\n",
       "      <td>Dallas</td>\n",
       "      <td>32.864950</td>\n",
       "      <td>-96.804740</td>\n",
       "      <td>75225</td>\n",
       "      <td>chinese</td>\n",
       "      <td>$$</td>\n",
       "      <td>4.0</td>\n",
       "      <td>2</td>\n",
       "    </tr>\n",
       "    <tr>\n",
       "      <th>1</th>\n",
       "      <td>Szechuan Chinese Restaurant</td>\n",
       "      <td>Dallas</td>\n",
       "      <td>32.818150</td>\n",
       "      <td>-96.813430</td>\n",
       "      <td>75219</td>\n",
       "      <td>chinese</td>\n",
       "      <td>$</td>\n",
       "      <td>4.0</td>\n",
       "      <td>1</td>\n",
       "    </tr>\n",
       "    <tr>\n",
       "      <th>3</th>\n",
       "      <td>Hello Dumpling</td>\n",
       "      <td>Dallas</td>\n",
       "      <td>32.839650</td>\n",
       "      <td>-96.696860</td>\n",
       "      <td>75218</td>\n",
       "      <td>chinese</td>\n",
       "      <td>$$</td>\n",
       "      <td>4.5</td>\n",
       "      <td>2</td>\n",
       "    </tr>\n",
       "    <tr>\n",
       "      <th>4</th>\n",
       "      <td>Monkey King Noodle Company</td>\n",
       "      <td>Dallas</td>\n",
       "      <td>32.784737</td>\n",
       "      <td>-96.781062</td>\n",
       "      <td>75226</td>\n",
       "      <td>chinese</td>\n",
       "      <td>$$</td>\n",
       "      <td>3.5</td>\n",
       "      <td>2</td>\n",
       "    </tr>\n",
       "    <tr>\n",
       "      <th>6</th>\n",
       "      <td>Royal China</td>\n",
       "      <td>Dallas</td>\n",
       "      <td>32.896104</td>\n",
       "      <td>-96.802183</td>\n",
       "      <td>75230</td>\n",
       "      <td>chinese</td>\n",
       "      <td>$$</td>\n",
       "      <td>3.5</td>\n",
       "      <td>2</td>\n",
       "    </tr>\n",
       "    <tr>\n",
       "      <th>...</th>\n",
       "      <td>...</td>\n",
       "      <td>...</td>\n",
       "      <td>...</td>\n",
       "      <td>...</td>\n",
       "      <td>...</td>\n",
       "      <td>...</td>\n",
       "      <td>...</td>\n",
       "      <td>...</td>\n",
       "      <td>...</td>\n",
       "    </tr>\n",
       "    <tr>\n",
       "      <th>1133</th>\n",
       "      <td>Taco Bell</td>\n",
       "      <td>Dallas</td>\n",
       "      <td>32.909420</td>\n",
       "      <td>-96.767920</td>\n",
       "      <td>75243</td>\n",
       "      <td>mexican</td>\n",
       "      <td>$</td>\n",
       "      <td>2.0</td>\n",
       "      <td>1</td>\n",
       "    </tr>\n",
       "    <tr>\n",
       "      <th>1134</th>\n",
       "      <td>La Chiquita Taqueria</td>\n",
       "      <td>Dallas</td>\n",
       "      <td>32.763750</td>\n",
       "      <td>-96.700980</td>\n",
       "      <td>75227</td>\n",
       "      <td>mexican</td>\n",
       "      <td>$</td>\n",
       "      <td>2.0</td>\n",
       "      <td>1</td>\n",
       "    </tr>\n",
       "    <tr>\n",
       "      <th>1136</th>\n",
       "      <td>Taco Bell</td>\n",
       "      <td>Dallas</td>\n",
       "      <td>32.934204</td>\n",
       "      <td>-96.803799</td>\n",
       "      <td>75240</td>\n",
       "      <td>mexican</td>\n",
       "      <td>$</td>\n",
       "      <td>2.0</td>\n",
       "      <td>1</td>\n",
       "    </tr>\n",
       "    <tr>\n",
       "      <th>1139</th>\n",
       "      <td>Taco Bell</td>\n",
       "      <td>Dallas</td>\n",
       "      <td>32.909500</td>\n",
       "      <td>-96.856150</td>\n",
       "      <td>75229</td>\n",
       "      <td>mexican</td>\n",
       "      <td>$</td>\n",
       "      <td>1.5</td>\n",
       "      <td>1</td>\n",
       "    </tr>\n",
       "    <tr>\n",
       "      <th>1140</th>\n",
       "      <td>Taco Bell</td>\n",
       "      <td>Dallas</td>\n",
       "      <td>32.878723</td>\n",
       "      <td>-96.716793</td>\n",
       "      <td>75238</td>\n",
       "      <td>mexican</td>\n",
       "      <td>$</td>\n",
       "      <td>2.0</td>\n",
       "      <td>1</td>\n",
       "    </tr>\n",
       "  </tbody>\n",
       "</table>\n",
       "<p>867 rows × 9 columns</p>\n",
       "</div>"
      ],
      "text/plain": [
       "                                   name    city   latitude  longitude  \\\n",
       "0     Jia Modern Chinese & Asian Lounge  Dallas  32.864950 -96.804740   \n",
       "1           Szechuan Chinese Restaurant  Dallas  32.818150 -96.813430   \n",
       "3                        Hello Dumpling  Dallas  32.839650 -96.696860   \n",
       "4            Monkey King Noodle Company  Dallas  32.784737 -96.781062   \n",
       "6                           Royal China  Dallas  32.896104 -96.802183   \n",
       "...                                 ...     ...        ...        ...   \n",
       "1133                          Taco Bell  Dallas  32.909420 -96.767920   \n",
       "1134               La Chiquita Taqueria  Dallas  32.763750 -96.700980   \n",
       "1136                          Taco Bell  Dallas  32.934204 -96.803799   \n",
       "1139                          Taco Bell  Dallas  32.909500 -96.856150   \n",
       "1140                          Taco Bell  Dallas  32.878723 -96.716793   \n",
       "\n",
       "      zipcode ethnicity price  rating  price_int  \n",
       "0       75225   chinese    $$     4.0          2  \n",
       "1       75219   chinese     $     4.0          1  \n",
       "3       75218   chinese    $$     4.5          2  \n",
       "4       75226   chinese    $$     3.5          2  \n",
       "6       75230   chinese    $$     3.5          2  \n",
       "...       ...       ...   ...     ...        ...  \n",
       "1133    75243   mexican     $     2.0          1  \n",
       "1134    75227   mexican     $     2.0          1  \n",
       "1136    75240   mexican     $     2.0          1  \n",
       "1139    75229   mexican     $     1.5          1  \n",
       "1140    75238   mexican     $     2.0          1  \n",
       "\n",
       "[867 rows x 9 columns]"
      ]
     },
     "execution_count": 9,
     "metadata": {},
     "output_type": "execute_result"
    }
   ],
   "source": [
    "# create new filtered df to drop any restaurants that have no price grade listed\n",
    "dallas_price_df = pd.DataFrame(dallas_yelp.dropna(subset=['price']))\n",
    "dallas_price_df['price_int'] = [len(price) for price in dallas_price_df['price']]\n",
    "dallas_price_df"
   ]
  },
  {
   "cell_type": "code",
   "execution_count": 131,
   "metadata": {},
   "outputs": [],
   "source": [
    "dallas_ethnic_price = dallas_price_df.groupby(\"ethnicity\")[\"price\"].value_counts()\n",
    "#dallas_ethnic_price"
   ]
  },
  {
   "cell_type": "code",
   "execution_count": 130,
   "metadata": {},
   "outputs": [
    {
     "data": {
      "image/png": "[encoded data removed]",
      "text/plain": [
       "<Figure size 432x288 with 1 Axes>"
      ]
     },
     "metadata": {
      "needs_background": "light"
     },
     "output_type": "display_data"
    }
   ],
   "source": [
    "bar_plot = dallas_price_df[dallas_price_df[\"price_int\"]==1].groupby(\"ethnicity\").count()[\"price\"].plot(kind='bar', color='mediumslateblue')\n",
    "bar_plot.set_ylabel(\"Count of 1$ Restaurants\")\n",
    "bar_plot.set_xlabel(\"Cuisine Type\")\n",
    "bar_plot.set_title(\"1$ Restaurants by Cuisine/Restaurant Type in Dallas\")\n",
    "plt.savefig(\"./Output/Charts/Dallas_Ethnic_1$_Bar.png\")"
   ]
  },
  {
   "cell_type": "code",
   "execution_count": 129,
   "metadata": {},
   "outputs": [
    {
     "data": {
      "image/png": "[encoded data removed]",
      "text/plain": [
       "<Figure size 432x288 with 1 Axes>"
      ]
     },
     "metadata": {
      "needs_background": "light"
     },
     "output_type": "display_data"
    }
   ],
   "source": [
    "bar_plot2 = dallas_price_df[dallas_price_df[\"price_int\"]==2].groupby(\"ethnicity\").count()[\"price\"].plot(kind='bar', color=\"slateblue\")\n",
    "bar_plot2.set_ylabel(\"Count of 2$ Restaurants\")\n",
    "bar_plot2.set_xlabel(\"Cuisine Type\")\n",
    "bar_plot2.set_title(\"2$ Restaurants by Cuisine/Restaurant Type in Dallas\")\n",
    "plt.savefig(\"./Output/Charts/Dallas_Ethnic_2$_Bar.png\")"
   ]
  },
  {
   "cell_type": "code",
   "execution_count": 128,
   "metadata": {},
   "outputs": [
    {
     "data": {
      "image/png": "[encoded data removed]",
      "text/plain": [
       "<Figure size 432x288 with 1 Axes>"
      ]
     },
     "metadata": {
      "needs_background": "light"
     },
     "output_type": "display_data"
    }
   ],
   "source": [
    "bar_plot3 = dallas_price_df[(dallas_price_df[\"price_int\"]==3)|(dallas_price_df[\"price_int\"]==4)].groupby(\"ethnicity\").count()[\"price\"].plot(kind='bar', color='darkslateblue')\n",
    "bar_plot3.set_ylabel(\"Count of 3$ and 4$ Restaurants\")\n",
    "bar_plot3.set_xlabel(\"Cuisine Type\")\n",
    "bar_plot3.set_title(\"3$ and 4$ Restaurants by Cuisine/Restaurant Type in Dallas\")\n",
    "plt.savefig(\"./Output/Charts/Dallas_Ethnic_3$4$_Bar.png\")"
   ]
  },
  {
   "cell_type": "code",
   "execution_count": 15,
   "metadata": {},
   "outputs": [
    {
     "data": {
      "text/plain": [
       "<Figure size 432x288 with 0 Axes>"
      ]
     },
     "metadata": {},
     "output_type": "display_data"
    }
   ],
   "source": [
    "# bar_plot.set_xlabel(\"Ethnicity & Pricepoint\")\n",
    "# bar_plot.set_ylabel(\"Count\")\n",
    "# bar_plot.set_title(\"Breakdown of Restaurant Ethnicity by Pricepoint - Dallas\")\n",
    "# #plt.savefig(\"./Output/Charts/Dallas_Ethnicity_Price_Bar.png\")\n",
    "# plt.tight_layout()\n",
    "# plt.show()"
   ]
  },
  {
   "cell_type": "code",
   "execution_count": 114,
   "metadata": {},
   "outputs": [],
   "source": [
    "dallas_rating_price = dallas_price_df.groupby(\"rating\")[\"price\"].value_counts()\n",
    "#dallas_rating_price"
   ]
  },
  {
   "cell_type": "code",
   "execution_count": 60,
   "metadata": {},
   "outputs": [],
   "source": [
    "# bar_plot = dallas_price_df.groupby(\"rating\")[\"price_int\"].value_counts().plot(kind='bar') \n",
    "# bar_plot.set_xlabel(\"Rating & Pricepoint\")\n",
    "# bar_plot.set_ylabel(\"Count\")\n",
    "# bar_plot.set_title(\"Breakdown of Restaurant Rating by Pricepoint - Dallas\")\n",
    "# #plt.savefig(\"./Output/Charts/Dallas_Rating_Price_Bar.png\")\n",
    "# plt.show()"
   ]
  },
  {
   "cell_type": "code",
   "execution_count": 104,
   "metadata": {},
   "outputs": [
    {
     "data": {
      "image/png": "[encoded data removed]",
      "text/plain": [
       "<Figure size 432x288 with 1 Axes>"
      ]
     },
     "metadata": {
      "needs_background": "light"
     },
     "output_type": "display_data"
    }
   ],
   "source": [
    "bar_plot = dallas_price_df[dallas_price_df[\"price_int\"]==1].groupby(\"rating\").count()[\"price\"].plot(kind='bar', color='turquoise')\n",
    "bar_plot.set_ylabel(\"Count of 1$ Restaurants\")\n",
    "bar_plot.set_xlabel(\"Rating\")\n",
    "bar_plot.set_title(\"Breakdown of Restaurant Rating by $ Pricepoint - Dallas\")\n",
    "plt.savefig(\"./Output/Charts/Dallas_Rating_1$_Bar.png\")"
   ]
  },
  {
   "cell_type": "code",
   "execution_count": 105,
   "metadata": {},
   "outputs": [
    {
     "data": {
      "image/png": "[encoded data removed]",
      "text/plain": [
       "<Figure size 432x288 with 1 Axes>"
      ]
     },
     "metadata": {
      "needs_background": "light"
     },
     "output_type": "display_data"
    }
   ],
   "source": [
    "bar_plot = dallas_price_df[dallas_price_df[\"price_int\"]==2].groupby(\"rating\").count()[\"price\"].plot(kind='bar', color='lightseagreen')\n",
    "bar_plot.set_ylabel(\"Count of 2$ Restaurants\")\n",
    "bar_plot.set_xlabel(\"Rating\")\n",
    "bar_plot.set_title(\"Breakdown of Restaurant Rating by 2$ Pricepoint - Dallas\")\n",
    "plt.savefig(\"./Output/Charts/Dallas_Rating_2$_Bar.png\")"
   ]
  },
  {
   "cell_type": "code",
   "execution_count": 106,
   "metadata": {},
   "outputs": [
    {
     "data": {
      "image/png": "[encoded data removed]",
      "text/plain": [
       "<Figure size 432x288 with 1 Axes>"
      ]
     },
     "metadata": {
      "needs_background": "light"
     },
     "output_type": "display_data"
    }
   ],
   "source": [
    "bar_plot3 = dallas_price_df[(dallas_price_df[\"price_int\"]==3)|(dallas_price_df[\"price_int\"]==4)].groupby(\"rating\").count()[\"price\"].plot(kind='bar', color='teal')\n",
    "bar_plot3.set_ylabel(\"Count of 3$ & 4$ Restaurants\")\n",
    "bar_plot3.set_xlabel(\"Rating\")\n",
    "bar_plot3.set_title(\"Breakdown of Restaurant Rating by 3$ and 4$ Pricepoint - Dallas\")\n",
    "plt.savefig(\"./Output/Charts/Dallas_Rating_3$4$_Bar.png\")"
   ]
  },
  {
   "cell_type": "code",
   "execution_count": 59,
   "metadata": {},
   "outputs": [
    {
     "data": {
      "application/vnd.jupyter.widget-view+json": {
       "model_id": "6b3a63fa1c70446999a5fed23d01e3cc",
       "version_major": 2,
       "version_minor": 0
      },
      "text/plain": [
       "Figure(layout=FigureLayout(border='1px solid black', height='400px', padding='1px', width='600px'))"
      ]
     },
     "metadata": {},
     "output_type": "display_data"
    }
   ],
   "source": [
    "# Configure gmaps\n",
    "gmaps.configure(api_key=google_key)\n",
    "\n",
    "figure_layout = {\n",
    "    'width': '600px',\n",
    "    'height': '400px',\n",
    "    'border': '1px solid black',\n",
    "    'padding': '1px'\n",
    "}\n",
    "\n",
    "# create variables for heatmap\n",
    "locations = dallas_price_df[[\"latitude\", \"longitude\"]]\n",
    "price = dallas_price_df[\"price_int\"].astype(float)\n",
    "dallas_center = (32.779167, -96.808891)\n",
    "\n",
    "fig = gmaps.figure(layout=figure_layout, center=dallas_center, zoom_level=5)\n",
    "\n",
    "# create heat layer\n",
    "heat_layer = gmaps.heatmap_layer(locations, weights=price, dissipating=True, point_radius=10)\n",
    "\n",
    "# add layer\n",
    "fig.add_layer(heat_layer)\n",
    "\n",
    "# display figure\n",
    "fig"
   ]
  },
  {
   "cell_type": "markdown",
   "metadata": {},
   "source": [
    "# Seattle"
   ]
  },
  {
   "cell_type": "code",
   "execution_count": 19,
   "metadata": {},
   "outputs": [
    {
     "data": {
      "text/html": [
       "<div>\n",
       "<style scoped>\n",
       "    .dataframe tbody tr th:only-of-type {\n",
       "        vertical-align: middle;\n",
       "    }\n",
       "\n",
       "    .dataframe tbody tr th {\n",
       "        vertical-align: top;\n",
       "    }\n",
       "\n",
       "    .dataframe thead th {\n",
       "        text-align: right;\n",
       "    }\n",
       "</style>\n",
       "<table border=\"1\" class=\"dataframe\">\n",
       "  <thead>\n",
       "    <tr style=\"text-align: right;\">\n",
       "      <th></th>\n",
       "      <th>name</th>\n",
       "      <th>city</th>\n",
       "      <th>latitude</th>\n",
       "      <th>longitude</th>\n",
       "      <th>zipcode</th>\n",
       "      <th>ethnicity</th>\n",
       "      <th>price</th>\n",
       "      <th>rating</th>\n",
       "    </tr>\n",
       "  </thead>\n",
       "  <tbody>\n",
       "    <tr>\n",
       "      <th>0</th>\n",
       "      <td>A + Hong Kong Kitchen</td>\n",
       "      <td>Seattle</td>\n",
       "      <td>47.598540</td>\n",
       "      <td>-122.326520</td>\n",
       "      <td>98104</td>\n",
       "      <td>chinese</td>\n",
       "      <td>$</td>\n",
       "      <td>4.0</td>\n",
       "    </tr>\n",
       "    <tr>\n",
       "      <th>1</th>\n",
       "      <td>Din Tai Fung</td>\n",
       "      <td>Seattle</td>\n",
       "      <td>47.612517</td>\n",
       "      <td>-122.335410</td>\n",
       "      <td>98101</td>\n",
       "      <td>chinese</td>\n",
       "      <td>$$</td>\n",
       "      <td>4.0</td>\n",
       "    </tr>\n",
       "    <tr>\n",
       "      <th>2</th>\n",
       "      <td>Harbor City Restaurant</td>\n",
       "      <td>Seattle</td>\n",
       "      <td>47.598210</td>\n",
       "      <td>-122.323390</td>\n",
       "      <td>98104</td>\n",
       "      <td>chinese</td>\n",
       "      <td>$$</td>\n",
       "      <td>4.0</td>\n",
       "    </tr>\n",
       "    <tr>\n",
       "      <th>3</th>\n",
       "      <td>Dough Zone</td>\n",
       "      <td>Seattle</td>\n",
       "      <td>47.597880</td>\n",
       "      <td>-122.327490</td>\n",
       "      <td>98104</td>\n",
       "      <td>chinese</td>\n",
       "      <td>$$</td>\n",
       "      <td>4.0</td>\n",
       "    </tr>\n",
       "    <tr>\n",
       "      <th>4</th>\n",
       "      <td>19 GOLD</td>\n",
       "      <td>Seattle</td>\n",
       "      <td>47.651839</td>\n",
       "      <td>-122.350314</td>\n",
       "      <td>98103</td>\n",
       "      <td>chinese</td>\n",
       "      <td>$$</td>\n",
       "      <td>4.5</td>\n",
       "    </tr>\n",
       "  </tbody>\n",
       "</table>\n",
       "</div>"
      ],
      "text/plain": [
       "                     name     city   latitude   longitude  zipcode ethnicity  \\\n",
       "0   A + Hong Kong Kitchen  Seattle  47.598540 -122.326520    98104   chinese   \n",
       "1            Din Tai Fung  Seattle  47.612517 -122.335410    98101   chinese   \n",
       "2  Harbor City Restaurant  Seattle  47.598210 -122.323390    98104   chinese   \n",
       "3              Dough Zone  Seattle  47.597880 -122.327490    98104   chinese   \n",
       "4                 19 GOLD  Seattle  47.651839 -122.350314    98103   chinese   \n",
       "\n",
       "  price  rating  \n",
       "0     $     4.0  \n",
       "1    $$     4.0  \n",
       "2    $$     4.0  \n",
       "3    $$     4.0  \n",
       "4    $$     4.5  "
      ]
     },
     "execution_count": 19,
     "metadata": {},
     "output_type": "execute_result"
    }
   ],
   "source": [
    "# import yelp city csv & read into dataframe\n",
    "seattle_yelp_path = \"./Output/Data/seattle_restaurants.csv\"\n",
    "seattle_yelp = pd.read_csv(seattle_yelp_path)\n",
    "seattle_yelp.head()"
   ]
  },
  {
   "cell_type": "code",
   "execution_count": 20,
   "metadata": {},
   "outputs": [
    {
     "data": {
      "text/plain": [
       "mexican         261\n",
       "new_american    243\n",
       "japanese        222\n",
       "chinese         180\n",
       "italian         160\n",
       "thai            150\n",
       "indian           57\n",
       "greek            51\n",
       "french           37\n",
       "soulfood         12\n",
       "brazilian         5\n",
       "Name: ethnicity, dtype: int64"
      ]
     },
     "execution_count": 20,
     "metadata": {},
     "output_type": "execute_result"
    }
   ],
   "source": [
    "seattle_ethnicity_sums = seattle_yelp[\"ethnicity\"].value_counts()\n",
    "seattle_ethnicity_sums"
   ]
  },
  {
   "cell_type": "code",
   "execution_count": 138,
   "metadata": {},
   "outputs": [
    {
     "data": {
      "image/png": "[encoded data removed]",
      "text/plain": [
       "<Figure size 432x288 with 1 Axes>"
      ]
     },
     "metadata": {
      "needs_background": "light"
     },
     "output_type": "display_data"
    },
    {
     "data": {
      "text/plain": [
       "<Figure size 864x432 with 0 Axes>"
      ]
     },
     "metadata": {},
     "output_type": "display_data"
    }
   ],
   "source": [
    "ethnic_groups = seattle_yelp.groupby(\"ethnicity\")\n",
    "ethnic_counts = ethnic_groups['ethnicity'].count()\n",
    "seattle_ethnic_bar = ethnic_counts.plot(kind='bar', color=ethnicity_colors)\n",
    "seattle_ethnic_bar.set_title(\"# of Restaurants by Ethnicity in Seattle\")\n",
    "seattle_ethnic_bar.set_xlabel(\"Ethnicity\")\n",
    "seattle_ethnic_bar.set_ylabel(\"# of Restaurants\")\n",
    "plt.savefig(\"./Output/Charts/SeattleYelpBar.png\")\n",
    "plt.figure(figsize=(12,6))\n",
    "plt.tight_layout()\n",
    "plt.show()"
   ]
  },
  {
   "cell_type": "code",
   "execution_count": 22,
   "metadata": {},
   "outputs": [
    {
     "data": {
      "text/html": [
       "<div>\n",
       "<style scoped>\n",
       "    .dataframe tbody tr th:only-of-type {\n",
       "        vertical-align: middle;\n",
       "    }\n",
       "\n",
       "    .dataframe tbody tr th {\n",
       "        vertical-align: top;\n",
       "    }\n",
       "\n",
       "    .dataframe thead th {\n",
       "        text-align: right;\n",
       "    }\n",
       "</style>\n",
       "<table border=\"1\" class=\"dataframe\">\n",
       "  <thead>\n",
       "    <tr style=\"text-align: right;\">\n",
       "      <th></th>\n",
       "      <th>name</th>\n",
       "      <th>city</th>\n",
       "      <th>latitude</th>\n",
       "      <th>longitude</th>\n",
       "      <th>zipcode</th>\n",
       "      <th>ethnicity</th>\n",
       "      <th>price</th>\n",
       "      <th>rating</th>\n",
       "      <th>price_int</th>\n",
       "    </tr>\n",
       "  </thead>\n",
       "  <tbody>\n",
       "    <tr>\n",
       "      <th>0</th>\n",
       "      <td>A + Hong Kong Kitchen</td>\n",
       "      <td>Seattle</td>\n",
       "      <td>47.598540</td>\n",
       "      <td>-122.326520</td>\n",
       "      <td>98104</td>\n",
       "      <td>chinese</td>\n",
       "      <td>$</td>\n",
       "      <td>4.0</td>\n",
       "      <td>1</td>\n",
       "    </tr>\n",
       "    <tr>\n",
       "      <th>1</th>\n",
       "      <td>Din Tai Fung</td>\n",
       "      <td>Seattle</td>\n",
       "      <td>47.612517</td>\n",
       "      <td>-122.335410</td>\n",
       "      <td>98101</td>\n",
       "      <td>chinese</td>\n",
       "      <td>$$</td>\n",
       "      <td>4.0</td>\n",
       "      <td>2</td>\n",
       "    </tr>\n",
       "    <tr>\n",
       "      <th>2</th>\n",
       "      <td>Harbor City Restaurant</td>\n",
       "      <td>Seattle</td>\n",
       "      <td>47.598210</td>\n",
       "      <td>-122.323390</td>\n",
       "      <td>98104</td>\n",
       "      <td>chinese</td>\n",
       "      <td>$$</td>\n",
       "      <td>4.0</td>\n",
       "      <td>2</td>\n",
       "    </tr>\n",
       "    <tr>\n",
       "      <th>3</th>\n",
       "      <td>Dough Zone</td>\n",
       "      <td>Seattle</td>\n",
       "      <td>47.597880</td>\n",
       "      <td>-122.327490</td>\n",
       "      <td>98104</td>\n",
       "      <td>chinese</td>\n",
       "      <td>$$</td>\n",
       "      <td>4.0</td>\n",
       "      <td>2</td>\n",
       "    </tr>\n",
       "    <tr>\n",
       "      <th>4</th>\n",
       "      <td>19 GOLD</td>\n",
       "      <td>Seattle</td>\n",
       "      <td>47.651839</td>\n",
       "      <td>-122.350314</td>\n",
       "      <td>98103</td>\n",
       "      <td>chinese</td>\n",
       "      <td>$$</td>\n",
       "      <td>4.5</td>\n",
       "      <td>2</td>\n",
       "    </tr>\n",
       "    <tr>\n",
       "      <th>...</th>\n",
       "      <td>...</td>\n",
       "      <td>...</td>\n",
       "      <td>...</td>\n",
       "      <td>...</td>\n",
       "      <td>...</td>\n",
       "      <td>...</td>\n",
       "      <td>...</td>\n",
       "      <td>...</td>\n",
       "      <td>...</td>\n",
       "    </tr>\n",
       "    <tr>\n",
       "      <th>1373</th>\n",
       "      <td>Taco Time</td>\n",
       "      <td>Seattle</td>\n",
       "      <td>47.711987</td>\n",
       "      <td>-122.186876</td>\n",
       "      <td>98034</td>\n",
       "      <td>mexican</td>\n",
       "      <td>$</td>\n",
       "      <td>3.5</td>\n",
       "      <td>1</td>\n",
       "    </tr>\n",
       "    <tr>\n",
       "      <th>1374</th>\n",
       "      <td>Jack in the Box</td>\n",
       "      <td>Seattle</td>\n",
       "      <td>47.720318</td>\n",
       "      <td>-122.345448</td>\n",
       "      <td>98133</td>\n",
       "      <td>mexican</td>\n",
       "      <td>$</td>\n",
       "      <td>2.0</td>\n",
       "      <td>1</td>\n",
       "    </tr>\n",
       "    <tr>\n",
       "      <th>1375</th>\n",
       "      <td>Chipotle Mexican Grill</td>\n",
       "      <td>Seattle</td>\n",
       "      <td>47.560212</td>\n",
       "      <td>-122.386614</td>\n",
       "      <td>98116</td>\n",
       "      <td>mexican</td>\n",
       "      <td>$</td>\n",
       "      <td>2.5</td>\n",
       "      <td>1</td>\n",
       "    </tr>\n",
       "    <tr>\n",
       "      <th>1376</th>\n",
       "      <td>Taco Del Mar</td>\n",
       "      <td>Seattle</td>\n",
       "      <td>47.616689</td>\n",
       "      <td>-122.204980</td>\n",
       "      <td>98004</td>\n",
       "      <td>mexican</td>\n",
       "      <td>$</td>\n",
       "      <td>3.0</td>\n",
       "      <td>1</td>\n",
       "    </tr>\n",
       "    <tr>\n",
       "      <th>1377</th>\n",
       "      <td>Chipotle Mexican Grill</td>\n",
       "      <td>Seattle</td>\n",
       "      <td>47.613550</td>\n",
       "      <td>-122.199784</td>\n",
       "      <td>98004</td>\n",
       "      <td>mexican</td>\n",
       "      <td>$</td>\n",
       "      <td>3.0</td>\n",
       "      <td>1</td>\n",
       "    </tr>\n",
       "  </tbody>\n",
       "</table>\n",
       "<p>1167 rows × 9 columns</p>\n",
       "</div>"
      ],
      "text/plain": [
       "                        name     city   latitude   longitude  zipcode  \\\n",
       "0      A + Hong Kong Kitchen  Seattle  47.598540 -122.326520    98104   \n",
       "1               Din Tai Fung  Seattle  47.612517 -122.335410    98101   \n",
       "2     Harbor City Restaurant  Seattle  47.598210 -122.323390    98104   \n",
       "3                 Dough Zone  Seattle  47.597880 -122.327490    98104   \n",
       "4                    19 GOLD  Seattle  47.651839 -122.350314    98103   \n",
       "...                      ...      ...        ...         ...      ...   \n",
       "1373               Taco Time  Seattle  47.711987 -122.186876    98034   \n",
       "1374         Jack in the Box  Seattle  47.720318 -122.345448    98133   \n",
       "1375  Chipotle Mexican Grill  Seattle  47.560212 -122.386614    98116   \n",
       "1376            Taco Del Mar  Seattle  47.616689 -122.204980    98004   \n",
       "1377  Chipotle Mexican Grill  Seattle  47.613550 -122.199784    98004   \n",
       "\n",
       "     ethnicity price  rating  price_int  \n",
       "0      chinese     $     4.0          1  \n",
       "1      chinese    $$     4.0          2  \n",
       "2      chinese    $$     4.0          2  \n",
       "3      chinese    $$     4.0          2  \n",
       "4      chinese    $$     4.5          2  \n",
       "...        ...   ...     ...        ...  \n",
       "1373   mexican     $     3.5          1  \n",
       "1374   mexican     $     2.0          1  \n",
       "1375   mexican     $     2.5          1  \n",
       "1376   mexican     $     3.0          1  \n",
       "1377   mexican     $     3.0          1  \n",
       "\n",
       "[1167 rows x 9 columns]"
      ]
     },
     "execution_count": 22,
     "metadata": {},
     "output_type": "execute_result"
    }
   ],
   "source": [
    "seattle_price_df = pd.DataFrame(seattle_yelp.dropna(subset=['price']))\n",
    "seattle_price_df['price_int'] = [len(price) for price in seattle_price_df['price']]\n",
    "seattle_price_df"
   ]
  },
  {
   "cell_type": "code",
   "execution_count": 113,
   "metadata": {},
   "outputs": [],
   "source": [
    "seattle_ethnic_price = seattle_price_df.groupby(\"ethnicity\")[\"price\"].value_counts()\n",
    "#seattle_ethnic_price"
   ]
  },
  {
   "cell_type": "code",
   "execution_count": 127,
   "metadata": {},
   "outputs": [
    {
     "data": {
      "image/png": "[encoded data removed]",
      "text/plain": [
       "<Figure size 432x288 with 1 Axes>"
      ]
     },
     "metadata": {
      "needs_background": "light"
     },
     "output_type": "display_data"
    }
   ],
   "source": [
    "bar_plot = seattle_price_df[seattle_price_df[\"price_int\"]==1].groupby(\"ethnicity\").count()[\"price\"].plot(kind='bar', color='mediumslateblue')\n",
    "bar_plot.set_ylabel(\"Count of 1$ Restaurants\")\n",
    "bar_plot.set_xlabel(\"Cuisine Type\")\n",
    "bar_plot.set_title(\"1$ Restaurants by Cuisine/Restaurant Type in Seattle\")\n",
    "plt.savefig(\"./Output/Charts/Seattle_Ethnic_1$_Bar.png\")"
   ]
  },
  {
   "cell_type": "code",
   "execution_count": 126,
   "metadata": {},
   "outputs": [
    {
     "data": {
      "image/png": "[encoded data removed]",
      "text/plain": [
       "<Figure size 432x288 with 1 Axes>"
      ]
     },
     "metadata": {
      "needs_background": "light"
     },
     "output_type": "display_data"
    }
   ],
   "source": [
    "bar_plot2 = seattle_price_df[seattle_price_df[\"price_int\"]==2].groupby(\"ethnicity\").count()[\"price\"].plot(kind='bar', color='slateblue')\n",
    "bar_plot2.set_ylabel(\"Count of 2$ Restaurants\")\n",
    "bar_plot2.set_xlabel(\"Cuisine Type\")\n",
    "bar_plot2.set_title(\"2$ Restaurants by Cuisine/Restaurant Type in Seattle\")\n",
    "plt.savefig(\"./Output/Charts/Seattle_Ethnic_2$_Bar.png\")"
   ]
  },
  {
   "cell_type": "code",
   "execution_count": 125,
   "metadata": {},
   "outputs": [
    {
     "data": {
      "image/png": "[encoded data removed]",
      "text/plain": [
       "<Figure size 432x288 with 1 Axes>"
      ]
     },
     "metadata": {
      "needs_background": "light"
     },
     "output_type": "display_data"
    }
   ],
   "source": [
    "bar_plot3 = seattle_price_df[(seattle_price_df[\"price_int\"]==3)|(seattle_price_df[\"price_int\"]==4)].groupby(\"ethnicity\").count()[\"price\"].plot(kind='bar', color='darkslateblue')\n",
    "bar_plot3.set_ylabel(\"Count of 3$ and 4$ Restaurants\")\n",
    "bar_plot3.set_xlabel(\"Cuisine Type\")\n",
    "bar_plot3.set_title(\"3$ and 4$ Restaurants by Cuisine/Restaurant Type in Seattle\")\n",
    "plt.savefig(\"./Output/Charts/Seattle_Ethnic_3$4$_Bar.png\")"
   ]
  },
  {
   "cell_type": "code",
   "execution_count": 61,
   "metadata": {},
   "outputs": [],
   "source": [
    "# bar_plot = seattle_price_df.groupby(\"ethnicity\")[\"price_int\"].value_counts().plot(kind='bar') \n",
    "# bar_plot.set_xlabel = (\"Ethnicity & Pricepoint\")\n",
    "# bar_plot.set_ylabel =(\"Count\")\n",
    "# bar_plot.set_title = (\"Breakdown of Restaurant Ethnicity by Pricepoint - Seattle\")\n",
    "# #plt.savefig(\"./Output/Charts/Seattle_Ethnic_Price_Bar.png\")\n",
    "# plt.show()"
   ]
  },
  {
   "cell_type": "code",
   "execution_count": 64,
   "metadata": {},
   "outputs": [],
   "source": [
    "seattle_rating_price = seattle_price_df.groupby(\"rating\")[\"price\"].value_counts()\n",
    "# seattle_rating_price"
   ]
  },
  {
   "cell_type": "code",
   "execution_count": 107,
   "metadata": {},
   "outputs": [
    {
     "data": {
      "image/png": "[encoded data removed]",
      "text/plain": [
       "<Figure size 432x288 with 1 Axes>"
      ]
     },
     "metadata": {
      "needs_background": "light"
     },
     "output_type": "display_data"
    }
   ],
   "source": [
    "bar_plot = seattle_price_df[seattle_price_df[\"price_int\"]==1].groupby(\"rating\").count()[\"price\"].plot(kind='bar', color='turquoise')\n",
    "bar_plot.set_ylabel(\"Count of 1$ Restaurants\")\n",
    "bar_plot.set_xlabel(\"Rating\")\n",
    "bar_plot.set_title(\"Breakdown of Restaurant Rating by $ Pricepoint - Seattle\")\n",
    "plt.savefig(\"./Output/Charts/seattle_Rating_$_Bar.png\")"
   ]
  },
  {
   "cell_type": "code",
   "execution_count": 108,
   "metadata": {},
   "outputs": [
    {
     "data": {
      "image/png": "[encoded data removed]",
      "text/plain": [
       "<Figure size 432x288 with 1 Axes>"
      ]
     },
     "metadata": {
      "needs_background": "light"
     },
     "output_type": "display_data"
    }
   ],
   "source": [
    "bar_plot2 = seattle_price_df[seattle_price_df[\"price_int\"]==2].groupby(\"rating\").count()[\"price\"].plot(kind='bar', color='lightseagreen')\n",
    "bar_plot2.set_ylabel(\"Count of 2$ Restaurants\")\n",
    "bar_plot2.set_xlabel(\"Rating\")\n",
    "bar_plot2.set_title(\"Breakdown of Restaurant Rating by 2$ Pricepoint - Seattle\")\n",
    "plt.savefig(\"./Output/Charts/seattle_Rating_2$_Bar.png\")"
   ]
  },
  {
   "cell_type": "code",
   "execution_count": 109,
   "metadata": {},
   "outputs": [
    {
     "data": {
      "image/png": "[encoded data removed]",
      "text/plain": [
       "<Figure size 432x288 with 1 Axes>"
      ]
     },
     "metadata": {
      "needs_background": "light"
     },
     "output_type": "display_data"
    }
   ],
   "source": [
    "bar_plot3 = seattle_price_df[(seattle_price_df[\"price_int\"]==3)|(seattle_price_df[\"price_int\"]==4)].groupby(\"rating\").count()[\"price\"].plot(kind='bar', color='teal')\n",
    "bar_plot3.set_ylabel(\"Count of 3$ & 4$ Restaurants\")\n",
    "bar_plot3.set_xlabel(\"Rating\")\n",
    "bar_plot3.set_title(\"Breakdown of Restaurant Rating by 3$ and 4$ Pricepoint - Seattle\")\n",
    "plt.savefig(\"./Output/Charts/Seattle_Rating_3$4$_Bar.png\")"
   ]
  },
  {
   "cell_type": "code",
   "execution_count": 67,
   "metadata": {},
   "outputs": [],
   "source": [
    "# seattle_price_df.groupby(\"rating\")[\"price_int\"].value_counts().plot(kind='bar') \n",
    "# plt.xlabel =(\"Rating & Pricepoint\")\n",
    "# plt.ylabel =(\"Count\")\n",
    "# plt.title =(\"Breakdown of Restaurant Rating by Pricepoint - Seattle\")\n",
    "# #plt.savefig(\"./Output/Charts/Seattle_Rating_Price_Bar.png\")\n",
    "# plt.show()"
   ]
  },
  {
   "cell_type": "code",
   "execution_count": 57,
   "metadata": {
    "scrolled": true
   },
   "outputs": [
    {
     "data": {
      "application/vnd.jupyter.widget-view+json": {
       "model_id": "3d030105652b44cca5286eb6e8e4bb44",
       "version_major": 2,
       "version_minor": 0
      },
      "text/plain": [
       "Figure(layout=FigureLayout(border='1px solid black', height='400px', padding='1px', width='600px'))"
      ]
     },
     "metadata": {},
     "output_type": "display_data"
    }
   ],
   "source": [
    "# Configure gmaps\n",
    "gmaps.configure(api_key=google_key)\n",
    "\n",
    "figure_layout = {\n",
    "    'width': '600px',\n",
    "    'height': '400px',\n",
    "    'border': '1px solid black',\n",
    "    'padding': '1px'\n",
    "}\n",
    "\n",
    "# create variables for heatmap\n",
    "locations = seattle_price_df[[\"latitude\", \"longitude\"]]\n",
    "price = seattle_price_df[\"price_int\"].astype(float)\n",
    "#maxprice = price_int.max()\n",
    "\n",
    "#dallas_center = (32.779167, -96.808891)\n",
    "seattle_center = (47.608013, -122.335167)\n",
    "fig = gmaps.figure(layout=figure_layout, center=seattle_center, zoom_level=5)\n",
    "\n",
    "# create heat layer\n",
    "heat_layer = gmaps.heatmap_layer(locations, weights=price, dissipating=True, point_radius=5)\n",
    "\n",
    "# add layer\n",
    "fig.add_layer(heat_layer)\n",
    "\n",
    "# display figure\n",
    "fig"
   ]
  },
  {
   "cell_type": "markdown",
   "metadata": {},
   "source": [
    "# Indianapolis"
   ]
  },
  {
   "cell_type": "code",
   "execution_count": 47,
   "metadata": {},
   "outputs": [
    {
     "data": {
      "text/html": [
       "<div>\n",
       "<style scoped>\n",
       "    .dataframe tbody tr th:only-of-type {\n",
       "        vertical-align: middle;\n",
       "    }\n",
       "\n",
       "    .dataframe tbody tr th {\n",
       "        vertical-align: top;\n",
       "    }\n",
       "\n",
       "    .dataframe thead th {\n",
       "        text-align: right;\n",
       "    }\n",
       "</style>\n",
       "<table border=\"1\" class=\"dataframe\">\n",
       "  <thead>\n",
       "    <tr style=\"text-align: right;\">\n",
       "      <th></th>\n",
       "      <th>name</th>\n",
       "      <th>city</th>\n",
       "      <th>latitude</th>\n",
       "      <th>longitude</th>\n",
       "      <th>zipcode</th>\n",
       "      <th>ethnicity</th>\n",
       "      <th>price</th>\n",
       "      <th>rating</th>\n",
       "    </tr>\n",
       "  </thead>\n",
       "  <tbody>\n",
       "    <tr>\n",
       "      <th>0</th>\n",
       "      <td>Asian Snack</td>\n",
       "      <td>indianapolis</td>\n",
       "      <td>39.820046</td>\n",
       "      <td>-86.228305</td>\n",
       "      <td>46222</td>\n",
       "      <td>chinese</td>\n",
       "      <td>$</td>\n",
       "      <td>4.5</td>\n",
       "    </tr>\n",
       "    <tr>\n",
       "      <th>1</th>\n",
       "      <td>Hong Kong China Restaurant</td>\n",
       "      <td>indianapolis</td>\n",
       "      <td>39.787680</td>\n",
       "      <td>-86.159940</td>\n",
       "      <td>46202</td>\n",
       "      <td>chinese</td>\n",
       "      <td>$</td>\n",
       "      <td>3.5</td>\n",
       "    </tr>\n",
       "    <tr>\n",
       "      <th>2</th>\n",
       "      <td>General Tso Inn</td>\n",
       "      <td>indianapolis</td>\n",
       "      <td>39.758240</td>\n",
       "      <td>-86.114960</td>\n",
       "      <td>46203</td>\n",
       "      <td>chinese</td>\n",
       "      <td>$</td>\n",
       "      <td>4.0</td>\n",
       "    </tr>\n",
       "    <tr>\n",
       "      <th>3</th>\n",
       "      <td>Fei Da</td>\n",
       "      <td>indianapolis</td>\n",
       "      <td>39.788189</td>\n",
       "      <td>-86.208588</td>\n",
       "      <td>46222</td>\n",
       "      <td>chinese</td>\n",
       "      <td>$</td>\n",
       "      <td>4.0</td>\n",
       "    </tr>\n",
       "    <tr>\n",
       "      <th>4</th>\n",
       "      <td>Asian Harbor</td>\n",
       "      <td>indianapolis</td>\n",
       "      <td>39.774140</td>\n",
       "      <td>-86.161667</td>\n",
       "      <td>46204</td>\n",
       "      <td>chinese</td>\n",
       "      <td>$$</td>\n",
       "      <td>3.5</td>\n",
       "    </tr>\n",
       "  </tbody>\n",
       "</table>\n",
       "</div>"
      ],
      "text/plain": [
       "                         name          city   latitude  longitude  zipcode  \\\n",
       "0                 Asian Snack  indianapolis  39.820046 -86.228305    46222   \n",
       "1  Hong Kong China Restaurant  indianapolis  39.787680 -86.159940    46202   \n",
       "2             General Tso Inn  indianapolis  39.758240 -86.114960    46203   \n",
       "3                      Fei Da  indianapolis  39.788189 -86.208588    46222   \n",
       "4                Asian Harbor  indianapolis  39.774140 -86.161667    46204   \n",
       "\n",
       "  ethnicity price  rating  \n",
       "0   chinese     $     4.5  \n",
       "1   chinese     $     3.5  \n",
       "2   chinese     $     4.0  \n",
       "3   chinese     $     4.0  \n",
       "4   chinese    $$     3.5  "
      ]
     },
     "execution_count": 47,
     "metadata": {},
     "output_type": "execute_result"
    }
   ],
   "source": [
    "indianapolis_yelp_path = \"./Output/Data/indianapolis_restaurants.csv\"\n",
    "indianapolis_yelp = pd.read_csv(indianapolis_yelp_path)\n",
    "indianapolis_yelp.head()"
   ]
  },
  {
   "cell_type": "code",
   "execution_count": 48,
   "metadata": {},
   "outputs": [
    {
     "data": {
      "text/plain": [
       "mexican         224\n",
       "new_american     68\n",
       "chinese          65\n",
       "italian          58\n",
       "indian           18\n",
       "soulfood         18\n",
       "japanese         16\n",
       "thai             14\n",
       "greek            12\n",
       "french            9\n",
       "brazilian         5\n",
       "Name: ethnicity, dtype: int64"
      ]
     },
     "execution_count": 48,
     "metadata": {},
     "output_type": "execute_result"
    }
   ],
   "source": [
    "indianapolis_ethnicity_sums = indianapolis_yelp[\"ethnicity\"].value_counts()\n",
    "# indianapolis_ethnicity_sums"
   ]
  },
  {
   "cell_type": "code",
   "execution_count": 137,
   "metadata": {
    "scrolled": true
   },
   "outputs": [
    {
     "data": {
      "image/png": "[encoded data removed]",
      "text/plain": [
       "<Figure size 432x288 with 1 Axes>"
      ]
     },
     "metadata": {
      "needs_background": "light"
     },
     "output_type": "display_data"
    },
    {
     "data": {
      "text/plain": [
       "<Figure size 864x432 with 0 Axes>"
      ]
     },
     "metadata": {},
     "output_type": "display_data"
    }
   ],
   "source": [
    "indy_ethnic_groups = indianapolis_yelp.groupby(\"ethnicity\")\n",
    "indy_ethnic_counts = indy_ethnic_groups['ethnicity'].count()\n",
    "indianapolis_ethnic_bar = indy_ethnic_counts.plot(kind='bar', color=ethnicity_colors)\n",
    "indianapolis_ethnic_bar.set_title(\"# of Restaurants by Ethnicity in indianapolis\")\n",
    "indianapolis_ethnic_bar.set_xlabel(\"Ethnicity\")\n",
    "indianapolis_ethnic_bar.set_ylabel(\"# of Restaurants\")\n",
    "plt.savefig(\"./Output/Charts/IndianapolisYelpBar.png\")\n",
    "plt.figure(figsize=(12,6))\n",
    "plt.tight_layout()\n",
    "plt.show()"
   ]
  },
  {
   "cell_type": "code",
   "execution_count": 50,
   "metadata": {},
   "outputs": [
    {
     "data": {
      "text/html": [
       "<div>\n",
       "<style scoped>\n",
       "    .dataframe tbody tr th:only-of-type {\n",
       "        vertical-align: middle;\n",
       "    }\n",
       "\n",
       "    .dataframe tbody tr th {\n",
       "        vertical-align: top;\n",
       "    }\n",
       "\n",
       "    .dataframe thead th {\n",
       "        text-align: right;\n",
       "    }\n",
       "</style>\n",
       "<table border=\"1\" class=\"dataframe\">\n",
       "  <thead>\n",
       "    <tr style=\"text-align: right;\">\n",
       "      <th></th>\n",
       "      <th>name</th>\n",
       "      <th>city</th>\n",
       "      <th>latitude</th>\n",
       "      <th>longitude</th>\n",
       "      <th>zipcode</th>\n",
       "      <th>ethnicity</th>\n",
       "      <th>price</th>\n",
       "      <th>rating</th>\n",
       "      <th>price_int</th>\n",
       "    </tr>\n",
       "  </thead>\n",
       "  <tbody>\n",
       "    <tr>\n",
       "      <th>0</th>\n",
       "      <td>Asian Snack</td>\n",
       "      <td>indianapolis</td>\n",
       "      <td>39.820046</td>\n",
       "      <td>-86.228305</td>\n",
       "      <td>46222</td>\n",
       "      <td>chinese</td>\n",
       "      <td>$</td>\n",
       "      <td>4.5</td>\n",
       "      <td>1</td>\n",
       "    </tr>\n",
       "    <tr>\n",
       "      <th>1</th>\n",
       "      <td>Hong Kong China Restaurant</td>\n",
       "      <td>indianapolis</td>\n",
       "      <td>39.787680</td>\n",
       "      <td>-86.159940</td>\n",
       "      <td>46202</td>\n",
       "      <td>chinese</td>\n",
       "      <td>$</td>\n",
       "      <td>3.5</td>\n",
       "      <td>1</td>\n",
       "    </tr>\n",
       "    <tr>\n",
       "      <th>2</th>\n",
       "      <td>General Tso Inn</td>\n",
       "      <td>indianapolis</td>\n",
       "      <td>39.758240</td>\n",
       "      <td>-86.114960</td>\n",
       "      <td>46203</td>\n",
       "      <td>chinese</td>\n",
       "      <td>$</td>\n",
       "      <td>4.0</td>\n",
       "      <td>1</td>\n",
       "    </tr>\n",
       "    <tr>\n",
       "      <th>3</th>\n",
       "      <td>Fei Da</td>\n",
       "      <td>indianapolis</td>\n",
       "      <td>39.788189</td>\n",
       "      <td>-86.208588</td>\n",
       "      <td>46222</td>\n",
       "      <td>chinese</td>\n",
       "      <td>$</td>\n",
       "      <td>4.0</td>\n",
       "      <td>1</td>\n",
       "    </tr>\n",
       "    <tr>\n",
       "      <th>4</th>\n",
       "      <td>Asian Harbor</td>\n",
       "      <td>indianapolis</td>\n",
       "      <td>39.774140</td>\n",
       "      <td>-86.161667</td>\n",
       "      <td>46204</td>\n",
       "      <td>chinese</td>\n",
       "      <td>$$</td>\n",
       "      <td>3.5</td>\n",
       "      <td>2</td>\n",
       "    </tr>\n",
       "    <tr>\n",
       "      <th>...</th>\n",
       "      <td>...</td>\n",
       "      <td>...</td>\n",
       "      <td>...</td>\n",
       "      <td>...</td>\n",
       "      <td>...</td>\n",
       "      <td>...</td>\n",
       "      <td>...</td>\n",
       "      <td>...</td>\n",
       "      <td>...</td>\n",
       "    </tr>\n",
       "    <tr>\n",
       "      <th>501</th>\n",
       "      <td>Taco Bell</td>\n",
       "      <td>indianapolis</td>\n",
       "      <td>39.854890</td>\n",
       "      <td>-86.240240</td>\n",
       "      <td>46254</td>\n",
       "      <td>mexican</td>\n",
       "      <td>$</td>\n",
       "      <td>1.5</td>\n",
       "      <td>1</td>\n",
       "    </tr>\n",
       "    <tr>\n",
       "      <th>502</th>\n",
       "      <td>Taco Bell</td>\n",
       "      <td>indianapolis</td>\n",
       "      <td>39.905167</td>\n",
       "      <td>-86.059453</td>\n",
       "      <td>46250</td>\n",
       "      <td>mexican</td>\n",
       "      <td>$</td>\n",
       "      <td>2.0</td>\n",
       "      <td>1</td>\n",
       "    </tr>\n",
       "    <tr>\n",
       "      <th>503</th>\n",
       "      <td>Chipotle Mexican Grill</td>\n",
       "      <td>indianapolis</td>\n",
       "      <td>39.905766</td>\n",
       "      <td>-86.077454</td>\n",
       "      <td>46250</td>\n",
       "      <td>mexican</td>\n",
       "      <td>$</td>\n",
       "      <td>2.5</td>\n",
       "      <td>1</td>\n",
       "    </tr>\n",
       "    <tr>\n",
       "      <th>504</th>\n",
       "      <td>Taco Bell</td>\n",
       "      <td>indianapolis</td>\n",
       "      <td>39.709099</td>\n",
       "      <td>-86.082211</td>\n",
       "      <td>46203</td>\n",
       "      <td>mexican</td>\n",
       "      <td>$</td>\n",
       "      <td>2.0</td>\n",
       "      <td>1</td>\n",
       "    </tr>\n",
       "    <tr>\n",
       "      <th>506</th>\n",
       "      <td>Taco Bell</td>\n",
       "      <td>indianapolis</td>\n",
       "      <td>39.823759</td>\n",
       "      <td>-86.234975</td>\n",
       "      <td>46254</td>\n",
       "      <td>mexican</td>\n",
       "      <td>$</td>\n",
       "      <td>2.0</td>\n",
       "      <td>1</td>\n",
       "    </tr>\n",
       "  </tbody>\n",
       "</table>\n",
       "<p>380 rows × 9 columns</p>\n",
       "</div>"
      ],
      "text/plain": [
       "                           name          city   latitude  longitude  zipcode  \\\n",
       "0                   Asian Snack  indianapolis  39.820046 -86.228305    46222   \n",
       "1    Hong Kong China Restaurant  indianapolis  39.787680 -86.159940    46202   \n",
       "2               General Tso Inn  indianapolis  39.758240 -86.114960    46203   \n",
       "3                        Fei Da  indianapolis  39.788189 -86.208588    46222   \n",
       "4                  Asian Harbor  indianapolis  39.774140 -86.161667    46204   \n",
       "..                          ...           ...        ...        ...      ...   \n",
       "501                   Taco Bell  indianapolis  39.854890 -86.240240    46254   \n",
       "502                   Taco Bell  indianapolis  39.905167 -86.059453    46250   \n",
       "503      Chipotle Mexican Grill  indianapolis  39.905766 -86.077454    46250   \n",
       "504                   Taco Bell  indianapolis  39.709099 -86.082211    46203   \n",
       "506                   Taco Bell  indianapolis  39.823759 -86.234975    46254   \n",
       "\n",
       "    ethnicity price  rating  price_int  \n",
       "0     chinese     $     4.5          1  \n",
       "1     chinese     $     3.5          1  \n",
       "2     chinese     $     4.0          1  \n",
       "3     chinese     $     4.0          1  \n",
       "4     chinese    $$     3.5          2  \n",
       "..        ...   ...     ...        ...  \n",
       "501   mexican     $     1.5          1  \n",
       "502   mexican     $     2.0          1  \n",
       "503   mexican     $     2.5          1  \n",
       "504   mexican     $     2.0          1  \n",
       "506   mexican     $     2.0          1  \n",
       "\n",
       "[380 rows x 9 columns]"
      ]
     },
     "execution_count": 50,
     "metadata": {},
     "output_type": "execute_result"
    }
   ],
   "source": [
    "indy_price_df = pd.DataFrame(indianapolis_yelp.dropna(subset=['price']))\n",
    "indy_price_df['price_int'] = [len(price) for price in indy_price_df['price']]\n",
    "indy_price_df"
   ]
  },
  {
   "cell_type": "code",
   "execution_count": 63,
   "metadata": {},
   "outputs": [],
   "source": [
    "indy_ethnic_price = indy_price_df.groupby(\"ethnicity\")[\"price\"].value_counts()\n",
    "#indy_ethnic_price"
   ]
  },
  {
   "cell_type": "code",
   "execution_count": 123,
   "metadata": {},
   "outputs": [
    {
     "data": {
      "image/png": "[encoded data removed]",
      "text/plain": [
       "<Figure size 432x288 with 1 Axes>"
      ]
     },
     "metadata": {
      "needs_background": "light"
     },
     "output_type": "display_data"
    }
   ],
   "source": [
    "bar_plot = indy_price_df[indy_price_df[\"price_int\"]==1].groupby(\"ethnicity\").count()[\"price\"].plot(kind='bar', color='mediumslateblue')\n",
    "bar_plot.set_ylabel(\"Count of 1$ Restaurants\")\n",
    "bar_plot.set_xlabel(\"Cuisine Type\")\n",
    "bar_plot.set_title(\"1$ Restaurants by Cuisine/Restaurant Type in Indianapolis\")\n",
    "plt.savefig(\"./Output/Charts/indy_Ethnic_1$_Bar.png\")"
   ]
  },
  {
   "cell_type": "code",
   "execution_count": 124,
   "metadata": {},
   "outputs": [
    {
     "data": {
      "image/png": "[encoded data removed]",
      "text/plain": [
       "<Figure size 432x288 with 1 Axes>"
      ]
     },
     "metadata": {
      "needs_background": "light"
     },
     "output_type": "display_data"
    }
   ],
   "source": [
    "bar_plot2 = indy_price_df[indy_price_df[\"price_int\"]==2].groupby(\"ethnicity\").count()[\"price\"].plot(kind='bar', color='slateblue')\n",
    "bar_plot2.set_ylabel(\"Count of 2$ Restaurants\")\n",
    "bar_plot2.set_xlabel(\"Cuisine Type\")\n",
    "bar_plot2.set_title(\"2$ Restaurants by Cuisine/Restaurant Type in Indianapolis\")\n",
    "plt.savefig(\"./Output/Charts/Indy_Ethnic_2$_Bar.png\")"
   ]
  },
  {
   "cell_type": "code",
   "execution_count": 122,
   "metadata": {},
   "outputs": [
    {
     "data": {
      "image/png": "[encoded data removed]",
      "text/plain": [
       "<Figure size 432x288 with 1 Axes>"
      ]
     },
     "metadata": {
      "needs_background": "light"
     },
     "output_type": "display_data"
    }
   ],
   "source": [
    "bar_plot3 = indy_price_df[(indy_price_df[\"price_int\"]==3)|(indy_price_df[\"price_int\"]==4)].groupby(\"ethnicity\").count()[\"price\"].plot(kind='bar', color='darkslateblue')\n",
    "bar_plot3.set_ylabel(\"Count of 3$ and 4$ Restaurants\")\n",
    "bar_plot3.set_xlabel(\"Cuisine Type\")\n",
    "bar_plot3.set_title(\"3$ and 4$ Restaurants by Cuisine/Restaurant Type in Indianapolis\")\n",
    "plt.savefig(\"./Output/Charts/Indy_Ethnic_3$4$_Bar.png\")"
   ]
  },
  {
   "cell_type": "code",
   "execution_count": 66,
   "metadata": {},
   "outputs": [],
   "source": [
    "# indy_price_df.groupby(\"ethnicity\")[\"price_int\"].value_counts().plot(kind='bar') \n",
    "# plt.xlabel =(\"Ethnicity & Pricepoint\")\n",
    "# plt.ylabel =(\"Count\")\n",
    "# plt.title =(\"Breakdown of Restaurant Ethnicity by Pricepoint - Indianapolis\")\n",
    "# #plt.savefig(\"./Output/Charts/Indianapolis_Ethnic_Price_Bar.png\")\n",
    "# plt.show()"
   ]
  },
  {
   "cell_type": "code",
   "execution_count": 62,
   "metadata": {},
   "outputs": [],
   "source": [
    "indy_rating_price = indy_price_df.groupby(\"rating\")[\"price\"].value_counts()\n",
    "#indy_rating_price"
   ]
  },
  {
   "cell_type": "code",
   "execution_count": 110,
   "metadata": {},
   "outputs": [
    {
     "data": {
      "image/png": "[encoded data removed]",
      "text/plain": [
       "<Figure size 432x288 with 1 Axes>"
      ]
     },
     "metadata": {
      "needs_background": "light"
     },
     "output_type": "display_data"
    }
   ],
   "source": [
    "bar_plot = indy_price_df[indy_price_df[\"price_int\"]==1].groupby(\"rating\").count()[\"price\"].plot(kind='bar', color='turquoise')\n",
    "bar_plot.set_ylabel(\"Count of 1$ Restaurants\")\n",
    "bar_plot.set_xlabel(\"Rating\")\n",
    "bar_plot.set_title(\"Breakdown of Restaurant Rating by $ Pricepoint - Indianapolis\")\n",
    "plt.savefig(\"./Output/Charts/Indy_Rating_1$_Bar.png\")"
   ]
  },
  {
   "cell_type": "code",
   "execution_count": 111,
   "metadata": {},
   "outputs": [
    {
     "data": {
      "image/png": "[encoded data removed]",
      "text/plain": [
       "<Figure size 432x288 with 1 Axes>"
      ]
     },
     "metadata": {
      "needs_background": "light"
     },
     "output_type": "display_data"
    }
   ],
   "source": [
    "bar_plot2 = indy_price_df[indy_price_df[\"price_int\"]==2].groupby(\"rating\").count()[\"price\"].plot(kind='bar', color='lightseagreen')\n",
    "bar_plot2.set_ylabel(\"Count of 2$ Restaurants\")\n",
    "bar_plot2.set_xlabel(\"Rating\")\n",
    "bar_plot2.set_title(\"Breakdown of Restaurant Rating by 2$ Pricepoint - Indianapolis\")\n",
    "plt.savefig(\"./Output/Charts/Indy_Rating_2$_Bar.png\")"
   ]
  },
  {
   "cell_type": "code",
   "execution_count": 112,
   "metadata": {},
   "outputs": [
    {
     "data": {
      "image/png": "[encoded data removed]",
      "text/plain": [
       "<Figure size 432x288 with 1 Axes>"
      ]
     },
     "metadata": {
      "needs_background": "light"
     },
     "output_type": "display_data"
    }
   ],
   "source": [
    "bar_plot3 = indy_price_df[(indy_price_df[\"price_int\"]==3)|(indy_price_df[\"price_int\"]==4)].groupby(\"rating\").count()[\"price\"].plot(kind='bar', color='teal')\n",
    "bar_plot3.set_ylabel(\"Count of 3$ & 4$ Restaurants\")\n",
    "bar_plot3.set_xlabel(\"Rating\")\n",
    "bar_plot3.set_title(\"Breakdown of Restaurant Rating by 3$ and 4$ Pricepoint - Indianapolis\")\n",
    "plt.savefig(\"./Output/Charts/Indy_Rating_3$4$_Bar.png\")"
   ]
  },
  {
   "cell_type": "code",
   "execution_count": 65,
   "metadata": {},
   "outputs": [],
   "source": [
    "# indy_price_df.groupby(\"rating\")[\"price_int\"].value_counts().plot(kind='bar') \n",
    "# plt.xlabel =(\"Rating & Pricepoint\")\n",
    "# plt.ylabel =(\"Count\")\n",
    "# plt.title =(\"Breakdown of Restaurant Ethnicity by Pricepoint - Indianapolis\")\n",
    "# #plt.savefig(\"./Output/Charts/Indianapolis_Ethnic_Price_Bar.png\")\n",
    "# plt.show()"
   ]
  },
  {
   "cell_type": "code",
   "execution_count": 58,
   "metadata": {},
   "outputs": [
    {
     "data": {
      "application/vnd.jupyter.widget-view+json": {
       "model_id": "bef1c35140f4499eb05a65abfb013313",
       "version_major": 2,
       "version_minor": 0
      },
      "text/plain": [
       "Figure(layout=FigureLayout(border='1px solid black', height='400px', padding='1px', width='600px'))"
      ]
     },
     "metadata": {},
     "output_type": "display_data"
    }
   ],
   "source": [
    "# Configure gmaps\n",
    "gmaps.configure(api_key=google_key)\n",
    "\n",
    "figure_layout = {\n",
    "    'width': '600px',\n",
    "    'height': '400px',\n",
    "    'border': '1px solid black',\n",
    "    'padding': '1px'\n",
    "}\n",
    "\n",
    "# create variables for heatmap\n",
    "locations = indy_price_df[[\"latitude\", \"longitude\"]]\n",
    "price = indy_price_df[\"price_int\"].astype(float)\n",
    "indy_center = (39.791000, -86.148003)\n",
    "\n",
    "fig = gmaps.figure(layout=figure_layout, center=indy_center, zoom_level=5)\n",
    "\n",
    "# create heat layer\n",
    "heat_layer = gmaps.heatmap_layer(locations, weights=price, dissipating=True, point_radius=10)\n",
    "\n",
    "# add layer\n",
    "fig.add_layer(heat_layer)\n",
    "\n",
    "# display figure\n",
    "fig"
   ]
  },
  {
   "cell_type": "code",
   "execution_count": null,
   "metadata": {},
   "outputs": [],
   "source": []
  }
 ],
 "metadata": {
  "kernelspec": {
   "display_name": "Python [conda env:PythonData] *",
   "language": "python",
   "name": "conda-env-PythonData-py"
  },
  "language_info": {
   "codemirror_mode": {
    "name": "ipython",
    "version": 3
   },
   "file_extension": ".py",
   "mimetype": "text/x-python",
   "name": "python",
   "nbconvert_exporter": "python",
   "pygments_lexer": "ipython3",
   "version": "3.6.10"
  }
 },
 "nbformat": 4,
 "nbformat_minor": 4
}
