{
 "cells": [
  {
   "cell_type": "code",
   "execution_count": 1,
   "metadata": {},
   "outputs": [],
   "source": [
    "#Dependencies & setup\n",
    "import pandas as pd\n",
    "import numpy as np\n",
    "import matplotlib.pyplot as plt\n",
    "import requests\n",
    "import gmaps\n",
    "import os\n",
    "import json\n",
    "import pprint\n",
    "\n",
    "#Import yelp API key\n",
    "from config import yelp_api\n"
   ]
  },
  {
   "cell_type": "code",
   "execution_count": 2,
   "metadata": {},
   "outputs": [
    {
     "data": {
      "text/html": [
       "<div>\n",
       "<style scoped>\n",
       "    .dataframe tbody tr th:only-of-type {\n",
       "        vertical-align: middle;\n",
       "    }\n",
       "\n",
       "    .dataframe tbody tr th {\n",
       "        vertical-align: top;\n",
       "    }\n",
       "\n",
       "    .dataframe thead th {\n",
       "        text-align: right;\n",
       "    }\n",
       "</style>\n",
       "<table border=\"1\" class=\"dataframe\">\n",
       "  <thead>\n",
       "    <tr style=\"text-align: right;\">\n",
       "      <th></th>\n",
       "      <th>zipcode</th>\n",
       "    </tr>\n",
       "  </thead>\n",
       "  <tbody>\n",
       "    <tr>\n",
       "      <th>0</th>\n",
       "      <td>75032</td>\n",
       "    </tr>\n",
       "    <tr>\n",
       "      <th>1</th>\n",
       "      <td>75039</td>\n",
       "    </tr>\n",
       "    <tr>\n",
       "      <th>2</th>\n",
       "      <td>75041</td>\n",
       "    </tr>\n",
       "    <tr>\n",
       "      <th>3</th>\n",
       "      <td>75060</td>\n",
       "    </tr>\n",
       "    <tr>\n",
       "      <th>4</th>\n",
       "      <td>75061</td>\n",
       "    </tr>\n",
       "    <tr>\n",
       "      <th>...</th>\n",
       "      <td>...</td>\n",
       "    </tr>\n",
       "    <tr>\n",
       "      <th>57</th>\n",
       "      <td>75247</td>\n",
       "    </tr>\n",
       "    <tr>\n",
       "      <th>58</th>\n",
       "      <td>75251</td>\n",
       "    </tr>\n",
       "    <tr>\n",
       "      <th>59</th>\n",
       "      <td>75252</td>\n",
       "    </tr>\n",
       "    <tr>\n",
       "      <th>60</th>\n",
       "      <td>75270</td>\n",
       "    </tr>\n",
       "    <tr>\n",
       "      <th>61</th>\n",
       "      <td>75390</td>\n",
       "    </tr>\n",
       "  </tbody>\n",
       "</table>\n",
       "<p>62 rows × 1 columns</p>\n",
       "</div>"
      ],
      "text/plain": [
       "   zipcode\n",
       "0    75032\n",
       "1    75039\n",
       "2    75041\n",
       "3    75060\n",
       "4    75061\n",
       "..     ...\n",
       "57   75247\n",
       "58   75251\n",
       "59   75252\n",
       "60   75270\n",
       "61   75390\n",
       "\n",
       "[62 rows x 1 columns]"
      ]
     },
     "execution_count": 2,
     "metadata": {},
     "output_type": "execute_result"
    }
   ],
   "source": [
    "# read in Dallas zip csv\n",
    "dallas_zips = pd.read_csv(\"./Resources/dallas_zipcodes.csv\")\n",
    "# drop last line (citation)\n",
    "dallas_zips.drop(dallas_zips.tail(1).index,inplace=True)\n",
    "#rename column header\n",
    "dallas_zips = dallas_zips.rename(columns={\"Dallas\":\"zipcode\"})\n",
    "dallas_zips"
   ]
  },
  {
   "cell_type": "code",
   "execution_count": null,
   "metadata": {},
   "outputs": [],
   "source": [
    "#dallas_coords = \"32.779167, -96.808891\""
   ]
  },
  {
   "cell_type": "markdown",
   "metadata": {},
   "source": [
    "*Each Yelp API call will return max 50 results.  Therefore, I will do a separate query for each ethnicity, create a list of each json dictionary & append to create a \"master\" dataframe"
   ]
  },
  {
   "cell_type": "code",
   "execution_count": 3,
   "metadata": {},
   "outputs": [
    {
     "name": "stdout",
     "output_type": "stream",
     "text": [
      "99\n"
     ]
    }
   ],
   "source": [
    "# type/ethnicity of food is stored in yelp API under \"categories:alias -- MUST BE ONE WORD!\"\n",
    "#ethnicity = ['chinese','french','greek','indian','italian','japanese','brazilian','mexican','new american','soul food','thai']\n",
    "# YELP base URL\n",
    "endpoint = 'https://api.yelp.com/v3/businesses/search'\n",
    "headers = {'Authorization': 'Bearer %s' % yelp_api}\n",
    "params = {\"term\": \"restaurants\", \"location\": \"dallas\", \"limit\": 50, \"categories\": \"chinese\"}\n",
    "#max results per call is 50, so add offset param (\"offset\" = 50, 100, etc.) to get full list per ethnicity\n",
    "#\"limit\": 50\n",
    "\n",
    "# Pretty Print the output of JSON data\n",
    "chinese1_response = requests.get(url=endpoint, headers=headers, params=params).json()\n",
    "chinese1_response[\"Ethnicity\"]=\"chinese\"\n",
    "print(chinese1_response[\"total\"])\n",
    "#print(json.dumps(chinese1_response, indent=4, sort_keys=True))\n",
    "\n"
   ]
  },
  {
   "cell_type": "code",
   "execution_count": 4,
   "metadata": {},
   "outputs": [],
   "source": [
    "# type/ethnicity of food is stored in yelp API under \"categories:alias -- MUST BE ONE WORD!\"\n",
    "#ethnicity = ['chinese','french','greek','indian','italian','japanese','brazilian','mexican','new american','soul food','thai']\n",
    "\n",
    "# YELP base URL\n",
    "endpoint = 'https://api.yelp.com/v3/businesses/search'\n",
    "headers = {'Authorization': 'Bearer %s' % yelp_api}\n",
    "params = {\"term\": \"restaurants\", \"location\": \"dallas\", \"limit\": 50,  \"offset\": 50, \"categories\": \"chinese\"}\n",
    "#max results per call is 50, so add offset param (\"offset\": 50, 100, etc.) to get full list per ethnicity\n",
    "#\"limit\": 50\n",
    "\n",
    "# Pretty Print the output of JSON data\n",
    "chinese2_response = requests.get(url=endpoint, headers=headers, params=params).json()\n",
    "chinese2_response[\"Ethnicity\"]=\"chinese\"\n",
    "#print(chinese2_response[\"total\"])\n",
    "#print(json.dumps(chinese2_response, indent=4, sort_keys=True))"
   ]
  },
  {
   "cell_type": "code",
   "execution_count": 35,
   "metadata": {},
   "outputs": [
    {
     "name": "stdout",
     "output_type": "stream",
     "text": [
      "18\n"
     ]
    }
   ],
   "source": [
    "dallas_coords = \"32.779167, -96.808891\"\n",
    "# type/ethnicity of food is stored in yelp API under \"categories:alias -- MUST BE ONE WORD!\"\n",
    "ethnicity = ['chinese','french','greek','indian','italian','japanese','brazilian','mexican','new american','soul food','thai']\n",
    "# YELP base URL\n",
    "endpoint = 'https://api.yelp.com/v3/businesses/search'\n",
    "headers = {'Authorization': 'Bearer %s' % yelp_api}\n",
    "params = {\"term\": \"restaurants\", \"location\": \"dallas\", \"limit\": 50, \"categories\": \"french\"}\n",
    "#max results per call is 50, so add offset param (\"offset\" = 50, 100, etc.) to get full list per ethnicity\n",
    "#\"limit\": 50\n",
    "\n",
    "# Pretty Print the output of JSON data\n",
    "french_response = requests.get(url=endpoint, headers=headers, params=params).json()\n",
    "french_response[\"Ethnicity\"]=\"french\"\n",
    "print(french_response[\"total\"])\n",
    "#print(json.dumps(french_response, indent=4, sort_keys=True))"
   ]
  },
  {
   "cell_type": "code",
   "execution_count": 5,
   "metadata": {},
   "outputs": [
    {
     "name": "stdout",
     "output_type": "stream",
     "text": [
      "24\n"
     ]
    }
   ],
   "source": [
    "# type/ethnicity of food is stored in yelp API under \"categories:alias -- MUST BE ONE WORD!\"\n",
    "# ethnicity = ['chinese','french','greek','indian','italian','japanese','brazilian','mexican','new american','soul food','thai']\n",
    "# YELP base URL\n",
    "endpoint = 'https://api.yelp.com/v3/businesses/search'\n",
    "headers = {'Authorization': 'Bearer %s' % yelp_api}\n",
    "params = {\"term\": \"restaurants\", \"location\": \"dallas\", \"limit\": 50, \"categories\": \"greek\"}\n",
    "#max results per call is 50, so add offset param (\"offset\" = 50, 100, etc.) to get full list per ethnicity\n",
    "#\"limit\": 50\n",
    "\n",
    "# Pretty Print the output of JSON data\n",
    "greek_response = requests.get(url=endpoint, headers=headers, params=params).json()\n",
    "greek_response[\"Ethnicity\"]=\"greek\"\n",
    "print(greek_response[\"total\"])\n",
    "#print(json.dumps(greek_response, indent=4, sort_keys=True))"
   ]
  },
  {
   "cell_type": "code",
   "execution_count": 6,
   "metadata": {},
   "outputs": [
    {
     "name": "stdout",
     "output_type": "stream",
     "text": [
      "13\n"
     ]
    }
   ],
   "source": [
    "# # type/ethnicity of food is stored in yelp API under \"categories:alias -- MUST BE ONE WORD!\"\n",
    "# ethnicity = ['chinese','french','greek','indian','italian','japanese','brazilian','mexican','new american','soul food','thai']\n",
    "# # YELP base URL\n",
    "endpoint = 'https://api.yelp.com/v3/businesses/search'\n",
    "headers = {'Authorization': 'Bearer %s' % yelp_api}\n",
    "params = {\"term\": \"restaurants\", \"location\": \"dallas\", \"limit\": 50, \"categories\": \"indpak\"}\n",
    "# #max results per call is 50, so add offset param (\"offset\" = 50, 100, etc.) to get full list per ethnicity\n",
    "# #\"limit\": 50\n",
    "\n",
    "# # Pretty Print the output of JSON data\n",
    "indian_response = requests.get(url=endpoint, headers=headers, params=params).json()\n",
    "indian_response[\"Ethnicity\"]=\"indian\"\n",
    "print(indian_response[\"total\"])\n",
    "# print(json.dumps(indian_response, indent=4, sort_keys=True))"
   ]
  },
  {
   "cell_type": "code",
   "execution_count": 7,
   "metadata": {},
   "outputs": [
    {
     "name": "stdout",
     "output_type": "stream",
     "text": [
      "138\n"
     ]
    }
   ],
   "source": [
    "# type/ethnicity of food is stored in yelp API under \"categories:alias -- MUST BE ONE WORD!\"\n",
    "# ethnicity = ['chinese','french','greek','indian','italian','japanese','brazilian','mexican','new american','soul food','thai']\n",
    "# YELP base URL\n",
    "endpoint = 'https://api.yelp.com/v3/businesses/search'\n",
    "headers = {'Authorization': 'Bearer %s' % yelp_api}\n",
    "params = {\"term\": \"restaurants\", \"location\": \"dallas\", \"limit\": 50, \"categories\": \"italian\"}\n",
    "#max results per call is 50, so add offset param (\"offset\" = 50, 100, etc.) to get full list per ethnicity\n",
    "#\"limit\": 50\n",
    "\n",
    "# Pretty Print the output of JSON data\n",
    "italian1_response = requests.get(url=endpoint, headers=headers, params=params).json()\n",
    "italian1_response[\"Ethnicity\"]=\"italian\"\n",
    "print(italian1_response[\"total\"])\n",
    "#print(json.dumps(italian1_response, indent=4, sort_keys=True))"
   ]
  },
  {
   "cell_type": "code",
   "execution_count": 8,
   "metadata": {},
   "outputs": [],
   "source": [
    "# type/ethnicity of food is stored in yelp API under \"categories:alias -- MUST BE ONE WORD!\"\n",
    "# ethnicity = ['chinese','french','greek','indian','italian','japanese','brazilian','mexican','new american','soul food','thai']\n",
    "# YELP base URL\n",
    "endpoint = 'https://api.yelp.com/v3/businesses/search'\n",
    "headers = {'Authorization': 'Bearer %s' % yelp_api}\n",
    "params = {\"term\": \"restaurants\", \"location\": \"dallas\", \"limit\": 50, \"offset\": 50, \"categories\": \"italian\"}\n",
    "#max results per call is 50, so add offset param (\"offset\" = 50, 100, etc.) to get full list per ethnicity\n",
    "#\"limit\": 50\n",
    "\n",
    "# Pretty Print the output of JSON data\n",
    "italian2_response = requests.get(url=endpoint, headers=headers, params=params).json()\n",
    "italian2_response[\"Ethnicity\"]=\"italian\"\n",
    "#print(italian2_response[\"total\"])\n",
    "#print(json.dumps(italian2_response, indent=4, sort_keys=True))"
   ]
  },
  {
   "cell_type": "code",
   "execution_count": 9,
   "metadata": {},
   "outputs": [],
   "source": [
    "# type/ethnicity of food is stored in yelp API under \"categories:alias -- MUST BE ONE WORD!\"\n",
    "# ethnicity = ['chinese','french','greek','indian','italian','japanese','brazilian','mexican','new american','soul food','thai']\n",
    "# YELP base URL\n",
    "endpoint = 'https://api.yelp.com/v3/businesses/search'\n",
    "headers = {'Authorization': 'Bearer %s' % yelp_api}\n",
    "params = {\"term\": \"restaurants\", \"location\": \"dallas\", \"limit\": 50, \"offset\": 100, \"categories\": \"italian\"}\n",
    "#max results per call is 50, so add offset param (\"offset\": 50, 100, etc.) to get full list per ethnicity\n",
    "#\"limit\": 50\n",
    "\n",
    "# Pretty Print the output of JSON data\n",
    "italian3_response = requests.get(url=endpoint, headers=headers, params=params).json()\n",
    "italian3_response[\"Ethnicity\"]=\"italian\"\n",
    "#print(italian3_response[\"total\"])\n",
    "#print(json.dumps(italian3_response, indent=4, sort_keys=True))"
   ]
  },
  {
   "cell_type": "code",
   "execution_count": 10,
   "metadata": {},
   "outputs": [
    {
     "name": "stdout",
     "output_type": "stream",
     "text": [
      "65\n"
     ]
    }
   ],
   "source": [
    "# type/ethnicity of food is stored in yelp API under \"categories:alias -- MUST BE ONE WORD!\"\n",
    "# ethnicity = ['chinese','french','greek','indian','italian','japanese','brazilian','mexican','new american','soul food','thai']\n",
    "# YELP base URL\n",
    "endpoint = 'https://api.yelp.com/v3/businesses/search'\n",
    "headers = {'Authorization': 'Bearer %s' % yelp_api}\n",
    "params = {\"term\": \"restaurants\", \"location\": \"dallas\", \"limit\": 50, \"categories\": \"japanese\"}\n",
    "#max results per call is 50, so add offset param (\"offset\": 50, 100, etc.) to get full list per ethnicity\n",
    "#\"limit\": 50\n",
    "\n",
    "# Pretty Print the output of JSON data\n",
    "japanese1_response = requests.get(url=endpoint, headers=headers, params=params).json()\n",
    "japanese1_response[\"Ethnicity\"]=\"japanese\"\n",
    "print(japanese1_response[\"total\"])\n",
    "#print(json.dumps(japanese_response, indent=4, sort_keys=True))"
   ]
  },
  {
   "cell_type": "code",
   "execution_count": 11,
   "metadata": {},
   "outputs": [],
   "source": [
    "# type/ethnicity of food is stored in yelp API under \"categories:alias -- MUST BE ONE WORD!\"\n",
    "# ethnicity = ['chinese','french','greek','indian','italian','japanese','brazilian','mexican','new american','soul food','thai']\n",
    "# YELP base URL\n",
    "endpoint = 'https://api.yelp.com/v3/businesses/search'\n",
    "headers = {'Authorization': 'Bearer %s' % yelp_api}\n",
    "params = {\"term\": \"restaurants\", \"location\": \"dallas\", \"limit\": 50, \"offset\": 50, \"categories\": \"japanese\"}\n",
    "#max results per call is 50, so add offset param (\"offset\": 50, 100, etc.) to get full list per ethnicity\n",
    "#\"limit\": 50\n",
    "\n",
    "# Pretty Print the output of JSON data\n",
    "japanese2_response = requests.get(url=endpoint, headers=headers, params=params).json()\n",
    "japanese2_response[\"Ethnicity\"]=\"japanese\"\n",
    "#print(japanese2_response[\"total\"])\n",
    "#print(json.dumps(japanese2_response, indent=4, sort_keys=True))"
   ]
  },
  {
   "cell_type": "code",
   "execution_count": 12,
   "metadata": {},
   "outputs": [
    {
     "name": "stdout",
     "output_type": "stream",
     "text": [
      "7\n"
     ]
    }
   ],
   "source": [
    "# type/ethnicity of food is stored in yelp API under \"categories:alias -- MUST BE ONE WORD!\"\n",
    "# ethnicity = ['chinese','french','greek','indian','italian','japanese','brazilian','mexican','new american','soul food','thai']\n",
    "# YELP base URL\n",
    "endpoint = 'https://api.yelp.com/v3/businesses/search'\n",
    "headers = {'Authorization': 'Bearer %s' % yelp_api}\n",
    "params = {\"term\": \"restaurants\", \"location\": \"dallas\", \"limit\": 50, \"categories\": \"brazilian\"}\n",
    "#max results per call is 50, so add offset param (\"offset\": 50, 100, etc.) to get full list per ethnicity\n",
    "#\"limit\": 50\n",
    "\n",
    "# Pretty Print the output of JSON data\n",
    "brazilian_response = requests.get(url=endpoint, headers=headers, params=params).json()\n",
    "brazilian_response[\"Ethnicity\"]=\"brazilian\"\n",
    "print(brazilian_response[\"total\"])\n",
    "#print(json.dumps(brazilian_response, indent=4, sort_keys=True))"
   ]
  },
  {
   "cell_type": "code",
   "execution_count": 13,
   "metadata": {},
   "outputs": [
    {
     "name": "stdout",
     "output_type": "stream",
     "text": [
      "46\n"
     ]
    }
   ],
   "source": [
    "# type/ethnicity of food is stored in yelp API under \"categories:alias -- MUST BE ONE WORD!\"\n",
    "# ethnicity = ['chinese','french','greek','indian','italian','japanese','brazilian','mexican','new american','soul food','thai']\n",
    "# YELP base URL\n",
    "endpoint = 'https://api.yelp.com/v3/businesses/search'\n",
    "headers = {'Authorization': 'Bearer %s' % yelp_api}\n",
    "params = {\"term\": \"restaurants\", \"location\": \"dallas\", \"limit\": 50, \"categories\": \"thai\"}\n",
    "#max results per call is 50, so add offset param (\"offset\": 50, 100, etc.) to get full list per ethnicity\n",
    "#\"limit\": 50\n",
    "\n",
    "# Pretty Print the output of JSON data\n",
    "thai_response = requests.get(url=endpoint, headers=headers, params=params).json()\n",
    "thai_response[\"Ethnicity\"]=\"thai\"\n",
    "print(thai_response[\"total\"])\n",
    "#print(json.dumps(thai_response, indent=4, sort_keys=True))"
   ]
  },
  {
   "cell_type": "code",
   "execution_count": 14,
   "metadata": {},
   "outputs": [
    {
     "name": "stdout",
     "output_type": "stream",
     "text": [
      "585\n"
     ]
    }
   ],
   "source": [
    "# type/ethnicity of food is stored in yelp API under \"categories:alias -- MUST BE ONE WORD!\"\n",
    "# ethnicity = ['chinese','french','greek','indian','italian','japanese','brazilian','mexican','new american','soul food','thai']\n",
    "# YELP base URL\n",
    "endpoint = 'https://api.yelp.com/v3/businesses/search'\n",
    "headers = {'Authorization': 'Bearer %s' % yelp_api}\n",
    "params = {\"term\": \"restaurants\", \"location\": \"dallas\", \"limit\": 50, \"categories\": \"mexican\"}\n",
    "#max results per call is 50, so add offset param (\"offset\": 50, 100, etc.) to get full list per ethnicity\n",
    "#\"limit\": 50\n",
    "\n",
    "# Pretty Print the output of JSON data\n",
    "mexican1_response = requests.get(url=endpoint, headers=headers, params=params).json()\n",
    "mexican1_response[\"Ethnicity\"]=\"mexican\"\n",
    "print(mexican1_response[\"total\"])\n",
    "#print(json.dumps(mexican1_response, indent=4, sort_keys=True))"
   ]
  },
  {
   "cell_type": "code",
   "execution_count": 15,
   "metadata": {},
   "outputs": [],
   "source": [
    "# type/ethnicity of food is stored in yelp API under \"categories:alias -- MUST BE ONE WORD!\"\n",
    "# ethnicity = ['chinese','french','greek','indian','italian','japanese','brazilian','mexican','new american','soul food','thai']\n",
    "# YELP base URL\n",
    "endpoint = 'https://api.yelp.com/v3/businesses/search'\n",
    "headers = {'Authorization': 'Bearer %s' % yelp_api}\n",
    "params = {\"term\": \"restaurants\", \"location\": \"dallas\", \"limit\": 50, \"offset\": 50, \"categories\": \"mexican\"}\n",
    "#max results per call is 50, so add offset param (\"offset\": 50, 100, etc.) to get full list per ethnicity\n",
    "#\"limit\": 50\n",
    "\n",
    "# Pretty Print the output of JSON data\n",
    "mexican2_response = requests.get(url=endpoint, headers=headers, params=params).json()\n",
    "mexican2_response[\"Ethnicity\"]=\"mexican\"\n",
    "#print(mexican2_response[\"total\"])\n",
    "#print(json.dumps(mexican2_response, indent=4, sort_keys=True))"
   ]
  },
  {
   "cell_type": "code",
   "execution_count": 16,
   "metadata": {},
   "outputs": [],
   "source": [
    "# type/ethnicity of food is stored in yelp API under \"categories:alias -- MUST BE ONE WORD!\"\n",
    "# ethnicity = ['chinese','french','greek','indian','italian','japanese','brazilian','mexican','new american','soul food','thai']\n",
    "# YELP base URL\n",
    "endpoint = 'https://api.yelp.com/v3/businesses/search'\n",
    "headers = {'Authorization': 'Bearer %s' % yelp_api}\n",
    "params = {\"term\": \"restaurants\", \"location\": \"dallas\", \"limit\": 50, \"offset\": 100, \"categories\": \"mexican\"}\n",
    "#max results per call is 50, so add offset param (\"offset\": 50, 100, etc.) to get full list per ethnicity\n",
    "#\"limit\": 50\n",
    "\n",
    "# Pretty Print the output of JSON data\n",
    "mexican3_response = requests.get(url=endpoint, headers=headers, params=params).json()\n",
    "mexican3_response[\"Ethnicity\"]=\"mexican\"\n",
    "#print(mexican3_response[\"total\"])\n",
    "#print(json.dumps(mexican3_response, indent=4, sort_keys=True))"
   ]
  },
  {
   "cell_type": "code",
   "execution_count": 17,
   "metadata": {},
   "outputs": [],
   "source": [
    "# type/ethnicity of food is stored in yelp API under \"categories:alias -- MUST BE ONE WORD!\"\n",
    "# ethnicity = ['chinese','french','greek','indian','italian','japanese','brazilian','mexican','new american','soul food','thai']\n",
    "# YELP base URL\n",
    "endpoint = 'https://api.yelp.com/v3/businesses/search'\n",
    "headers = {'Authorization': 'Bearer %s' % yelp_api}\n",
    "params = {\"term\": \"restaurants\", \"location\": \"dallas\", \"limit\": 50, \"offset\": 150, \"categories\": \"mexican\"}\n",
    "#max results per call is 50, so add offset param (\"offset\": 50, 100, etc.) to get full list per ethnicity\n",
    "#\"limit\": 50\n",
    "\n",
    "# Pretty Print the output of JSON data\n",
    "mexican4_response = requests.get(url=endpoint, headers=headers, params=params).json()\n",
    "mexican4_response[\"Ethnicity\"]=\"mexican\"\n",
    "#print(mexican4_response[\"total\"])\n",
    "#print(json.dumps(mexican4_response, indent=4, sort_keys=True))"
   ]
  },
  {
   "cell_type": "code",
   "execution_count": 18,
   "metadata": {},
   "outputs": [],
   "source": [
    "# type/ethnicity of food is stored in yelp API under \"categories:alias -- MUST BE ONE WORD!\"\n",
    "ethnicity = ['chinese','french','greek','indian','italian','japanese','brazilian','mexican','new american','soul food','thai']\n",
    "# YELP base URL\n",
    "endpoint = 'https://api.yelp.com/v3/businesses/search'\n",
    "headers = {'Authorization': 'Bearer %s' % yelp_api}\n",
    "params = {\"term\": \"restaurants\", \"location\": \"dallas\", \"limit\": 50, \"offset\": 200, \"categories\": \"mexican\"}\n",
    "#max results per call is 50, so add offset param (\"offset\": 50, 100, etc.) to get full list per ethnicity\n",
    "#\"limit\": 50\n",
    "\n",
    "# Pretty Print the output of JSON data\n",
    "mexican5_response = requests.get(url=endpoint, headers=headers, params=params).json()\n",
    "mexican5_response[\"Ethnicity\"]=\"mexican\"\n",
    "#print(mexican5_response[\"total\"])\n",
    "#print(json.dumps(mexican5_response, indent=4, sort_keys=True))"
   ]
  },
  {
   "cell_type": "code",
   "execution_count": 19,
   "metadata": {},
   "outputs": [],
   "source": [
    "# type/ethnicity of food is stored in yelp API under \"categories:alias -- MUST BE ONE WORD!\"\n",
    "ethnicity = ['chinese','french','greek','indian','italian','japanese','brazilian','mexican','new american','soul food','thai']\n",
    "# YELP base URL\n",
    "endpoint = 'https://api.yelp.com/v3/businesses/search'\n",
    "headers = {'Authorization': 'Bearer %s' % yelp_api}\n",
    "params = {\"term\": \"restaurants\", \"location\": \"dallas\", \"limit\": 50, \"offset\": 250, \"categories\": \"mexican\"}\n",
    "#max results per call is 50, so add offset param (\"offset\": 50, 100, etc.) to get full list per ethnicity\n",
    "#\"limit\": 50\n",
    "\n",
    "# Pretty Print the output of JSON data\n",
    "mexican6_response = requests.get(url=endpoint, headers=headers, params=params).json()\n",
    "mexican6_response[\"Ethnicity\"]=\"mexican\"\n",
    "#print(mexican6_response[\"total\"])\n",
    "#print(json.dumps(mexican6_response, indent=4, sort_keys=True))"
   ]
  },
  {
   "cell_type": "code",
   "execution_count": 20,
   "metadata": {},
   "outputs": [],
   "source": [
    "# type/ethnicity of food is stored in yelp API under \"categories:alias -- MUST BE ONE WORD!\"\n",
    "ethnicity = ['chinese','french','greek','indian','italian','japanese','brazilian','mexican','new american','soul food','thai']\n",
    "# YELP base URL\n",
    "endpoint = 'https://api.yelp.com/v3/businesses/search'\n",
    "headers = {'Authorization': 'Bearer %s' % yelp_api}\n",
    "params = {\"term\": \"restaurants\", \"location\": \"dallas\", \"limit\": 50, \"offset\": 300, \"categories\": \"mexican\"}\n",
    "#max results per call is 50, so add offset param (\"offset\": 50, 100, etc.) to get full list per ethnicity\n",
    "#\"limit\": 50\n",
    "\n",
    "# Pretty Print the output of JSON data\n",
    "mexican7_response = requests.get(url=endpoint, headers=headers, params=params).json()\n",
    "mexican7_response[\"Ethnicity\"]=\"mexican\"\n",
    "#print(mexican7_response[\"total\"])\n",
    "#print(json.dumps(mexican7_response, indent=4, sort_keys=True))"
   ]
  },
  {
   "cell_type": "code",
   "execution_count": 21,
   "metadata": {},
   "outputs": [],
   "source": [
    "# type/ethnicity of food is stored in yelp API under \"categories:alias -- MUST BE ONE WORD!\"\n",
    "ethnicity = ['chinese','french','greek','indian','italian','japanese','brazilian','mexican','new american','soul food','thai']\n",
    "# YELP base URL\n",
    "endpoint = 'https://api.yelp.com/v3/businesses/search'\n",
    "headers = {'Authorization': 'Bearer %s' % yelp_api}\n",
    "params = {\"term\": \"restaurants\", \"location\": \"dallas\", \"limit\": 50, \"offset\": 350, \"categories\": \"mexican\"}\n",
    "#max results per call is 50, so add offset param (\"offset\": 50, 100, etc.) to get full list per ethnicity\n",
    "#\"limit\": 50\n",
    "\n",
    "# Pretty Print the output of JSON data\n",
    "mexican8_response = requests.get(url=endpoint, headers=headers, params=params).json()\n",
    "mexican8_response[\"Ethnicity\"]=\"mexican\"\n",
    "#print(mexican8_response[\"total\"])\n",
    "#print(json.dumps(mexican8_response, indent=4, sort_keys=True))"
   ]
  },
  {
   "cell_type": "code",
   "execution_count": 22,
   "metadata": {},
   "outputs": [],
   "source": [
    "# type/ethnicity of food is stored in yelp API under \"categories:alias -- MUST BE ONE WORD!\"\n",
    "ethnicity = ['chinese','french','greek','indian','italian','japanese','brazilian','mexican','new american','soul food','thai']\n",
    "# YELP base URL\n",
    "endpoint = 'https://api.yelp.com/v3/businesses/search'\n",
    "headers = {'Authorization': 'Bearer %s' % yelp_api}\n",
    "params = {\"term\": \"restaurants\", \"location\": \"dallas\", \"limit\": 50, \"offset\": 400, \"categories\": \"mexican\"}\n",
    "#max results per call is 50, so add offset param (\"offset\": 50, 100, etc.) to get full list per ethnicity\n",
    "#\"limit\": 50\n",
    "\n",
    "# Pretty Print the output of JSON data\n",
    "mexican9_response = requests.get(url=endpoint, headers=headers, params=params).json()\n",
    "mexican9_response[\"Ethnicity\"]=\"mexican\"\n",
    "#print(mexican9_response[\"total\"])\n",
    "#print(json.dumps(mexican9_response, indent=4, sort_keys=True))"
   ]
  },
  {
   "cell_type": "code",
   "execution_count": 23,
   "metadata": {},
   "outputs": [],
   "source": [
    "# type/ethnicity of food is stored in yelp API under \"categories:alias -- MUST BE ONE WORD!\"\n",
    "ethnicity = ['chinese','french','greek','indian','italian','japanese','brazilian','mexican','new american','soul food','thai']\n",
    "# YELP base URL\n",
    "endpoint = 'https://api.yelp.com/v3/businesses/search'\n",
    "headers = {'Authorization': 'Bearer %s' % yelp_api}\n",
    "params = {\"term\": \"restaurants\", \"location\": \"dallas\", \"limit\": 50, \"offset\": 450, \"categories\": \"mexican\"}\n",
    "#max results per call is 50, so add offset param (\"offset\": 50, 100, etc.) to get full list per ethnicity\n",
    "#\"limit\": 50\n",
    "\n",
    "# Pretty Print the output of JSON data\n",
    "mexican10_response = requests.get(url=endpoint, headers=headers, params=params).json()\n",
    "mexican10_response[\"Ethnicity\"]=\"mexican\"\n",
    "#print(mexican10_response[\"total\"])\n",
    "#print(json.dumps(mexican10_response, indent=4, sort_keys=True))"
   ]
  },
  {
   "cell_type": "code",
   "execution_count": 28,
   "metadata": {},
   "outputs": [],
   "source": [
    "# type/ethnicity of food is stored in yelp API under \"categories:alias -- MUST BE ONE WORD!\"\n",
    "ethnicity = ['chinese','french','greek','indian','italian','japanese','brazilian','mexican','new american','soul food','thai']\n",
    "# YELP base URL\n",
    "endpoint = 'https://api.yelp.com/v3/businesses/search'\n",
    "headers = {'Authorization': 'Bearer %s' % yelp_api}\n",
    "params = {\"term\": \"restaurants\", \"location\": \"dallas\", \"limit\": 50, \"offset\": 500, \"categories\": \"mexican\"}\n",
    "#max results per call is 50, so add offset param (\"offset\": 50, 100, etc.) to get full list per ethnicity\n",
    "#\"limit\": 50\n",
    "\n",
    "# Pretty Print the output of JSON data\n",
    "mexican11_response = requests.get(url=endpoint, headers=headers, params=params).json()\n",
    "mexican11_response[\"Ethnicity\"]=\"mexican\"\n",
    "#print(mexican11_response[\"total\"])\n",
    "#print(json.dumps(mexican11_response, indent=4, sort_keys=True))"
   ]
  },
  {
   "cell_type": "code",
   "execution_count": 29,
   "metadata": {},
   "outputs": [
    {
     "name": "stdout",
     "output_type": "stream",
     "text": [
      "13\n"
     ]
    }
   ],
   "source": [
    "# type/ethnicity of food is stored in yelp API under \"categories:alias -- MUST BE ONE WORD!\"\n",
    "ethnicity = ['chinese','french','greek','indian','italian','japanese','brazilian','mexican','new american','soul food','thai']\n",
    "# YELP base URL\n",
    "endpoint = 'https://api.yelp.com/v3/businesses/search'\n",
    "headers = {'Authorization': 'Bearer %s' % yelp_api}\n",
    "params = {\"term\": \"restaurants\", \"location\": \"dallas\", \"limit\": 50, \"categories\": \"soulfood\"}\n",
    "#max results per call is 50, so add offset param (\"offset\": 50, 100, etc.) to get full list per ethnicity\n",
    "#\"limit\": 50\n",
    "\n",
    "# Pretty Print the output of JSON data\n",
    "soulfood_response = requests.get(url=endpoint, headers=headers, params=params).json()\n",
    "soulfood_response[\"Ethnicity\"]=\"soulfood\"\n",
    "print(soulfood_response[\"total\"])\n",
    "#print(json.dumps(soulfood_response, indent=4, sort_keys=True))"
   ]
  },
  {
   "cell_type": "code",
   "execution_count": 30,
   "metadata": {},
   "outputs": [
    {
     "name": "stdout",
     "output_type": "stream",
     "text": [
      "168\n"
     ]
    }
   ],
   "source": [
    "# type/ethnicity of food is stored in yelp API under \"categories:alias -- MUST BE ONE WORD!\"\n",
    "ethnicity = ['chinese','french','greek','indian','italian','japanese','brazilian','mexican','new american','soul food','thai']\n",
    "# YELP base URL\n",
    "endpoint = 'https://api.yelp.com/v3/businesses/search'\n",
    "headers = {'Authorization': 'Bearer %s' % yelp_api}\n",
    "params = {\"term\": \"restaurants\", \"location\": \"dallas\", \"limit\": 50, \"categories\": \"newamerican\"}\n",
    "#max results per call is 50, so add offset param (\"offset\": 50, 100, etc.) to get full list per ethnicity\n",
    "#\"limit\": 50\n",
    "\n",
    "# Pretty Print the output of JSON data\n",
    "newamerican1_response = requests.get(url=endpoint, headers=headers, params=params).json()\n",
    "newamerican1_response[\"Ethnicity\"]=\"new_american\"\n",
    "print(newamerican1_response[\"total\"])\n",
    "#print(json.dumps(newamerican1_response, indent=4, sort_keys=True))"
   ]
  },
  {
   "cell_type": "code",
   "execution_count": 31,
   "metadata": {},
   "outputs": [],
   "source": [
    "# type/ethnicity of food is stored in yelp API under \"categories:alias -- MUST BE ONE WORD!\"\n",
    "ethnicity = ['chinese','french','greek','indian','italian','japanese','brazilian','mexican','new american','soul food','thai']\n",
    "# YELP base URL\n",
    "endpoint = 'https://api.yelp.com/v3/businesses/search'\n",
    "headers = {'Authorization': 'Bearer %s' % yelp_api}\n",
    "params = {\"term\": \"restaurants\", \"location\": \"dallas\", \"limit\": 50, \"offset\": 50, \"categories\": \"newamerican\"}\n",
    "#max results per call is 50, so add offset param (\"offset\": 50, 100, etc.) to get full list per ethnicity\n",
    "#\"limit\": 50\n",
    "\n",
    "# Pretty Print the output of JSON data\n",
    "newamerican2_response = requests.get(url=endpoint, headers=headers, params=params).json()\n",
    "newamerican2_response[\"Ethnicity\"]=\"new_american\"\n",
    "#print(newamerican2_response[\"total\"])\n",
    "#print(json.dumps(newamerican2_response, indent=4, sort_keys=True))"
   ]
  },
  {
   "cell_type": "code",
   "execution_count": 32,
   "metadata": {},
   "outputs": [],
   "source": [
    "# type/ethnicity of food is stored in yelp API under \"categories:alias -- MUST BE ONE WORD!\"\n",
    "ethnicity = ['chinese','french','greek','indian','italian','japanese','brazilian','mexican','new american','soul food','thai']\n",
    "# YELP base URL\n",
    "endpoint = 'https://api.yelp.com/v3/businesses/search'\n",
    "headers = {'Authorization': 'Bearer %s' % yelp_api}\n",
    "params = {\"term\": \"restaurants\", \"location\": \"dallas\", \"limit\": 50, \"offset\": 100, \"categories\": \"newamerican\"}\n",
    "#max results per call is 50, so add offset param (\"offset\": 50, 100, etc.) to get full list per ethnicity\n",
    "#\"limit\": 50\n",
    "\n",
    "# Pretty Print the output of JSON data\n",
    "newamerican3_response = requests.get(url=endpoint, headers=headers, params=params).json()\n",
    "newamerican3_response[\"Ethnicity\"]=\"new_american\"\n",
    "#print(newamerican3_response[\"total\"])\n",
    "#print(json.dumps(newamerican3_response, indent=4, sort_keys=True))"
   ]
  },
  {
   "cell_type": "code",
   "execution_count": 33,
   "metadata": {},
   "outputs": [],
   "source": [
    "# type/ethnicity of food is stored in yelp API under \"categories:alias -- MUST BE ONE WORD!\"\n",
    "ethnicity = ['chinese','french','greek','indian','italian','japanese','brazilian','mexican','new american','soul food','thai']\n",
    "# YELP base URL\n",
    "endpoint = 'https://api.yelp.com/v3/businesses/search'\n",
    "headers = {'Authorization': 'Bearer %s' % yelp_api}\n",
    "params = {\"term\": \"restaurants\", \"location\": \"dallas\", \"limit\": 50, \"offset\": 150, \"categories\": \"newamerican\"}\n",
    "#max results per call is 50, so add offset param (\"offset\": 50, 100, etc.) to get full list per ethnicity\n",
    "#\"limit\": 50\n",
    "\n",
    "# Pretty Print the output of JSON data\n",
    "newamerican4_response = requests.get(url=endpoint, headers=headers, params=params).json()\n",
    "newamerican4_response[\"Ethnicity\"]=\"new_american\"\n",
    "#print(newamerican4_response[\"total\"])\n",
    "#print(json.dumps(newamerican4_response, indent=4, sort_keys=True))"
   ]
  },
  {
   "cell_type": "code",
   "execution_count": 36,
   "metadata": {
    "scrolled": false
   },
   "outputs": [],
   "source": [
    "# list of json response dictionaries\n",
    "dallas_yelp = [chinese1_response, \n",
    "               chinese2_response, \n",
    "               french_response, \n",
    "               greek_response, \n",
    "               indian_response, \n",
    "               italian1_response, \n",
    "               italian2_response, \n",
    "               italian3_response, \n",
    "               japanese1_response, \n",
    "               japanese2_response, \n",
    "               brazilian_response,\n",
    "               thai_response, \n",
    "               soulfood_response, \n",
    "               newamerican1_response,\n",
    "               newamerican2_response,\n",
    "               newamerican3_response, \n",
    "               newamerican4_response,\n",
    "               mexican1_response,\n",
    "               mexican2_response,\n",
    "               mexican3_response,\n",
    "               mexican4_response,\n",
    "               mexican5_response, \n",
    "               mexican6_response,\n",
    "               mexican7_response,\n",
    "               mexican8_response,\n",
    "               mexican9_response,\n",
    "               mexican10_response, \n",
    "               mexican11_response]\n",
    "#dallas_yelp"
   ]
  },
  {
   "cell_type": "code",
   "execution_count": 37,
   "metadata": {
    "scrolled": true
   },
   "outputs": [],
   "source": [
    "# create empty lists for data\n",
    "name = []\n",
    "city = []\n",
    "latitude = []\n",
    "longitude = []\n",
    "zipcode = []\n",
    "ethnicity = []\n",
    "price = []\n",
    "rating = []\n",
    "\n",
    "for i in range(len(dallas_yelp)):\n",
    "    for j in range(len(dallas_yelp[i]['businesses'])):\n",
    "        name.append(dallas_yelp[i][\"businesses\"][j][\"name\"])\n",
    "        city.append(\"Dallas\")\n",
    "        latitude.append(dallas_yelp[i][\"businesses\"][j][\"coordinates\"][\"latitude\"])\n",
    "        longitude.append(dallas_yelp[i][\"businesses\"][j][\"coordinates\"][\"longitude\"])\n",
    "        zipcode.append(dallas_yelp[i][\"businesses\"][j][\"location\"][\"zip_code\"])\n",
    "        ethnicity.append((dallas_yelp[i]['Ethnicity']))\n",
    "        try:\n",
    "            price.append(dallas_yelp[i][\"businesses\"][j][\"price\"])\n",
    "        except KeyError:\n",
    "            price.append(\"N/A\")\n",
    "        rating.append(dallas_yelp[i][\"businesses\"][j][\"rating\"])"
   ]
  },
  {
   "cell_type": "code",
   "execution_count": 38,
   "metadata": {},
   "outputs": [
    {
     "name": "stdout",
     "output_type": "stream",
     "text": [
      "1141\n",
      "1141\n",
      "1141\n",
      "1141\n",
      "1141\n",
      "1141\n"
     ]
    }
   ],
   "source": [
    "print(len(name))\n",
    "print(len(city))\n",
    "print(len(latitude))\n",
    "print(len(longitude))\n",
    "print(len(zipcode))\n",
    "print(len(rating))"
   ]
  },
  {
   "cell_type": "code",
   "execution_count": 39,
   "metadata": {},
   "outputs": [],
   "source": [
    "# create dictionary for restaurant data\n",
    "restaurant_dict = {\n",
    "    \"name\": name,\n",
    "    \"city\": city,\n",
    "    \"latitude\": latitude,\n",
    "    \"longitude\": longitude,\n",
    "    \"zipcode\": zipcode,\n",
    "    \"ethnicity\": ethnicity,\n",
    "    \"price\": price,\n",
    "    \"rating\": rating}"
   ]
  },
  {
   "cell_type": "code",
   "execution_count": 40,
   "metadata": {},
   "outputs": [
    {
     "data": {
      "text/html": [
       "<div>\n",
       "<style scoped>\n",
       "    .dataframe tbody tr th:only-of-type {\n",
       "        vertical-align: middle;\n",
       "    }\n",
       "\n",
       "    .dataframe tbody tr th {\n",
       "        vertical-align: top;\n",
       "    }\n",
       "\n",
       "    .dataframe thead th {\n",
       "        text-align: right;\n",
       "    }\n",
       "</style>\n",
       "<table border=\"1\" class=\"dataframe\">\n",
       "  <thead>\n",
       "    <tr style=\"text-align: right;\">\n",
       "      <th></th>\n",
       "      <th>name</th>\n",
       "      <th>city</th>\n",
       "      <th>latitude</th>\n",
       "      <th>longitude</th>\n",
       "      <th>zipcode</th>\n",
       "      <th>ethnicity</th>\n",
       "      <th>price</th>\n",
       "      <th>rating</th>\n",
       "    </tr>\n",
       "  </thead>\n",
       "  <tbody>\n",
       "    <tr>\n",
       "      <th>0</th>\n",
       "      <td>Jia Modern Chinese &amp; Asian Lounge</td>\n",
       "      <td>Dallas</td>\n",
       "      <td>32.864950</td>\n",
       "      <td>-96.804740</td>\n",
       "      <td>75225</td>\n",
       "      <td>chinese</td>\n",
       "      <td>$$</td>\n",
       "      <td>4.0</td>\n",
       "    </tr>\n",
       "    <tr>\n",
       "      <th>1</th>\n",
       "      <td>Szechuan Chinese Restaurant</td>\n",
       "      <td>Dallas</td>\n",
       "      <td>32.818150</td>\n",
       "      <td>-96.813430</td>\n",
       "      <td>75219</td>\n",
       "      <td>chinese</td>\n",
       "      <td>$</td>\n",
       "      <td>4.0</td>\n",
       "    </tr>\n",
       "    <tr>\n",
       "      <th>2</th>\n",
       "      <td>Sum Dang Good Chinese</td>\n",
       "      <td>Dallas</td>\n",
       "      <td>32.779323</td>\n",
       "      <td>-96.828615</td>\n",
       "      <td>75212</td>\n",
       "      <td>chinese</td>\n",
       "      <td>N/A</td>\n",
       "      <td>4.0</td>\n",
       "    </tr>\n",
       "    <tr>\n",
       "      <th>3</th>\n",
       "      <td>Hello Dumpling</td>\n",
       "      <td>Dallas</td>\n",
       "      <td>32.839650</td>\n",
       "      <td>-96.696860</td>\n",
       "      <td>75218</td>\n",
       "      <td>chinese</td>\n",
       "      <td>$$</td>\n",
       "      <td>4.5</td>\n",
       "    </tr>\n",
       "    <tr>\n",
       "      <th>4</th>\n",
       "      <td>Monkey King Noodle Company</td>\n",
       "      <td>Dallas</td>\n",
       "      <td>32.784737</td>\n",
       "      <td>-96.781062</td>\n",
       "      <td>75226</td>\n",
       "      <td>chinese</td>\n",
       "      <td>$$</td>\n",
       "      <td>3.5</td>\n",
       "    </tr>\n",
       "    <tr>\n",
       "      <th>...</th>\n",
       "      <td>...</td>\n",
       "      <td>...</td>\n",
       "      <td>...</td>\n",
       "      <td>...</td>\n",
       "      <td>...</td>\n",
       "      <td>...</td>\n",
       "      <td>...</td>\n",
       "      <td>...</td>\n",
       "    </tr>\n",
       "    <tr>\n",
       "      <th>1136</th>\n",
       "      <td>Taco Bell</td>\n",
       "      <td>Dallas</td>\n",
       "      <td>32.934204</td>\n",
       "      <td>-96.803799</td>\n",
       "      <td>75240</td>\n",
       "      <td>mexican</td>\n",
       "      <td>$</td>\n",
       "      <td>2.0</td>\n",
       "    </tr>\n",
       "    <tr>\n",
       "      <th>1137</th>\n",
       "      <td>Amigas Fast Food</td>\n",
       "      <td>Dallas</td>\n",
       "      <td>32.771835</td>\n",
       "      <td>-96.697858</td>\n",
       "      <td>75227</td>\n",
       "      <td>mexican</td>\n",
       "      <td>N/A</td>\n",
       "      <td>3.0</td>\n",
       "    </tr>\n",
       "    <tr>\n",
       "      <th>1138</th>\n",
       "      <td>CC Wing 'N' Taquria</td>\n",
       "      <td>Dallas</td>\n",
       "      <td>32.882860</td>\n",
       "      <td>-96.759070</td>\n",
       "      <td>75231</td>\n",
       "      <td>mexican</td>\n",
       "      <td>N/A</td>\n",
       "      <td>2.5</td>\n",
       "    </tr>\n",
       "    <tr>\n",
       "      <th>1139</th>\n",
       "      <td>Taco Bell</td>\n",
       "      <td>Dallas</td>\n",
       "      <td>32.909500</td>\n",
       "      <td>-96.856150</td>\n",
       "      <td>75229</td>\n",
       "      <td>mexican</td>\n",
       "      <td>$</td>\n",
       "      <td>1.5</td>\n",
       "    </tr>\n",
       "    <tr>\n",
       "      <th>1140</th>\n",
       "      <td>Taco Bell</td>\n",
       "      <td>Dallas</td>\n",
       "      <td>32.878723</td>\n",
       "      <td>-96.716793</td>\n",
       "      <td>75238</td>\n",
       "      <td>mexican</td>\n",
       "      <td>$</td>\n",
       "      <td>2.0</td>\n",
       "    </tr>\n",
       "  </tbody>\n",
       "</table>\n",
       "<p>1141 rows × 8 columns</p>\n",
       "</div>"
      ],
      "text/plain": [
       "                                   name    city   latitude  longitude zipcode  \\\n",
       "0     Jia Modern Chinese & Asian Lounge  Dallas  32.864950 -96.804740   75225   \n",
       "1           Szechuan Chinese Restaurant  Dallas  32.818150 -96.813430   75219   \n",
       "2                 Sum Dang Good Chinese  Dallas  32.779323 -96.828615   75212   \n",
       "3                        Hello Dumpling  Dallas  32.839650 -96.696860   75218   \n",
       "4            Monkey King Noodle Company  Dallas  32.784737 -96.781062   75226   \n",
       "...                                 ...     ...        ...        ...     ...   \n",
       "1136                          Taco Bell  Dallas  32.934204 -96.803799   75240   \n",
       "1137                   Amigas Fast Food  Dallas  32.771835 -96.697858   75227   \n",
       "1138                CC Wing 'N' Taquria  Dallas  32.882860 -96.759070   75231   \n",
       "1139                          Taco Bell  Dallas  32.909500 -96.856150   75229   \n",
       "1140                          Taco Bell  Dallas  32.878723 -96.716793   75238   \n",
       "\n",
       "     ethnicity price  rating  \n",
       "0      chinese    $$     4.0  \n",
       "1      chinese     $     4.0  \n",
       "2      chinese   N/A     4.0  \n",
       "3      chinese    $$     4.5  \n",
       "4      chinese    $$     3.5  \n",
       "...        ...   ...     ...  \n",
       "1136   mexican     $     2.0  \n",
       "1137   mexican   N/A     3.0  \n",
       "1138   mexican   N/A     2.5  \n",
       "1139   mexican     $     1.5  \n",
       "1140   mexican     $     2.0  \n",
       "\n",
       "[1141 rows x 8 columns]"
      ]
     },
     "execution_count": 40,
     "metadata": {},
     "output_type": "execute_result"
    }
   ],
   "source": [
    "# create dataframe from dictionary data\n",
    "dallas_restaurants = pd.DataFrame(restaurant_dict)\n",
    "dallas_restaurants"
   ]
  },
  {
   "cell_type": "code",
   "execution_count": 41,
   "metadata": {},
   "outputs": [],
   "source": [
    "# export to CSV\n",
    "dallas_restaurants.to_csv('./Output/Data/dallas_restaurants.csv', index=None, header=True)"
   ]
  },
  {
   "cell_type": "code",
   "execution_count": null,
   "metadata": {},
   "outputs": [],
   "source": []
  }
 ],
 "metadata": {
  "kernelspec": {
   "display_name": "Python [conda env:PythonData] *",
   "language": "python",
   "name": "conda-env-PythonData-py"
  },
  "language_info": {
   "codemirror_mode": {
    "name": "ipython",
    "version": 3
   },
   "file_extension": ".py",
   "mimetype": "text/x-python",
   "name": "python",
   "nbconvert_exporter": "python",
   "pygments_lexer": "ipython3",
   "version": "3.6.10"
  }
 },
 "nbformat": 4,
 "nbformat_minor": 4
}
