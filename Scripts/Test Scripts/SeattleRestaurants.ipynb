{
 "cells": [
  {
   "cell_type": "code",
   "execution_count": 1,
   "metadata": {},
   "outputs": [],
   "source": [
    "#Dependencies & setup\n",
    "import pandas as pd\n",
    "import numpy as np\n",
    "import matplotlib.pyplot as plt\n",
    "import requests\n",
    "import gmaps\n",
    "import os\n",
    "import json\n",
    "import pprint\n",
    "\n",
    "#Import yelp API key\n",
    "from config import yelp_api\n"
   ]
  },
  {
   "cell_type": "code",
   "execution_count": 2,
   "metadata": {},
   "outputs": [
    {
     "data": {
      "text/html": [
       "<div>\n",
       "<style scoped>\n",
       "    .dataframe tbody tr th:only-of-type {\n",
       "        vertical-align: middle;\n",
       "    }\n",
       "\n",
       "    .dataframe tbody tr th {\n",
       "        vertical-align: top;\n",
       "    }\n",
       "\n",
       "    .dataframe thead th {\n",
       "        text-align: right;\n",
       "    }\n",
       "</style>\n",
       "<table border=\"1\" class=\"dataframe\">\n",
       "  <thead>\n",
       "    <tr style=\"text-align: right;\">\n",
       "      <th></th>\n",
       "      <th>zipcode</th>\n",
       "    </tr>\n",
       "  </thead>\n",
       "  <tbody>\n",
       "    <tr>\n",
       "      <th>0</th>\n",
       "      <td>98101</td>\n",
       "    </tr>\n",
       "    <tr>\n",
       "      <th>1</th>\n",
       "      <td>98102</td>\n",
       "    </tr>\n",
       "    <tr>\n",
       "      <th>2</th>\n",
       "      <td>98103</td>\n",
       "    </tr>\n",
       "    <tr>\n",
       "      <th>3</th>\n",
       "      <td>98104</td>\n",
       "    </tr>\n",
       "    <tr>\n",
       "      <th>4</th>\n",
       "      <td>98105</td>\n",
       "    </tr>\n",
       "  </tbody>\n",
       "</table>\n",
       "</div>"
      ],
      "text/plain": [
       "  zipcode\n",
       "0   98101\n",
       "1   98102\n",
       "2   98103\n",
       "3   98104\n",
       "4   98105"
      ]
     },
     "execution_count": 2,
     "metadata": {},
     "output_type": "execute_result"
    }
   ],
   "source": [
    "# read in seattle zip csv\n",
    "seattle_zips = pd.read_csv(\"./Resources/seattle_zipcodes.csv\")\n",
    "# drop last line (citation)\n",
    "seattle_zips.drop(seattle_zips.tail(1).index,inplace=True)\n",
    "#rename column header\n",
    "seattle_zips = seattle_zips.rename(columns={\"Seattle\":\"zipcode\"})\n",
    "seattle_zips.head(5)"
   ]
  },
  {
   "cell_type": "code",
   "execution_count": null,
   "metadata": {},
   "outputs": [],
   "source": []
  },
  {
   "cell_type": "markdown",
   "metadata": {},
   "source": [
    "*Each Yelp API call will return max 50 results.  Therefore, I will do a separate query for each ethnicity, create a list of each json dictionary & append to create a \"master\" dataframe"
   ]
  },
  {
   "cell_type": "code",
   "execution_count": 3,
   "metadata": {},
   "outputs": [
    {
     "name": "stdout",
     "output_type": "stream",
     "text": [
      "180\n"
     ]
    }
   ],
   "source": [
    "# type/ethnicity of food is stored in yelp API under \"categories:alias -- MUST BE ONE WORD!\"\n",
    "ethnicity = ['chinese','french','greek','indian','italian','japanese','brazilian','mexican','new american','soul food','thai']\n",
    "# YELP base URL\n",
    "endpoint = 'https://api.yelp.com/v3/businesses/search'\n",
    "headers = {'Authorization': 'Bearer %s' % yelp_api}\n",
    "params = {\"term\": \"restaurants\", \"location\": \"seattle\", \"limit\": 50, \"categories\": \"chinese\"}\n",
    "#max results per call is 50, so add offset param (\"offset\" = 50, 100, etc.) to get full list per ethnicity\n",
    "#\"limit\": 50\n",
    "\n",
    "# Pretty Print the output of JSON data\n",
    "chinese1_response = requests.get(url=endpoint, headers=headers, params=params).json()\n",
    "chinese1_response[\"Ethnicity\"]=\"chinese\"\n",
    "print(chinese1_response[\"total\"])\n",
    "#print(json.dumps(chinese1_response, indent=4, sort_keys=True))\n"
   ]
  },
  {
   "cell_type": "code",
   "execution_count": 4,
   "metadata": {},
   "outputs": [],
   "source": [
    "# type/ethnicity of food is stored in yelp API under \"categories:alias -- MUST BE ONE WORD!\"\n",
    "#ethnicity = ['chinese','french','greek','indian','italian','japanese','brazilian','mexican','new american','soul food','thai']\n",
    "\n",
    "# YELP base URL\n",
    "endpoint = 'https://api.yelp.com/v3/businesses/search'\n",
    "headers = {'Authorization': 'Bearer %s' % yelp_api}\n",
    "params = {\"term\": \"restaurants\", \"location\": \"seattle\", \"limit\": 50, \"offset\": 50, \"categories\": \"chinese\"}\n",
    "#max results per call is 50, so add offset param (\"offset\": 50, 100, etc.) to get full list per ethnicity\n",
    "#\"limit\": 50\n",
    "\n",
    "# Pretty Print the output of JSON data\n",
    "chinese2_response = requests.get(url=endpoint, headers=headers, params=params).json()\n",
    "chinese2_response[\"Ethnicity\"]=\"chinese\"\n",
    "#print(chinese2_response[\"total\"])\n",
    "#print(json.dumps(chinese1_response, indent=4, sort_keys=True))"
   ]
  },
  {
   "cell_type": "code",
   "execution_count": 5,
   "metadata": {},
   "outputs": [],
   "source": [
    "# type/ethnicity of food is stored in yelp API under \"categories:alias -- MUST BE ONE WORD!\"\n",
    "#ethnicity = ['chinese','french','greek','indian','italian','japanese','brazilian','mexican','new american','soul food','thai']\n",
    "\n",
    "# YELP base URL\n",
    "endpoint = 'https://api.yelp.com/v3/businesses/search'\n",
    "headers = {'Authorization': 'Bearer %s' % yelp_api}\n",
    "params = {\"term\": \"restaurants\", \"location\": \"seattle\", \"limit\": 50, \"offset\": 100, \"categories\": \"chinese\"}\n",
    "#max results per call is 50, so add offset param (\"offset\": 50, 100, etc.) to get full list per ethnicity\n",
    "#\"limit\": 50\n",
    "\n",
    "# Pretty Print the output of JSON data\n",
    "chinese3_response = requests.get(url=endpoint, headers=headers, params=params).json()\n",
    "chinese3_response[\"Ethnicity\"]=\"chinese\"\n",
    "#print(chinese3_response[\"total\"])\n",
    "#print(json.dumps(chinese1_response, indent=4, sort_keys=True))"
   ]
  },
  {
   "cell_type": "code",
   "execution_count": 6,
   "metadata": {},
   "outputs": [],
   "source": [
    "# type/ethnicity of food is stored in yelp API under \"categories:alias -- MUST BE ONE WORD!\"\n",
    "#ethnicity = ['chinese','french','greek','indian','italian','japanese','brazilian','mexican','new american','soul food','thai']\n",
    "\n",
    "# YELP base URL\n",
    "endpoint = 'https://api.yelp.com/v3/businesses/search'\n",
    "headers = {'Authorization': 'Bearer %s' % yelp_api}\n",
    "params = {\"term\": \"restaurants\", \"location\": \"seattle\", \"limit\": 50, \"offset\": 150, \"categories\": \"chinese\"}\n",
    "#max results per call is 50, so add offset param (\"offset\": 50, 100, etc.) to get full list per ethnicity\n",
    "#\"limit\": 50\n",
    "\n",
    "# Pretty Print the output of JSON data\n",
    "chinese4_response = requests.get(url=endpoint, headers=headers, params=params).json()\n",
    "chinese4_response[\"Ethnicity\"]=\"chinese\"\n",
    "#print(chinese4_response[\"total\"])\n",
    "#print(json.dumps(chinese1_response, indent=4, sort_keys=True))"
   ]
  },
  {
   "cell_type": "code",
   "execution_count": 7,
   "metadata": {},
   "outputs": [
    {
     "name": "stdout",
     "output_type": "stream",
     "text": [
      "37\n"
     ]
    }
   ],
   "source": [
    "# type/ethnicity of food is stored in yelp API under \"categories:alias -- MUST BE ONE WORD!\"\n",
    "ethnicity = ['chinese','french','greek','indian','italian','japanese','brazilian','mexican','new american','soul food','thai']\n",
    "# YELP base URL\n",
    "endpoint = 'https://api.yelp.com/v3/businesses/search'\n",
    "headers = {'Authorization': 'Bearer %s' % yelp_api}\n",
    "params = {\"term\": \"restaurants\", \"location\": \"seattle\", \"limit\": 50, \"categories\": \"french\"}\n",
    "#max results per call is 50, so add offset param (\"offset\" = 50, 100, etc.) to get full list per ethnicity\n",
    "#\"limit\": 50\n",
    "\n",
    "# Pretty Print the output of JSON data\n",
    "french_response = requests.get(url=endpoint, headers=headers, params=params).json()\n",
    "french_response[\"Ethnicity\"]=\"french\"\n",
    "print(french_response[\"total\"])\n",
    "#print(json.dumps(french_response, indent=4, sort_keys=True))"
   ]
  },
  {
   "cell_type": "code",
   "execution_count": 8,
   "metadata": {},
   "outputs": [
    {
     "name": "stdout",
     "output_type": "stream",
     "text": [
      "51\n"
     ]
    }
   ],
   "source": [
    "# type/ethnicity of food is stored in yelp API under \"categories:alias -- MUST BE ONE WORD!\"\n",
    "ethnicity = ['chinese','french','greek','indian','italian','japanese','brazilian','mexican','new american','soul food','thai']\n",
    "# YELP base URL\n",
    "endpoint = 'https://api.yelp.com/v3/businesses/search'\n",
    "headers = {'Authorization': 'Bearer %s' % yelp_api}\n",
    "params = {\"term\": \"restaurants\", \"location\": \"seattle\", \"limit\": 50, \"categories\": \"greek\"}\n",
    "#max results per call is 50, so add offset param (\"offset\" = 50, 100, etc.) to get full list per ethnicity\n",
    "#\"limit\": 50\n",
    "\n",
    "# Pretty Print the output of JSON data\n",
    "greek_response = requests.get(url=endpoint, headers=headers, params=params).json()\n",
    "greek_response[\"Ethnicity\"]=\"greek\"\n",
    "print(greek_response[\"total\"])\n",
    "#print(json.dumps(greek_response, indent=4, sort_keys=True))"
   ]
  },
  {
   "cell_type": "code",
   "execution_count": 9,
   "metadata": {},
   "outputs": [],
   "source": [
    "# type/ethnicity of food is stored in yelp API under \"categories:alias -- MUST BE ONE WORD!\"\n",
    "ethnicity = ['chinese','french','greek','indian','italian','japanese','brazilian','mexican','new american','soul food','thai']\n",
    "# YELP base URL\n",
    "endpoint = 'https://api.yelp.com/v3/businesses/search'\n",
    "headers = {'Authorization': 'Bearer %s' % yelp_api}\n",
    "params = {\"term\": \"restaurants\", \"location\": \"seattle\", \"limit\": 50, \"offset\": 50, \"categories\": \"greek\"}\n",
    "#max results per call is 50, so add offset param (\"offset\" = 50, 100, etc.) to get full list per ethnicity\n",
    "#\"limit\": 50\n",
    "\n",
    "# Pretty Print the output of JSON data\n",
    "greek2_response = requests.get(url=endpoint, headers=headers, params=params).json()\n",
    "greek2_response[\"Ethnicity\"]=\"greek\"\n",
    "#print(greek2_response[\"total\"])\n",
    "#print(json.dumps(greek_response, indent=4, sort_keys=True))"
   ]
  },
  {
   "cell_type": "code",
   "execution_count": 10,
   "metadata": {},
   "outputs": [
    {
     "name": "stdout",
     "output_type": "stream",
     "text": [
      "57\n"
     ]
    }
   ],
   "source": [
    "# # type/ethnicity of food is stored in yelp API under \"categories:alias -- MUST BE ONE WORD!\"\n",
    "# ethnicity = ['chinese','french','greek','indian','italian','japanese','brazilian','mexican','new american','soul food','thai']\n",
    "# # YELP base URL\n",
    "endpoint = 'https://api.yelp.com/v3/businesses/search'\n",
    "headers = {'Authorization': 'Bearer %s' % yelp_api}\n",
    "params = {\"term\": \"restaurants\", \"location\": \"seattle\", \"limit\": 50, \"categories\": \"indpak\"}\n",
    "# #max results per call is 50, so add offset param (\"offset\" = 50, 100, etc.) to get full list per ethnicity\n",
    "# #\"limit\": 50\n",
    "\n",
    "# # Pretty Print the output of JSON data\n",
    "indian_response = requests.get(url=endpoint, headers=headers, params=params).json()\n",
    "indian_response[\"Ethnicity\"]=\"indian\"\n",
    "print(indian_response[\"total\"])\n",
    "# #print(json.dumps(indian_response, indent=4, sort_keys=True))"
   ]
  },
  {
   "cell_type": "code",
   "execution_count": 11,
   "metadata": {},
   "outputs": [],
   "source": [
    "# # type/ethnicity of food is stored in yelp API under \"categories:alias -- MUST BE ONE WORD!\"\n",
    "# ethnicity = ['chinese','french','greek','indian','italian','japanese','brazilian','mexican','new american','soul food','thai']\n",
    "# # YELP base URL\n",
    "endpoint = 'https://api.yelp.com/v3/businesses/search'\n",
    "headers = {'Authorization': 'Bearer %s' % yelp_api}\n",
    "params = {\"term\": \"restaurants\", \"location\": \"seattle\", \"limit\": 50, \"offset\": 50, \"categories\": \"indpak\"}\n",
    "# #max results per call is 50, so add offset param (\"offset\" = 50, 100, etc.) to get full list per ethnicity\n",
    "# #\"limit\": 50\n",
    "\n",
    "# # Pretty Print the output of JSON data\n",
    "indian2_response = requests.get(url=endpoint, headers=headers, params=params).json()\n",
    "indian2_response[\"Ethnicity\"]=\"indian\"\n",
    "#print(indian_response[\"total\"])\n",
    "# #print(json.dumps(indian_response, indent=4, sort_keys=True))"
   ]
  },
  {
   "cell_type": "code",
   "execution_count": 12,
   "metadata": {},
   "outputs": [
    {
     "name": "stdout",
     "output_type": "stream",
     "text": [
      "160\n"
     ]
    }
   ],
   "source": [
    "# type/ethnicity of food is stored in yelp API under \"categories:alias -- MUST BE ONE WORD!\"\n",
    "ethnicity = ['chinese','french','greek','indian','italian','japanese','brazilian','mexican','new american','soul food','thai']\n",
    "# YELP base URL\n",
    "endpoint = 'https://api.yelp.com/v3/businesses/search'\n",
    "headers = {'Authorization': 'Bearer %s' % yelp_api}\n",
    "params = {\"term\": \"restaurants\", \"location\": \"seattle\", \"limit\": 50, \"categories\": \"italian\"}\n",
    "#max results per call is 50, so add offset param (\"offset\" = 50, 100, etc.) to get full list per ethnicity\n",
    "#\"limit\": 50\n",
    "\n",
    "# Pretty Print the output of JSON data\n",
    "italian1_response = requests.get(url=endpoint, headers=headers, params=params).json()\n",
    "italian1_response[\"Ethnicity\"]=\"italian\"\n",
    "print(italian1_response[\"total\"])\n",
    "#print(json.dumps(italian1_response, indent=4, sort_keys=True))"
   ]
  },
  {
   "cell_type": "code",
   "execution_count": 13,
   "metadata": {},
   "outputs": [],
   "source": [
    "# type/ethnicity of food is stored in yelp API under \"categories:alias -- MUST BE ONE WORD!\"\n",
    "ethnicity = ['chinese','french','greek','indian','italian','japanese','brazilian','mexican','new american','soul food','thai']\n",
    "# YELP base URL\n",
    "endpoint = 'https://api.yelp.com/v3/businesses/search'\n",
    "headers = {'Authorization': 'Bearer %s' % yelp_api}\n",
    "params = {\"term\": \"restaurants\", \"location\": \"seattle\", \"limit\": 50, \"offset\": 50, \"categories\": \"italian\"}\n",
    "#max results per call is 50, so add offset param (\"offset\" = 50, 100, etc.) to get full list per ethnicity\n",
    "#\"limit\": 50\n",
    "\n",
    "# Pretty Print the output of JSON data\n",
    "italian2_response = requests.get(url=endpoint, headers=headers, params=params).json()\n",
    "italian2_response[\"Ethnicity\"]=\"italian\"\n",
    "#print(italian2_response[\"total\"])\n",
    "#print(json.dumps(italian2_response, indent=4, sort_keys=True))"
   ]
  },
  {
   "cell_type": "code",
   "execution_count": 14,
   "metadata": {},
   "outputs": [],
   "source": [
    "# type/ethnicity of food is stored in yelp API under \"categories:alias -- MUST BE ONE WORD!\"\n",
    "ethnicity = ['chinese','french','greek','indian','italian','japanese','brazilian','mexican','new american','soul food','thai']\n",
    "# YELP base URL\n",
    "endpoint = 'https://api.yelp.com/v3/businesses/search'\n",
    "headers = {'Authorization': 'Bearer %s' % yelp_api}\n",
    "params = {\"term\": \"restaurants\", \"location\": \"seattle\", \"limit\": 50, \"offset\": 100, \"categories\": \"italian\"}\n",
    "#max results per call is 50, so add offset param (\"offset\" = 50, 100, etc.) to get full list per ethnicity\n",
    "#\"limit\": 50\n",
    "\n",
    "# Pretty Print the output of JSON data\n",
    "italian3_response = requests.get(url=endpoint, headers=headers, params=params).json()\n",
    "italian3_response[\"Ethnicity\"]=\"italian\"\n",
    "#print(italian3_response[\"total\"])\n",
    "#print(json.dumps(italian3_response, indent=4, sort_keys=True))"
   ]
  },
  {
   "cell_type": "code",
   "execution_count": 15,
   "metadata": {},
   "outputs": [],
   "source": [
    "# type/ethnicity of food is stored in yelp API under \"categories:alias -- MUST BE ONE WORD!\"\n",
    "ethnicity = ['chinese','french','greek','indian','italian','japanese','brazilian','mexican','new american','soul food','thai']\n",
    "# YELP base URL\n",
    "endpoint = 'https://api.yelp.com/v3/businesses/search'\n",
    "headers = {'Authorization': 'Bearer %s' % yelp_api}\n",
    "params = {\"term\": \"restaurants\", \"location\": \"seattle\", \"limit\": 50, \"offset\": 150, \"categories\": \"italian\"}\n",
    "#max results per call is 50, so add offset param (\"offset\" = 50, 100, etc.) to get full list per ethnicity\n",
    "#\"limit\": 50\n",
    "\n",
    "# Pretty Print the output of JSON data\n",
    "italian4_response = requests.get(url=endpoint, headers=headers, params=params).json()\n",
    "italian4_response[\"Ethnicity\"]=\"italian\"\n",
    "#print(italian4_response[\"total\"])\n",
    "#print(json.dumps(italian1_response, indent=4, sort_keys=True))"
   ]
  },
  {
   "cell_type": "code",
   "execution_count": 16,
   "metadata": {},
   "outputs": [
    {
     "name": "stdout",
     "output_type": "stream",
     "text": [
      "222\n"
     ]
    }
   ],
   "source": [
    "# type/ethnicity of food is stored in yelp API under \"categories:alias -- MUST BE ONE WORD!\"\n",
    "ethnicity = ['chinese','french','greek','indian','italian','japanese','brazilian','mexican','new american','soul food','thai']\n",
    "# YELP base URL\n",
    "endpoint = 'https://api.yelp.com/v3/businesses/search'\n",
    "headers = {'Authorization': 'Bearer %s' % yelp_api}\n",
    "params = {\"term\": \"restaurants\", \"location\": \"seattle\", \"limit\": 50, \"categories\": \"japanese\"}\n",
    "#max results per call is 50, so add offset param (\"offset\": 50, 100, etc.) to get full list per ethnicity\n",
    "#\"limit\": 50\n",
    "\n",
    "# Pretty Print the output of JSON data\n",
    "japanese1_response = requests.get(url=endpoint, headers=headers, params=params).json()\n",
    "japanese1_response[\"Ethnicity\"]=\"japanese\"\n",
    "print(japanese1_response[\"total\"])\n",
    "#print(json.dumps(japanese1_response, indent=4, sort_keys=True))"
   ]
  },
  {
   "cell_type": "code",
   "execution_count": 17,
   "metadata": {},
   "outputs": [],
   "source": [
    "# type/ethnicity of food is stored in yelp API under \"categories:alias -- MUST BE ONE WORD!\"\n",
    "ethnicity = ['chinese','french','greek','indian','italian','japanese','brazilian','mexican','new american','soul food','thai']\n",
    "# YELP base URL\n",
    "endpoint = 'https://api.yelp.com/v3/businesses/search'\n",
    "headers = {'Authorization': 'Bearer %s' % yelp_api}\n",
    "params = {\"term\": \"restaurants\", \"location\": \"seattle\", \"limit\": 50, \"offset\": 50, \"categories\": \"japanese\"}\n",
    "#max results per call is 50, so add offset param (\"offset\": 50, 100, etc.) to get full list per ethnicity\n",
    "#\"limit\": 50\n",
    "\n",
    "# Pretty Print the output of JSON data\n",
    "japanese2_response = requests.get(url=endpoint, headers=headers, params=params).json()\n",
    "japanese2_response[\"Ethnicity\"]=\"japanese\"\n",
    "#print(japanese2_response[\"total\"])\n",
    "#print(json.dumps(japanese2_response, indent=4, sort_keys=True))"
   ]
  },
  {
   "cell_type": "code",
   "execution_count": 18,
   "metadata": {},
   "outputs": [],
   "source": [
    "# type/ethnicity of food is stored in yelp API under \"categories:alias -- MUST BE ONE WORD!\"\n",
    "ethnicity = ['chinese','french','greek','indian','italian','japanese','brazilian','mexican','new american','soul food','thai']\n",
    "# YELP base URL\n",
    "endpoint = 'https://api.yelp.com/v3/businesses/search'\n",
    "headers = {'Authorization': 'Bearer %s' % yelp_api}\n",
    "params = {\"term\": \"restaurants\", \"location\": \"seattle\", \"limit\": 50, \"offset\": 100, \"categories\": \"japanese\"}\n",
    "#max results per call is 50, so add offset param (\"offset\": 50, 100, etc.) to get full list per ethnicity\n",
    "#\"limit\": 50\n",
    "\n",
    "# Pretty Print the output of JSON data\n",
    "japanese3_response = requests.get(url=endpoint, headers=headers, params=params).json()\n",
    "japanese3_response[\"Ethnicity\"]=\"japanese\"\n",
    "#print(japanese3_response[\"total\"])\n",
    "#print(json.dumps(japanese1_response, indent=4, sort_keys=True))"
   ]
  },
  {
   "cell_type": "code",
   "execution_count": 19,
   "metadata": {},
   "outputs": [],
   "source": [
    "# type/ethnicity of food is stored in yelp API under \"categories:alias -- MUST BE ONE WORD!\"\n",
    "ethnicity = ['chinese','french','greek','indian','italian','japanese','brazilian','mexican','new american','soul food','thai']\n",
    "# YELP base URL\n",
    "endpoint = 'https://api.yelp.com/v3/businesses/search'\n",
    "headers = {'Authorization': 'Bearer %s' % yelp_api}\n",
    "params = {\"term\": \"restaurants\", \"location\": \"seattle\", \"limit\": 50, \"offset\": 150, \"categories\": \"japanese\"}\n",
    "#max results per call is 50, so add offset param (\"offset\": 50, 100, etc.) to get full list per ethnicity\n",
    "#\"limit\": 50\n",
    "\n",
    "# Pretty Print the output of JSON data\n",
    "japanese4_response = requests.get(url=endpoint, headers=headers, params=params).json()\n",
    "japanese4_response[\"Ethnicity\"]=\"japanese\"\n",
    "#print(japanese4_response[\"total\"])\n",
    "#print(json.dumps(japanese4_response, indent=4, sort_keys=True))"
   ]
  },
  {
   "cell_type": "code",
   "execution_count": 20,
   "metadata": {},
   "outputs": [],
   "source": [
    "# type/ethnicity of food is stored in yelp API under \"categories:alias -- MUST BE ONE WORD!\"\n",
    "ethnicity = ['chinese','french','greek','indian','italian','japanese','brazilian','mexican','new american','soul food','thai']\n",
    "# YELP base URL\n",
    "endpoint = 'https://api.yelp.com/v3/businesses/search'\n",
    "headers = {'Authorization': 'Bearer %s' % yelp_api}\n",
    "params = {\"term\": \"restaurants\", \"location\": \"seattle\", \"limit\": 50, \"offset\": 200, \"categories\": \"japanese\"}\n",
    "#max results per call is 50, so add offset param (\"offset\": 50, 100, etc.) to get full list per ethnicity\n",
    "#\"limit\": 50\n",
    "\n",
    "# Pretty Print the output of JSON data\n",
    "japanese5_response = requests.get(url=endpoint, headers=headers, params=params).json()\n",
    "japanese5_response[\"Ethnicity\"]=\"japanese\"\n",
    "#print(japanese5_response[\"total\"])\n",
    "#print(json.dumps(japanese1_response, indent=4, sort_keys=True))"
   ]
  },
  {
   "cell_type": "code",
   "execution_count": 21,
   "metadata": {},
   "outputs": [
    {
     "name": "stdout",
     "output_type": "stream",
     "text": [
      "5\n"
     ]
    }
   ],
   "source": [
    "# type/ethnicity of food is stored in yelp API under \"categories:alias -- MUST BE ONE WORD!\"\n",
    "ethnicity = ['chinese','french','greek','indian','italian','japanese','brazilian','mexican','new american','soul food','thai']\n",
    "# YELP base URL\n",
    "endpoint = 'https://api.yelp.com/v3/businesses/search'\n",
    "headers = {'Authorization': 'Bearer %s' % yelp_api}\n",
    "params = {\"term\": \"restaurants\", \"location\": \"seattle\", \"limit\": 50, \"categories\": \"brazilian\"}\n",
    "#max results per call is 50, so add offset param (\"offset\": 50, 100, etc.) to get full list per ethnicity\n",
    "#\"limit\": 50\n",
    "\n",
    "# Pretty Print the output of JSON data\n",
    "brazilian_response = requests.get(url=endpoint, headers=headers, params=params).json()\n",
    "brazilian_response[\"Ethnicity\"]=\"brazilian\"\n",
    "print(brazilian_response[\"total\"])\n",
    "#print(json.dumps(brazilian_response, indent=4, sort_keys=True))"
   ]
  },
  {
   "cell_type": "code",
   "execution_count": 22,
   "metadata": {},
   "outputs": [
    {
     "name": "stdout",
     "output_type": "stream",
     "text": [
      "150\n"
     ]
    }
   ],
   "source": [
    "# type/ethnicity of food is stored in yelp API under \"categories:alias -- MUST BE ONE WORD!\"\n",
    "ethnicity = ['chinese','french','greek','indian','italian','japanese','brazilian','mexican','new american','soul food','thai']\n",
    "# YELP base URL\n",
    "endpoint = 'https://api.yelp.com/v3/businesses/search'\n",
    "headers = {'Authorization': 'Bearer %s' % yelp_api}\n",
    "params = {\"term\": \"restaurants\", \"location\": \"seattle\", \"limit\": 50, \"categories\": \"thai\"}\n",
    "#max results per call is 50, so add offset param (\"offset\": 50, 100, etc.) to get full list per ethnicity\n",
    "#\"limit\": 50\n",
    "\n",
    "# Pretty Print the output of JSON data\n",
    "thai_response = requests.get(url=endpoint, headers=headers, params=params).json()\n",
    "thai_response[\"Ethnicity\"]=\"thai\"\n",
    "print(thai_response[\"total\"])\n",
    "#print(json.dumps(thai_response, indent=4, sort_keys=True))"
   ]
  },
  {
   "cell_type": "code",
   "execution_count": 23,
   "metadata": {},
   "outputs": [],
   "source": [
    "# type/ethnicity of food is stored in yelp API under \"categories:alias -- MUST BE ONE WORD!\"\n",
    "ethnicity = ['chinese','french','greek','indian','italian','japanese','brazilian','mexican','new american','soul food','thai']\n",
    "# YELP base URL\n",
    "endpoint = 'https://api.yelp.com/v3/businesses/search'\n",
    "headers = {'Authorization': 'Bearer %s' % yelp_api}\n",
    "params = {\"term\": \"restaurants\", \"location\": \"seattle\", \"limit\": 50, \"offset\": 50, \"categories\": \"thai\"}\n",
    "#max results per call is 50, so add offset param (\"offset\": 50, 100, etc.) to get full list per ethnicity\n",
    "#\"limit\": 50\n",
    "\n",
    "# Pretty Print the output of JSON data\n",
    "thai2_response = requests.get(url=endpoint, headers=headers, params=params).json()\n",
    "thai2_response[\"Ethnicity\"]=\"thai\"\n",
    "#print(thai2_response[\"total\"])\n",
    "#print(json.dumps(thai_response, indent=4, sort_keys=True))"
   ]
  },
  {
   "cell_type": "code",
   "execution_count": 24,
   "metadata": {},
   "outputs": [],
   "source": [
    "# type/ethnicity of food is stored in yelp API under \"categories:alias -- MUST BE ONE WORD!\"\n",
    "ethnicity = ['chinese','french','greek','indian','italian','japanese','brazilian','mexican','new american','soul food','thai']\n",
    "# YELP base URL\n",
    "endpoint = 'https://api.yelp.com/v3/businesses/search'\n",
    "headers = {'Authorization': 'Bearer %s' % yelp_api}\n",
    "params = {\"term\": \"restaurants\", \"location\": \"seattle\", \"limit\": 50, \"offset\": 100, \"categories\": \"thai\"}\n",
    "#max results per call is 50, so add offset param (\"offset\": 50, 100, etc.) to get full list per ethnicity\n",
    "#\"limit\": 50\n",
    "\n",
    "# Pretty Print the output of JSON data\n",
    "thai3_response = requests.get(url=endpoint, headers=headers, params=params).json()\n",
    "thai3_response[\"Ethnicity\"]=\"thai\"\n",
    "#print(thai3_response[\"total\"])\n",
    "#print(json.dumps(thai_response, indent=4, sort_keys=True))"
   ]
  },
  {
   "cell_type": "code",
   "execution_count": 25,
   "metadata": {},
   "outputs": [
    {
     "name": "stdout",
     "output_type": "stream",
     "text": [
      "261\n"
     ]
    }
   ],
   "source": [
    "# type/ethnicity of food is stored in yelp API under \"categories:alias -- MUST BE ONE WORD!\"\n",
    "ethnicity = ['chinese','french','greek','indian','italian','japanese','brazilian','mexican','new american','soul food','thai']\n",
    "# YELP base URL\n",
    "endpoint = 'https://api.yelp.com/v3/businesses/search'\n",
    "headers = {'Authorization': 'Bearer %s' % yelp_api}\n",
    "params = {\"term\": \"restaurants\", \"location\": \"seattle\", \"limit\": 50, \"categories\": \"mexican\"}\n",
    "#max results per call is 50, so add offset param (\"offset\": 50, 100, etc.) to get full list per ethnicity\n",
    "#\"limit\": 50\n",
    "\n",
    "# Pretty Print the output of JSON data\n",
    "mexican1_response = requests.get(url=endpoint, headers=headers, params=params).json()\n",
    "mexican1_response[\"Ethnicity\"]=\"mexican\"\n",
    "print(mexican1_response[\"total\"])\n",
    "#print(json.dumps(mexican1_response, indent=4, sort_keys=True))"
   ]
  },
  {
   "cell_type": "code",
   "execution_count": 26,
   "metadata": {},
   "outputs": [],
   "source": [
    "# type/ethnicity of food is stored in yelp API under \"categories:alias -- MUST BE ONE WORD!\"\n",
    "ethnicity = ['chinese','french','greek','indian','italian','japanese','brazilian','mexican','new american','soul food','thai']\n",
    "# YELP base URL\n",
    "endpoint = 'https://api.yelp.com/v3/businesses/search'\n",
    "headers = {'Authorization': 'Bearer %s' % yelp_api}\n",
    "params = {\"term\": \"restaurants\", \"location\": \"seattle\", \"limit\": 50, \"offset\": 50, \"categories\": \"mexican\"}\n",
    "#max results per call is 50, so add offset param (\"offset\": 50, 100, etc.) to get full list per ethnicity\n",
    "#\"limit\": 50\n",
    "\n",
    "# Pretty Print the output of JSON data\n",
    "mexican2_response = requests.get(url=endpoint, headers=headers, params=params).json()\n",
    "mexican2_response[\"Ethnicity\"]=\"mexican\"\n",
    "#print(mexican2_response[\"total\"])\n",
    "#print(json.dumps(mexican1_response, indent=4, sort_keys=True))"
   ]
  },
  {
   "cell_type": "code",
   "execution_count": 27,
   "metadata": {},
   "outputs": [],
   "source": [
    "# type/ethnicity of food is stored in yelp API under \"categories:alias -- MUST BE ONE WORD!\"\n",
    "ethnicity = ['chinese','french','greek','indian','italian','japanese','brazilian','mexican','new american','soul food','thai']\n",
    "# YELP base URL\n",
    "endpoint = 'https://api.yelp.com/v3/businesses/search'\n",
    "headers = {'Authorization': 'Bearer %s' % yelp_api}\n",
    "params = {\"term\": \"restaurants\", \"location\": \"seattle\", \"limit\": 50, \"offset\": 100, \"categories\": \"mexican\"}\n",
    "#max results per call is 50, so add offset param (\"offset\": 50, 100, etc.) to get full list per ethnicity\n",
    "#\"limit\": 50\n",
    "\n",
    "# Pretty Print the output of JSON data\n",
    "mexican3_response = requests.get(url=endpoint, headers=headers, params=params).json()\n",
    "mexican3_response[\"Ethnicity\"]=\"mexican\"\n",
    "#print(mexican3_response[\"total\"])\n",
    "#print(json.dumps(mexican1_response, indent=4, sort_keys=True))"
   ]
  },
  {
   "cell_type": "code",
   "execution_count": 28,
   "metadata": {},
   "outputs": [],
   "source": [
    "# type/ethnicity of food is stored in yelp API under \"categories:alias -- MUST BE ONE WORD!\"\n",
    "ethnicity = ['chinese','french','greek','indian','italian','japanese','brazilian','mexican','new american','soul food','thai']\n",
    "# YELP base URL\n",
    "endpoint = 'https://api.yelp.com/v3/businesses/search'\n",
    "headers = {'Authorization': 'Bearer %s' % yelp_api}\n",
    "params = {\"term\": \"restaurants\", \"location\": \"seattle\", \"limit\": 50, \"offset\": 150, \"categories\": \"mexican\"}\n",
    "#max results per call is 50, so add offset param (\"offset\": 50, 100, etc.) to get full list per ethnicity\n",
    "#\"limit\": 50\n",
    "\n",
    "# Pretty Print the output of JSON data\n",
    "mexican4_response = requests.get(url=endpoint, headers=headers, params=params).json()\n",
    "mexican4_response[\"Ethnicity\"]=\"mexican\"\n",
    "#print(mexican4_response[\"total\"])\n",
    "#print(json.dumps(mexican1_response, indent=4, sort_keys=True))"
   ]
  },
  {
   "cell_type": "code",
   "execution_count": 29,
   "metadata": {},
   "outputs": [],
   "source": [
    "# type/ethnicity of food is stored in yelp API under \"categories:alias -- MUST BE ONE WORD!\"\n",
    "ethnicity = ['chinese','french','greek','indian','italian','japanese','brazilian','mexican','new american','soul food','thai']\n",
    "# YELP base URL\n",
    "endpoint = 'https://api.yelp.com/v3/businesses/search'\n",
    "headers = {'Authorization': 'Bearer %s' % yelp_api}\n",
    "params = {\"term\": \"restaurants\", \"location\": \"seattle\", \"limit\": 50, \"offset\": 200, \"categories\": \"mexican\"}\n",
    "#max results per call is 50, so add offset param (\"offset\": 50, 100, etc.) to get full list per ethnicity\n",
    "#\"limit\": 50\n",
    "\n",
    "# Pretty Print the output of JSON data\n",
    "mexican5_response = requests.get(url=endpoint, headers=headers, params=params).json()\n",
    "mexican5_response[\"Ethnicity\"]=\"mexican\"\n",
    "#print(mexican5_response[\"total\"])\n",
    "#print(json.dumps(mexican1_response, indent=4, sort_keys=True))"
   ]
  },
  {
   "cell_type": "code",
   "execution_count": 30,
   "metadata": {},
   "outputs": [],
   "source": [
    "# type/ethnicity of food is stored in yelp API under \"categories:alias -- MUST BE ONE WORD!\"\n",
    "ethnicity = ['chinese','french','greek','indian','italian','japanese','brazilian','mexican','new american','soul food','thai']\n",
    "# YELP base URL\n",
    "endpoint = 'https://api.yelp.com/v3/businesses/search'\n",
    "headers = {'Authorization': 'Bearer %s' % yelp_api}\n",
    "params = {\"term\": \"restaurants\", \"location\": \"seattle\", \"limit\": 50, \"offset\": 250, \"categories\": \"mexican\"}\n",
    "#max results per call is 50, so add offset param (\"offset\": 50, 100, etc.) to get full list per ethnicity\n",
    "#\"limit\": 50\n",
    "\n",
    "# Pretty Print the output of JSON data\n",
    "mexican6_response = requests.get(url=endpoint, headers=headers, params=params).json()\n",
    "mexican6_response[\"Ethnicity\"]=\"mexican\"\n",
    "#print(mexican6_response[\"total\"])\n",
    "#print(json.dumps(mexican1_response, indent=4, sort_keys=True))"
   ]
  },
  {
   "cell_type": "code",
   "execution_count": 31,
   "metadata": {},
   "outputs": [
    {
     "name": "stdout",
     "output_type": "stream",
     "text": [
      "12\n"
     ]
    }
   ],
   "source": [
    "# type/ethnicity of food is stored in yelp API under \"categories:alias -- MUST BE ONE WORD!\"\n",
    "ethnicity = ['chinese','french','greek','indian','italian','japanese','brazilian','mexican','new american','soul food','thai']\n",
    "# YELP base URL\n",
    "endpoint = 'https://api.yelp.com/v3/businesses/search'\n",
    "headers = {'Authorization': 'Bearer %s' % yelp_api}\n",
    "params = {\"term\": \"restaurants\", \"location\": \"seattle\", \"limit\": 50, \"categories\": \"soulfood\"}\n",
    "#max results per call is 50, so add offset param (\"offset\": 50, 100, etc.) to get full list per ethnicity\n",
    "#\"limit\": 50\n",
    "\n",
    "# Pretty Print the output of JSON data\n",
    "soulfood_response = requests.get(url=endpoint, headers=headers, params=params).json()\n",
    "soulfood_response[\"Ethnicity\"]=\"soulfood\"\n",
    "print(soulfood_response[\"total\"])\n",
    "#print(json.dumps(soulfood_response, indent=4, sort_keys=True))"
   ]
  },
  {
   "cell_type": "code",
   "execution_count": 32,
   "metadata": {},
   "outputs": [
    {
     "name": "stdout",
     "output_type": "stream",
     "text": [
      "243\n"
     ]
    }
   ],
   "source": [
    "# type/ethnicity of food is stored in yelp API under \"categories:alias -- MUST BE ONE WORD!\"\n",
    "ethnicity = ['chinese','french','greek','indian','italian','japanese','brazilian','mexican','new american','soul food','thai']\n",
    "# YELP base URL\n",
    "endpoint = 'https://api.yelp.com/v3/businesses/search'\n",
    "headers = {'Authorization': 'Bearer %s' % yelp_api}\n",
    "params = {\"term\": \"restaurants\", \"location\": \"seattle\", \"limit\": 50, \"categories\": \"newamerican\"}\n",
    "#max results per call is 50, so add offset param (\"offset\": 50, 100, etc.) to get full list per ethnicity\n",
    "#\"limit\": 50\n",
    "\n",
    "# Pretty Print the output of JSON data\n",
    "newamerican1_response = requests.get(url=endpoint, headers=headers, params=params).json()\n",
    "newamerican1_response[\"Ethnicity\"]=\"new_american\"\n",
    "print(newamerican1_response[\"total\"])\n",
    "#print(json.dumps(newamerican1_response, indent=4, sort_keys=True))"
   ]
  },
  {
   "cell_type": "code",
   "execution_count": 33,
   "metadata": {},
   "outputs": [],
   "source": [
    "# type/ethnicity of food is stored in yelp API under \"categories:alias -- MUST BE ONE WORD!\"\n",
    "ethnicity = ['chinese','french','greek','indian','italian','japanese','brazilian','mexican','new american','soul food','thai']\n",
    "# YELP base URL\n",
    "endpoint = 'https://api.yelp.com/v3/businesses/search'\n",
    "headers = {'Authorization': 'Bearer %s' % yelp_api}\n",
    "params = {\"term\": \"restaurants\", \"location\": \"seattle\", \"limit\": 50, \"offset\": 50, \"categories\": \"newamerican\"}\n",
    "#max results per call is 50, so add offset param (\"offset\": 50, 100, etc.) to get full list per ethnicity\n",
    "#\"limit\": 50\n",
    "\n",
    "# Pretty Print the output of JSON data\n",
    "newamerican2_response = requests.get(url=endpoint, headers=headers, params=params).json()\n",
    "newamerican2_response[\"Ethnicity\"]=\"new_american\"\n",
    "#print(newamerican2_response[\"total\"])\n",
    "#print(json.dumps(newamerican1_response, indent=4, sort_keys=True))"
   ]
  },
  {
   "cell_type": "code",
   "execution_count": 34,
   "metadata": {},
   "outputs": [],
   "source": [
    "# type/ethnicity of food is stored in yelp API under \"categories:alias -- MUST BE ONE WORD!\"\n",
    "ethnicity = ['chinese','french','greek','indian','italian','japanese','brazilian','mexican','new american','soul food','thai']\n",
    "# YELP base URL\n",
    "endpoint = 'https://api.yelp.com/v3/businesses/search'\n",
    "headers = {'Authorization': 'Bearer %s' % yelp_api}\n",
    "params = {\"term\": \"restaurants\", \"location\": \"seattle\", \"limit\": 50, \"offset\": 100, \"categories\": \"newamerican\"}\n",
    "#max results per call is 50, so add offset param (\"offset\": 50, 100, etc.) to get full list per ethnicity\n",
    "#\"limit\": 50\n",
    "\n",
    "# Pretty Print the output of JSON data\n",
    "newamerican3_response = requests.get(url=endpoint, headers=headers, params=params).json()\n",
    "newamerican3_response[\"Ethnicity\"]=\"new_american\"\n",
    "#print(newamerican3_response[\"total\"])\n",
    "#print(json.dumps(newamerican1_response, indent=4, sort_keys=True))"
   ]
  },
  {
   "cell_type": "code",
   "execution_count": 35,
   "metadata": {},
   "outputs": [],
   "source": [
    "# type/ethnicity of food is stored in yelp API under \"categories:alias -- MUST BE ONE WORD!\"\n",
    "ethnicity = ['chinese','french','greek','indian','italian','japanese','brazilian','mexican','new american','soul food','thai']\n",
    "# YELP base URL\n",
    "endpoint = 'https://api.yelp.com/v3/businesses/search'\n",
    "headers = {'Authorization': 'Bearer %s' % yelp_api}\n",
    "params = {\"term\": \"restaurants\", \"location\": \"seattle\", \"limit\": 50, \"offset\": 150, \"categories\": \"newamerican\"}\n",
    "#max results per call is 50, so add offset param (\"offset\": 50, 100, etc.) to get full list per ethnicity\n",
    "#\"limit\": 50\n",
    "\n",
    "# Pretty Print the output of JSON data\n",
    "newamerican4_response = requests.get(url=endpoint, headers=headers, params=params).json()\n",
    "newamerican4_response[\"Ethnicity\"]=\"new_american\"\n",
    "#print(newamerican4_response[\"total\"])\n",
    "#print(json.dumps(newamerican1_response, indent=4, sort_keys=True))"
   ]
  },
  {
   "cell_type": "code",
   "execution_count": 36,
   "metadata": {},
   "outputs": [],
   "source": [
    "# type/ethnicity of food is stored in yelp API under \"categories:alias -- MUST BE ONE WORD!\"\n",
    "ethnicity = ['chinese','french','greek','indian','italian','japanese','brazilian','mexican','new american','soul food','thai']\n",
    "# YELP base URL\n",
    "endpoint = 'https://api.yelp.com/v3/businesses/search'\n",
    "headers = {'Authorization': 'Bearer %s' % yelp_api}\n",
    "params = {\"term\": \"restaurants\", \"location\": \"seattle\", \"limit\": 50, \"offset\": 200, \"categories\": \"newamerican\"}\n",
    "#max results per call is 50, so add offset param (\"offset\": 50, 100, etc.) to get full list per ethnicity\n",
    "#\"limit\": 50\n",
    "\n",
    "# Pretty Print the output of JSON data\n",
    "newamerican5_response = requests.get(url=endpoint, headers=headers, params=params).json()\n",
    "newamerican5_response[\"Ethnicity\"]=\"new_american\"\n",
    "#print(newamerican5_response[\"total\"])\n",
    "#print(json.dumps(newamerican1_response, indent=4, sort_keys=True))"
   ]
  },
  {
   "cell_type": "code",
   "execution_count": 37,
   "metadata": {},
   "outputs": [],
   "source": [
    "# list of json response dictionaries\n",
    "seattle_yelp = [chinese1_response, \n",
    "               chinese2_response, \n",
    "                chinese3_response, \n",
    "                chinese4_response,\n",
    "               french_response, \n",
    "               greek_response, \n",
    "                greek2_response,\n",
    "               indian_response,\n",
    "                indian2_response,\n",
    "               italian1_response, \n",
    "               italian2_response, \n",
    "               italian3_response, \n",
    "                italian4_response,\n",
    "               japanese1_response, \n",
    "               japanese2_response, \n",
    "                japanese3_response, \n",
    "                japanese4_response,\n",
    "                japanese5_response,\n",
    "               brazilian_response,\n",
    "               thai_response, \n",
    "                thai2_response, \n",
    "                thai3_response,\n",
    "               soulfood_response, \n",
    "               newamerican1_response,\n",
    "               newamerican2_response,\n",
    "               newamerican3_response, \n",
    "               newamerican4_response,\n",
    "                newamerican5_response,\n",
    "               mexican1_response, \n",
    "                mexican2_response,\n",
    "                mexican3_response,\n",
    "                mexican4_response,\n",
    "                mexican5_response, \n",
    "                mexican6_response]"
   ]
  },
  {
   "cell_type": "code",
   "execution_count": 38,
   "metadata": {},
   "outputs": [],
   "source": [
    "# create empty lists for data\n",
    "name = []\n",
    "city = []\n",
    "latitude = []\n",
    "longitude = []\n",
    "zipcode = []\n",
    "ethnicity = []\n",
    "price = []\n",
    "rating = []\n",
    "\n",
    "for i in range(len(seattle_yelp)):\n",
    "    for j in range(len(seattle_yelp[i]['businesses'])):\n",
    "        name.append(seattle_yelp[i][\"businesses\"][j][\"name\"])\n",
    "        city.append(\"Seattle\")\n",
    "        latitude.append(seattle_yelp[i][\"businesses\"][j][\"coordinates\"][\"latitude\"])\n",
    "        longitude.append(seattle_yelp[i][\"businesses\"][j][\"coordinates\"][\"longitude\"])\n",
    "        zipcode.append(seattle_yelp[i][\"businesses\"][j][\"location\"][\"zip_code\"])\n",
    "        ethnicity.append((seattle_yelp[i]['Ethnicity']))\n",
    "        try:\n",
    "            price.append(seattle_yelp[i][\"businesses\"][j][\"price\"])\n",
    "        except KeyError:\n",
    "            price.append(\"N/A\")\n",
    "        rating.append(seattle_yelp[i][\"businesses\"][j][\"rating\"])"
   ]
  },
  {
   "cell_type": "code",
   "execution_count": 39,
   "metadata": {},
   "outputs": [
    {
     "name": "stdout",
     "output_type": "stream",
     "text": [
      "1378\n",
      "1378\n",
      "1378\n",
      "1378\n",
      "1378\n",
      "1378\n"
     ]
    }
   ],
   "source": [
    "print(len(name))\n",
    "print(len(city))\n",
    "print(len(latitude))\n",
    "print(len(longitude))\n",
    "print(len(zipcode))\n",
    "print(len(rating))"
   ]
  },
  {
   "cell_type": "code",
   "execution_count": 40,
   "metadata": {},
   "outputs": [],
   "source": [
    "# create dictionary for restaurant data\n",
    "restaurant_dict = {\n",
    "    \"name\": name,\n",
    "    \"city\": city,\n",
    "    \"latitude\": latitude,\n",
    "    \"longitude\": longitude,\n",
    "    \"zipcode\": zipcode,\n",
    "    \"ethnicity\": ethnicity,\n",
    "    \"price\": price,\n",
    "    \"rating\": rating}"
   ]
  },
  {
   "cell_type": "code",
   "execution_count": 41,
   "metadata": {},
   "outputs": [
    {
     "data": {
      "text/html": [
       "<div>\n",
       "<style scoped>\n",
       "    .dataframe tbody tr th:only-of-type {\n",
       "        vertical-align: middle;\n",
       "    }\n",
       "\n",
       "    .dataframe tbody tr th {\n",
       "        vertical-align: top;\n",
       "    }\n",
       "\n",
       "    .dataframe thead th {\n",
       "        text-align: right;\n",
       "    }\n",
       "</style>\n",
       "<table border=\"1\" class=\"dataframe\">\n",
       "  <thead>\n",
       "    <tr style=\"text-align: right;\">\n",
       "      <th></th>\n",
       "      <th>name</th>\n",
       "      <th>city</th>\n",
       "      <th>latitude</th>\n",
       "      <th>longitude</th>\n",
       "      <th>zipcode</th>\n",
       "      <th>ethnicity</th>\n",
       "      <th>price</th>\n",
       "      <th>rating</th>\n",
       "    </tr>\n",
       "  </thead>\n",
       "  <tbody>\n",
       "    <tr>\n",
       "      <th>0</th>\n",
       "      <td>A + Hong Kong Kitchen</td>\n",
       "      <td>Seattle</td>\n",
       "      <td>47.598540</td>\n",
       "      <td>-122.326520</td>\n",
       "      <td>98104</td>\n",
       "      <td>chinese</td>\n",
       "      <td>$</td>\n",
       "      <td>4.0</td>\n",
       "    </tr>\n",
       "    <tr>\n",
       "      <th>1</th>\n",
       "      <td>Din Tai Fung</td>\n",
       "      <td>Seattle</td>\n",
       "      <td>47.612517</td>\n",
       "      <td>-122.335410</td>\n",
       "      <td>98101</td>\n",
       "      <td>chinese</td>\n",
       "      <td>$$</td>\n",
       "      <td>4.0</td>\n",
       "    </tr>\n",
       "    <tr>\n",
       "      <th>2</th>\n",
       "      <td>Harbor City Restaurant</td>\n",
       "      <td>Seattle</td>\n",
       "      <td>47.598210</td>\n",
       "      <td>-122.323390</td>\n",
       "      <td>98104</td>\n",
       "      <td>chinese</td>\n",
       "      <td>$$</td>\n",
       "      <td>4.0</td>\n",
       "    </tr>\n",
       "    <tr>\n",
       "      <th>3</th>\n",
       "      <td>Dough Zone</td>\n",
       "      <td>Seattle</td>\n",
       "      <td>47.597880</td>\n",
       "      <td>-122.327490</td>\n",
       "      <td>98104</td>\n",
       "      <td>chinese</td>\n",
       "      <td>$$</td>\n",
       "      <td>4.0</td>\n",
       "    </tr>\n",
       "    <tr>\n",
       "      <th>4</th>\n",
       "      <td>19 GOLD</td>\n",
       "      <td>Seattle</td>\n",
       "      <td>47.651839</td>\n",
       "      <td>-122.350314</td>\n",
       "      <td>98103</td>\n",
       "      <td>chinese</td>\n",
       "      <td>$$</td>\n",
       "      <td>4.5</td>\n",
       "    </tr>\n",
       "    <tr>\n",
       "      <th>...</th>\n",
       "      <td>...</td>\n",
       "      <td>...</td>\n",
       "      <td>...</td>\n",
       "      <td>...</td>\n",
       "      <td>...</td>\n",
       "      <td>...</td>\n",
       "      <td>...</td>\n",
       "      <td>...</td>\n",
       "    </tr>\n",
       "    <tr>\n",
       "      <th>1373</th>\n",
       "      <td>Taco Time</td>\n",
       "      <td>Seattle</td>\n",
       "      <td>47.711987</td>\n",
       "      <td>-122.186876</td>\n",
       "      <td>98034</td>\n",
       "      <td>mexican</td>\n",
       "      <td>$</td>\n",
       "      <td>3.5</td>\n",
       "    </tr>\n",
       "    <tr>\n",
       "      <th>1374</th>\n",
       "      <td>Jack in the Box</td>\n",
       "      <td>Seattle</td>\n",
       "      <td>47.720318</td>\n",
       "      <td>-122.345448</td>\n",
       "      <td>98133</td>\n",
       "      <td>mexican</td>\n",
       "      <td>$</td>\n",
       "      <td>2.0</td>\n",
       "    </tr>\n",
       "    <tr>\n",
       "      <th>1375</th>\n",
       "      <td>Chipotle Mexican Grill</td>\n",
       "      <td>Seattle</td>\n",
       "      <td>47.560212</td>\n",
       "      <td>-122.386614</td>\n",
       "      <td>98116</td>\n",
       "      <td>mexican</td>\n",
       "      <td>$</td>\n",
       "      <td>2.5</td>\n",
       "    </tr>\n",
       "    <tr>\n",
       "      <th>1376</th>\n",
       "      <td>Taco Del Mar</td>\n",
       "      <td>Seattle</td>\n",
       "      <td>47.616689</td>\n",
       "      <td>-122.204980</td>\n",
       "      <td>98004</td>\n",
       "      <td>mexican</td>\n",
       "      <td>$</td>\n",
       "      <td>3.0</td>\n",
       "    </tr>\n",
       "    <tr>\n",
       "      <th>1377</th>\n",
       "      <td>Chipotle Mexican Grill</td>\n",
       "      <td>Seattle</td>\n",
       "      <td>47.613550</td>\n",
       "      <td>-122.199784</td>\n",
       "      <td>98004</td>\n",
       "      <td>mexican</td>\n",
       "      <td>$</td>\n",
       "      <td>3.0</td>\n",
       "    </tr>\n",
       "  </tbody>\n",
       "</table>\n",
       "<p>1378 rows × 8 columns</p>\n",
       "</div>"
      ],
      "text/plain": [
       "                        name     city   latitude   longitude zipcode  \\\n",
       "0      A + Hong Kong Kitchen  Seattle  47.598540 -122.326520   98104   \n",
       "1               Din Tai Fung  Seattle  47.612517 -122.335410   98101   \n",
       "2     Harbor City Restaurant  Seattle  47.598210 -122.323390   98104   \n",
       "3                 Dough Zone  Seattle  47.597880 -122.327490   98104   \n",
       "4                    19 GOLD  Seattle  47.651839 -122.350314   98103   \n",
       "...                      ...      ...        ...         ...     ...   \n",
       "1373               Taco Time  Seattle  47.711987 -122.186876   98034   \n",
       "1374         Jack in the Box  Seattle  47.720318 -122.345448   98133   \n",
       "1375  Chipotle Mexican Grill  Seattle  47.560212 -122.386614   98116   \n",
       "1376            Taco Del Mar  Seattle  47.616689 -122.204980   98004   \n",
       "1377  Chipotle Mexican Grill  Seattle  47.613550 -122.199784   98004   \n",
       "\n",
       "     ethnicity price  rating  \n",
       "0      chinese     $     4.0  \n",
       "1      chinese    $$     4.0  \n",
       "2      chinese    $$     4.0  \n",
       "3      chinese    $$     4.0  \n",
       "4      chinese    $$     4.5  \n",
       "...        ...   ...     ...  \n",
       "1373   mexican     $     3.5  \n",
       "1374   mexican     $     2.0  \n",
       "1375   mexican     $     2.5  \n",
       "1376   mexican     $     3.0  \n",
       "1377   mexican     $     3.0  \n",
       "\n",
       "[1378 rows x 8 columns]"
      ]
     },
     "execution_count": 41,
     "metadata": {},
     "output_type": "execute_result"
    }
   ],
   "source": [
    "# create dataframe from dictionary data\n",
    "seattle_restaurants = pd.DataFrame(restaurant_dict)\n",
    "seattle_restaurants"
   ]
  },
  {
   "cell_type": "code",
   "execution_count": 42,
   "metadata": {},
   "outputs": [],
   "source": [
    "# export to CSV\n",
    "seattle_restaurants.to_csv('./Output/Data/seattle_restaurants.csv', index=None, header=True)"
   ]
  },
  {
   "cell_type": "code",
   "execution_count": null,
   "metadata": {},
   "outputs": [],
   "source": []
  }
 ],
 "metadata": {
  "kernelspec": {
   "display_name": "Python [conda env:PythonData] *",
   "language": "python",
   "name": "conda-env-PythonData-py"
  },
  "language_info": {
   "codemirror_mode": {
    "name": "ipython",
    "version": 3
   },
   "file_extension": ".py",
   "mimetype": "text/x-python",
   "name": "python",
   "nbconvert_exporter": "python",
   "pygments_lexer": "ipython3",
   "version": "3.6.10"
  }
 },
 "nbformat": 4,
 "nbformat_minor": 4
}
